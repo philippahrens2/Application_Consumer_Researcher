{
 "cells": [
  {
   "cell_type": "markdown",
   "metadata": {},
   "source": [
    "# Does the amount of online reviews, the review rating, the review comment count and the tone of expressed sentiment on Amazon.com predict online sales for head-mounted VR devices from Playstation?”"
   ]
  },
  {
   "cell_type": "markdown",
   "metadata": {},
   "source": [
    "Philipp Ahrens - 11359420"
   ]
  },
  {
   "cell_type": "markdown",
   "metadata": {},
   "source": [
    "In highly dynamic and innovative markets, such as for consumer electronics, it’s difficult to face the challenges of the competitive business environments. In order to plan resources as well as position themselves intelligently on the market, companies need to forecast their sales as accurate as possible. Although the market for head-mounted VR is continuously growing, as relatively recent market participant Playstation experienced difficulties predicting future consumer behaviour. Both HTC and Oculus are strong competitors on this market (Canalys, 2017). In addition, consumers rather slow adoption of Virtual Reality make accurate predictions about  future market development difficult and poses the challenge to adapt to the situation.\n",
    "Fortunately, the internet provides Playstation with large amounts of publicly accessible data in form of product evaluations created by their customers. The growing amount of online sales indulged an extensive range of structured and unstructured consumer feedback, which is usually expressed in form of online reviews. Since consumer perceive those electronic word-of-mouth as highly trustworthy source, second most important after recommendations of friends or relatives, valuable insights can be derived from this data (Lee & Youn, 2009). Online reviews are a special variant of traditional word-of-mouth (WOM) and can be defined as “any positive or negative statement made by potential, actual or former costumer about a product or company, which is made available to a multitude of people and institutions via the internet” (Henning-Thureau, Gwinner & Walsh, 2004). On the one side, online reviews are helpful for consumers to communicate with the producer as well as to gain knowledge and take educated purchase decisions about certain product or services. On the other hand, companies can derive predict future consumer behaviour and preferences without relying on traditional consumer research (Chatterjee, 2001). Nowadays, online reviews are available for almost every kind of product, on plenty of different platforms and, with some technological knowledge, can easily be scraped in an internal database. Beside the product experience, which is expressed in the actual sentiment, online reviews often contain additional information, such as an overall satisfaction rating as well as a helpfulness rating about the quality of the online review itself. Mostly, a star rating expresses the overall satisfaction of the costumer with the product, while the helpfulness rating is made by users to indicate the informativeness for other costumers. Also, the amount of online reviews is an indicator of a products popularity. Nevertheless, in order to understand future consumer behaviour, the ampleness and complexity of this structured and unstructured data is difficult for Playstation. Therefore, this research aims to examine whether online reviews can be a sufficient predictor for online sales for head-mounted VR devices. This leads to the research question RQ: “Does the amount of online reviews, the review rating, the review comment count and the tone of expressed sentiment on Amazon.com predict online sales for head-mounted VR devices from Playstation?”.\n"
   ]
  },
  {
   "cell_type": "markdown",
   "metadata": {},
   "source": [
    "#### Hypotheses\n",
    "H1: “A positive sentiment score of online reviews has an increasing effect on VR-device sales of Playstation.\""
   ]
  },
  {
   "cell_type": "markdown",
   "metadata": {},
   "source": [
    "H2: “The rating of online reviews has a greater influence on VR device sales of Playstation VR than the helpfulness rating of online reviews”."
   ]
  },
  {
   "cell_type": "markdown",
   "metadata": {
    "collapsed": true
   },
   "source": [
    "H3: \"The sentiment score of online reviews has a stronger effect on Playstation VR sales than the online rating of online reviews.\""
   ]
  },
  {
   "cell_type": "markdown",
   "metadata": {},
   "source": [
    "H4: \"For the Playstation VR the amount of reviews per month has a stronger positive effect on sales than for the HTC Vive.\""
   ]
  },
  {
   "cell_type": "markdown",
   "metadata": {},
   "source": [
    "# 1. Loading Packages"
   ]
  },
  {
   "cell_type": "code",
   "execution_count": 1,
   "metadata": {
    "collapsed": true
   },
   "outputs": [],
   "source": [
    "from lxml import html"
   ]
  },
  {
   "cell_type": "code",
   "execution_count": 2,
   "metadata": {
    "collapsed": true
   },
   "outputs": [],
   "source": [
    "import pandas as pd"
   ]
  },
  {
   "cell_type": "code",
   "execution_count": 3,
   "metadata": {
    "collapsed": true
   },
   "outputs": [],
   "source": [
    "import json"
   ]
  },
  {
   "cell_type": "code",
   "execution_count": 4,
   "metadata": {
    "collapsed": true
   },
   "outputs": [],
   "source": [
    "import numpy as np"
   ]
  },
  {
   "cell_type": "code",
   "execution_count": 5,
   "metadata": {
    "collapsed": true
   },
   "outputs": [],
   "source": [
    "import requests"
   ]
  },
  {
   "cell_type": "code",
   "execution_count": 6,
   "metadata": {
    "collapsed": true
   },
   "outputs": [],
   "source": [
    "import json,re"
   ]
  },
  {
   "cell_type": "code",
   "execution_count": 7,
   "metadata": {
    "collapsed": true
   },
   "outputs": [],
   "source": [
    "from dateutil import parser as dateparser"
   ]
  },
  {
   "cell_type": "code",
   "execution_count": 8,
   "metadata": {
    "collapsed": true
   },
   "outputs": [],
   "source": [
    "from time import sleep"
   ]
  },
  {
   "cell_type": "code",
   "execution_count": 9,
   "metadata": {
    "collapsed": true
   },
   "outputs": [],
   "source": [
    "import pickle"
   ]
  },
  {
   "cell_type": "code",
   "execution_count": 10,
   "metadata": {
    "collapsed": true
   },
   "outputs": [],
   "source": [
    "import seaborn as sns"
   ]
  },
  {
   "cell_type": "code",
   "execution_count": 11,
   "metadata": {
    "collapsed": true
   },
   "outputs": [],
   "source": [
    "import time"
   ]
  },
  {
   "cell_type": "code",
   "execution_count": 12,
   "metadata": {
    "collapsed": true
   },
   "outputs": [],
   "source": [
    "import datetime"
   ]
  },
  {
   "cell_type": "code",
   "execution_count": 13,
   "metadata": {
    "collapsed": true
   },
   "outputs": [],
   "source": [
    "import matplotlib.pyplot as plt"
   ]
  },
  {
   "cell_type": "code",
   "execution_count": 14,
   "metadata": {
    "collapsed": true
   },
   "outputs": [],
   "source": [
    "import matplotlib as mat"
   ]
  },
  {
   "cell_type": "code",
   "execution_count": 15,
   "metadata": {
    "collapsed": true
   },
   "outputs": [],
   "source": [
    "from scipy import stats, integrate\n",
    "%matplotlib inline"
   ]
  },
  {
   "cell_type": "markdown",
   "metadata": {},
   "source": [
    "# 2. Data Collection - Scraping Amazon Reviews"
   ]
  },
  {
   "cell_type": "code",
   "execution_count": 16,
   "metadata": {
    "collapsed": true
   },
   "outputs": [],
   "source": [
    "reviews_list = []"
   ]
  },
  {
   "cell_type": "code",
   "execution_count": 17,
   "metadata": {},
   "outputs": [
    {
     "ename": "IndentationError",
     "evalue": "unexpected indent (<ipython-input-17-4aa50162f28d>, line 3)",
     "output_type": "error",
     "traceback": [
      "\u001b[0;36m  File \u001b[0;32m\"<ipython-input-17-4aa50162f28d>\"\u001b[0;36m, line \u001b[0;32m3\u001b[0m\n\u001b[0;31m    amazon_url  = 'https://www.amazon.com/Oculus-Touch-Virtual-Reality-System-pc/product-reviews/'+asin\u001b[0m\n\u001b[0m    ^\u001b[0m\n\u001b[0;31mIndentationError\u001b[0m\u001b[0;31m:\u001b[0m unexpected indent\n"
     ]
    }
   ],
   "source": [
    "\n",
    "##def ParseReviews(asin):\n",
    "    amazon_url  = 'https://www.amazon.com/product-reviews/'+asin\n",
    "    headers = {'User-Agent': 'Mozilla/5.0 (X11; Linux x86_64) AppleWebKit/537.36 (KHTML, like Gecko) Chrome/42.0.2311.90 Safari/537.36'}\n",
    "    page = requests.get(amazon_url, headers = headers, verify = False)\n",
    "    page_response = page.text\n",
    "    \n",
    "    parser = html.fromstring(page_response)\n",
    "    XPATH_AGGREGATE = '//span[@id=\"acrCustomerReviewText\"]' \n",
    "    XPATH_REVIEW_SECTION_1 = '//div[contains(@id,\"reviews-summary\")]'\n",
    "    XPATH_REVIEW_SECTION_2 = '//div[@data-hook=\"review\"]'\n",
    "    \n",
    "    XPATH_AGGREGATE_RATING = '//table[@id=\"histogramTable\"]//tr'\n",
    "    XPATH_PRODUCT_NAME = '//h1//span[@id=\"productTitle\"]//text()'\n",
    "    XPATH_PRODUCT_PRICE  = '//span[@id=\"priceblock_ourprice\"]/text()'\n",
    "    \n",
    "    raw_product_price = parser.xpath(XPATH_PRODUCT_PRICE)\n",
    "    product_price = ''.join(raw_product_price).replace(',','')\n",
    "    \n",
    "    raw_product_name = parser.xpath(XPATH_PRODUCT_NAME)\n",
    "    product_name = ''.join(raw_product_name).strip()\n",
    "    total_ratings  = parser.xpath(XPATH_AGGREGATE_RATING)\n",
    "    reviews = parser.xpath(XPATH_REVIEW_SECTION_1)\n",
    "    if not reviews:\n",
    "        reviews = parser.xpath(XPATH_REVIEW_SECTION_2)\n",
    "    ratings_dict = {}\n",
    "    ratings_dict = {}\n",
    "    \n",
    "    if not reviews:\n",
    "        raise ValueError('unable to find reviews in page')\n",
    "    \n",
    "    for ratings in total_ratings:\n",
    "        extracted_rating = ratings.xpath('./td//a//text()')\n",
    "        if extracted_rating:\n",
    "            rating_key = extracted_rating[0]\n",
    "            raw_raing_value = extracted_rating[1]\n",
    "            rating_value = raw_raing_value\n",
    "            if rating_key:\n",
    "                ratings_dict.update({rating_key:rating_value})\n",
    "    \n",
    "    for review in reviews:\n",
    "        XPATH_RATING  = './/i[@data-hook=\"review-star-rating\"]//text()'\n",
    "        XPATH_REVIEW_HEADER = './/a[@data-hook=\"review-title\"]//text()'\n",
    "        XPATH_REVIEW_POSTED_DATE = './/span[@data-hook=\"review-date\"]//text()'\n",
    "        XPATH_REVIEW_TEXT_1 = './/span[@data-hook=\"review-body\"]//text()' # changed\n",
    "        XPATH_REVIEW_TEXT_2 = './/div//span[@data-action=\"columnbalancing-showfullreview\"]/@data-columnbalancing-showfullreview'\n",
    "        XPATH_REVIEW_COMMENTS = './/span[@class=\"review-comment-total aok-hidden\"]//text()'\n",
    "\n",
    "        \n",
    "        XPATH_AUTHOR  = './/a[@data-hook=\"review-author\"]//text()'\n",
    "        XPATH_REVIEW_TEXT_3  = './/div[contains(@id,\"dpReviews\")]/div/text()'\n",
    "        \n",
    "        raw_review_author = review.xpath(XPATH_AUTHOR)\n",
    "        raw_review_rating = review.xpath(XPATH_RATING)\n",
    "        raw_review_header = review.xpath(XPATH_REVIEW_HEADER)\n",
    "        raw_review_posted_date = review.xpath(XPATH_REVIEW_POSTED_DATE)\n",
    "        raw_review_text1 = review.xpath(XPATH_REVIEW_TEXT_1)\n",
    "        raw_review_text2 = review.xpath(XPATH_REVIEW_TEXT_2)\n",
    "        raw_review_text3 = review.xpath(XPATH_REVIEW_TEXT_3)\n",
    "        \n",
    "        author = ' '.join(' '.join(raw_review_author).split())\n",
    "        review_rating = ''.join(raw_review_rating).replace('out of 5 stars','')\n",
    "        review_header = ' '.join(' '.join(raw_review_header).split())\n",
    "        \n",
    "        try:\n",
    "            review_posted_date = dateparser.parse(''.join(raw_review_posted_date)).strftime('%d %b %Y')\n",
    "        \n",
    "        except:\n",
    "            review_posted_date = None\n",
    "        review_text = ' '.join(' '.join(raw_review_text1).split())\n",
    "        \n",
    "        if raw_review_text2:\n",
    "            json_loaded_review_data = json.loads(raw_review_text2[0])\n",
    "            json_loaded_review_data_text = json_loaded_review_data['rest']\n",
    "            cleaned_json_loaded_review_data_text = re.sub('<.*?>','',json_loaded_review_data_text)\n",
    "            full_review_text = review_text+cleaned_json_loaded_review_data_text\n",
    "        else: \n",
    "            full_review_text = review_text\n",
    "        if  not raw_review_text1:\n",
    "            full_review_text = review_text\n",
    "            \n",
    "        raw_review_comments = review.xpath(XPATH_REVIEW_COMMENTS)\n",
    "        review_comments = ''.join(raw_review_comments)\n",
    "        review_comments = re.sub('[A-Za-z]','',review_comments).strip()\n",
    "        review_dict = {\n",
    "                            'review_comment_count':review_comments,\n",
    "                            'review_text':full_review_text,\n",
    "                            'review_posted_date':review_posted_date,\n",
    "                            'review_header':review_header,\n",
    "                            'review_rating':review_rating,\n",
    "                            'review_author':author\n",
    "                            \n",
    "                            \n",
    "            \n",
    "                            }\n",
    "        \n",
    "        reviews_list.append(review_dict)\n",
    "        \n",
    "        \n",
    "    data = {\n",
    "                    'ratings':ratings_dict,\n",
    "                    'reviews':reviews_list,\n",
    "                    'reviews':reviews_list,\n",
    "                    'price':product_price,\n",
    "                    'name':product_name\n",
    "                  }\n",
    "    return data\n",
    "\n"
   ]
  },
  {
   "cell_type": "code",
   "execution_count": 18,
   "metadata": {},
   "outputs": [
    {
     "ename": "IndentationError",
     "evalue": "unexpected indent (<ipython-input-18-f2ce6dc065ae>, line 8)",
     "output_type": "error",
     "traceback": [
      "\u001b[0;36m  File \u001b[0;32m\"<ipython-input-18-f2ce6dc065ae>\"\u001b[0;36m, line \u001b[0;32m8\u001b[0m\n\u001b[0;31m    print(\"Downloading https://www.amazon.com/dp/\"+asin)\u001b[0m\n\u001b[0m    ^\u001b[0m\n\u001b[0;31mIndentationError\u001b[0m\u001b[0;31m:\u001b[0m unexpected indent\n"
     ]
    }
   ],
   "source": [
    "AsinList = [''] ## product asin number on Amazon page, necessary as identifier in the url\n",
    "numpages = 200 ## number of pages that should be scraped, if wanted can be adjusted to the amount thats available on the Amazon product page\n",
    "extracted_data = []\n",
    "results = pd.DataFrame()\n",
    "\n",
    "\n",
    "##for asin in AsinList:\n",
    "    print(\"Downloading https://www.amazon.com/dp/\"+asin)\n",
    "    reviews = ParseReviews(asin)\n",
    "    extracted_data.append(reviews)\n",
    "    results = results.append(reviews['reviews'])\n",
    "    results.to_pickle(asin+'_dataframe.pkl')\n",
    "    counter = 1\n",
    "    time.sleep(5)\n",
    "    while counter < numpages:\n",
    "        print(\"Downloading page\", counter +1)\n",
    "        page = asin + '/ref=cm_cr_getr_d_paging_btm_'+str(counter+1)+'?pageNumber='+str(counter+1)\n",
    "        print('page https://www.amazon.com/dp/'+page)\n",
    "        reviews = ParseReviews(page)\n",
    "        extracted_data.append(reviews)\n",
    "        results = results.append(reviews['reviews'])\n",
    "        results.to_pickle(asin+'_dataframe_PhilippAhrens.pkl')\n",
    "        time.sleep(5)\n",
    "        counter += 1\n",
    "\n",
    "f = open('test.json','w')\n",
    "json.dump(extracted_data,f,indent=4)\n",
    "\n"
   ]
  },
  {
   "cell_type": "markdown",
   "metadata": {},
   "source": [
    "Scraper for downloading online reviews (review text, review rating, review comment count, review date, review author) from the relevant Amazon product page for the VR device of Playstation (ASIN = B01DE9DY8S), Oculus (ASIN = B073X8N1YW) and HTC (ASIN = B00VF5NT4I). The scraper is commented out, since I included the raw review files in the assignment upload. If you want to scrape the products separately, then the ## needs to be removed and the ASIN number included in the 'AsinList' variable."
   ]
  },
  {
   "cell_type": "markdown",
   "metadata": {},
   "source": [
    "# 3. Data Cleaning"
   ]
  },
  {
   "cell_type": "markdown",
   "metadata": {},
   "source": [
    "## 3.1 Cleaning & Storing Amazon Reviews"
   ]
  },
  {
   "cell_type": "markdown",
   "metadata": {},
   "source": [
    "### 3.1.1 Oculus Rift"
   ]
  },
  {
   "cell_type": "code",
   "execution_count": 19,
   "metadata": {
    "collapsed": true
   },
   "outputs": [],
   "source": [
    "results_oculus_rift = pd.read_pickle ('B073X8N1YW_dataframe_PhilippAhrens.pkl') ##before downloading the Playstation VR reviews I had to restart the jupyter notebook, otherwise the online reviews for Oculus Rift were somehow also included when storing them. I couldn't figure out how to do it without restart.  "
   ]
  },
  {
   "cell_type": "code",
   "execution_count": 20,
   "metadata": {
    "collapsed": true
   },
   "outputs": [],
   "source": [
    "results_oculus_rift = results_oculus_rift.drop_duplicates(subset=['review_text', 'review_author'], keep='first', inplace=False) ## create an ID for each review based on the text, then drop the duplicates"
   ]
  },
  {
   "cell_type": "code",
   "execution_count": 21,
   "metadata": {
    "collapsed": true
   },
   "outputs": [],
   "source": [
    "results_oculus_rift['product_name']='Oculus Rift' ##assigning the product name to identify the reviews after merging"
   ]
  },
  {
   "cell_type": "code",
   "execution_count": 22,
   "metadata": {
    "collapsed": true
   },
   "outputs": [],
   "source": [
    "results_oculus_rift.to_pickle('Oculus_Rift_B073X8N1YW_dataframe_FINAL.pkl') ##saving results to pickle file"
   ]
  },
  {
   "cell_type": "markdown",
   "metadata": {},
   "source": [
    "### 3.1.2 Playstation VR "
   ]
  },
  {
   "cell_type": "code",
   "execution_count": 23,
   "metadata": {
    "collapsed": true
   },
   "outputs": [],
   "source": [
    "results_PS_VR = pd.read_pickle ('B01DE9DY8S_dataframe_PhilippAhrens.pkl') ##before downloading the Playstation VR reviews I had to restart the jupyter notebook, otherwise the online reviews for Oculus Rift were somehow also included when storing them. I couldn't figure out how to do it without restart.  "
   ]
  },
  {
   "cell_type": "code",
   "execution_count": 24,
   "metadata": {
    "collapsed": true
   },
   "outputs": [],
   "source": [
    "results_PS_VR_filtered = results_PS_VR.drop_duplicates(subset=['review_text', 'review_author'], keep='first', inplace=False) "
   ]
  },
  {
   "cell_type": "code",
   "execution_count": 25,
   "metadata": {},
   "outputs": [
    {
     "name": "stderr",
     "output_type": "stream",
     "text": [
      "/Users/MBA/anaconda3/lib/python3.6/site-packages/ipykernel_launcher.py:1: SettingWithCopyWarning: \n",
      "A value is trying to be set on a copy of a slice from a DataFrame.\n",
      "Try using .loc[row_indexer,col_indexer] = value instead\n",
      "\n",
      "See the caveats in the documentation: http://pandas.pydata.org/pandas-docs/stable/indexing.html#indexing-view-versus-copy\n",
      "  \"\"\"Entry point for launching an IPython kernel.\n"
     ]
    }
   ],
   "source": [
    "results_PS_VR_filtered['product_name']='Playstation VR' ##assigning the product name to identify the reviews after merging"
   ]
  },
  {
   "cell_type": "code",
   "execution_count": 26,
   "metadata": {
    "collapsed": true
   },
   "outputs": [],
   "source": [
    "results_PS_VR_filtered.to_pickle('Playstation_VR_B01DE9DY8S_dataframe_FINAL.pkl')"
   ]
  },
  {
   "cell_type": "markdown",
   "metadata": {},
   "source": [
    "###  3.1.3 HTC Vive"
   ]
  },
  {
   "cell_type": "code",
   "execution_count": 27,
   "metadata": {
    "collapsed": true
   },
   "outputs": [],
   "source": [
    "results_HTC_Vive = pd.read_pickle ('B00VF5NT4I_dataframe_PhilippAhrens.pkl') ##before downloading the HTC Vive reviews I had to restart the jupyter notebook, otherwise the online reviews for Oculus Rift and Playstation VR were somehow also included when storing them. I couldn't figure out how to do it without restart.  "
   ]
  },
  {
   "cell_type": "code",
   "execution_count": 28,
   "metadata": {
    "collapsed": true
   },
   "outputs": [],
   "source": [
    "results_HTC_Vive_filtered = results_HTC_Vive.drop_duplicates(subset=['review_text', 'review_author'], keep='first', inplace=False) "
   ]
  },
  {
   "cell_type": "code",
   "execution_count": 29,
   "metadata": {},
   "outputs": [
    {
     "name": "stderr",
     "output_type": "stream",
     "text": [
      "/Users/MBA/anaconda3/lib/python3.6/site-packages/ipykernel_launcher.py:1: SettingWithCopyWarning: \n",
      "A value is trying to be set on a copy of a slice from a DataFrame.\n",
      "Try using .loc[row_indexer,col_indexer] = value instead\n",
      "\n",
      "See the caveats in the documentation: http://pandas.pydata.org/pandas-docs/stable/indexing.html#indexing-view-versus-copy\n",
      "  \"\"\"Entry point for launching an IPython kernel.\n"
     ]
    }
   ],
   "source": [
    "results_HTC_Vive_filtered['product_name']='HTC Vive' ##assigning the product name to identify the reviews after merging"
   ]
  },
  {
   "cell_type": "code",
   "execution_count": 30,
   "metadata": {
    "collapsed": true
   },
   "outputs": [],
   "source": [
    "results_HTC_Vive_filtered.to_pickle('HTC_Vive_B00VF5NT4I_dataframe_FINAL.pkl')"
   ]
  },
  {
   "cell_type": "markdown",
   "metadata": {
    "collapsed": true
   },
   "source": [
    "## 3.2 Creating Pickle Files for Sentiment Analysis"
   ]
  },
  {
   "cell_type": "markdown",
   "metadata": {},
   "source": [
    "### 3.2.1 Oculus Rift"
   ]
  },
  {
   "cell_type": "code",
   "execution_count": 31,
   "metadata": {
    "collapsed": true
   },
   "outputs": [],
   "source": [
    "Oculus_Rift = pd.read_pickle ('Oculus_Rift_B073X8N1YW_dataframe_FINAL.pkl') ##importing raw data downloaded from amazon.com"
   ]
  },
  {
   "cell_type": "code",
   "execution_count": 32,
   "metadata": {},
   "outputs": [
    {
     "data": {
      "text/html": [
       "<div>\n",
       "<style>\n",
       "    .dataframe thead tr:only-child th {\n",
       "        text-align: right;\n",
       "    }\n",
       "\n",
       "    .dataframe thead th {\n",
       "        text-align: left;\n",
       "    }\n",
       "\n",
       "    .dataframe tbody tr th {\n",
       "        vertical-align: top;\n",
       "    }\n",
       "</style>\n",
       "<table border=\"1\" class=\"dataframe\">\n",
       "  <thead>\n",
       "    <tr style=\"text-align: right;\">\n",
       "      <th></th>\n",
       "      <th>review_author</th>\n",
       "      <th>review_comment_count</th>\n",
       "      <th>review_header</th>\n",
       "      <th>review_posted_date</th>\n",
       "      <th>review_rating</th>\n",
       "      <th>review_text</th>\n",
       "      <th>product_name</th>\n",
       "    </tr>\n",
       "  </thead>\n",
       "  <tbody>\n",
       "    <tr>\n",
       "      <th>0</th>\n",
       "      <td>Tony Pruitt</td>\n",
       "      <td>1</td>\n",
       "      <td>Wow.</td>\n",
       "      <td>11 Aug 2017</td>\n",
       "      <td>5.0</td>\n",
       "      <td>If you've got the PC to handle this, you reall...</td>\n",
       "      <td>Oculus Rift</td>\n",
       "    </tr>\n",
       "    <tr>\n",
       "      <th>1</th>\n",
       "      <td>Steven</td>\n",
       "      <td>0</td>\n",
       "      <td>Worth It</td>\n",
       "      <td>16 Aug 2017</td>\n",
       "      <td>5.0</td>\n",
       "      <td>I decided this generation of VR wasn't for me ...</td>\n",
       "      <td>Oculus Rift</td>\n",
       "    </tr>\n",
       "    <tr>\n",
       "      <th>2</th>\n",
       "      <td>Games and life</td>\n",
       "      <td>4</td>\n",
       "      <td>Rift delivers with a lot of serious considerat...</td>\n",
       "      <td>10 Aug 2017</td>\n",
       "      <td>3.0</td>\n",
       "      <td>I'm personally at a point in life where I don'...</td>\n",
       "      <td>Oculus Rift</td>\n",
       "    </tr>\n",
       "    <tr>\n",
       "      <th>3</th>\n",
       "      <td>The Tech Guy</td>\n",
       "      <td>1</td>\n",
       "      <td>Quite an experience for the current price</td>\n",
       "      <td>21 Nov 2017</td>\n",
       "      <td>5.0</td>\n",
       "      <td>Ok I know the first question most of you will ...</td>\n",
       "      <td>Oculus Rift</td>\n",
       "    </tr>\n",
       "    <tr>\n",
       "      <th>4</th>\n",
       "      <td>Tango</td>\n",
       "      <td>0</td>\n",
       "      <td>Exceptional experience</td>\n",
       "      <td>08 Aug 2017</td>\n",
       "      <td>5.0</td>\n",
       "      <td>Having been using PSVR for the past several mo...</td>\n",
       "      <td>Oculus Rift</td>\n",
       "    </tr>\n",
       "  </tbody>\n",
       "</table>\n",
       "</div>"
      ],
      "text/plain": [
       "    review_author review_comment_count  \\\n",
       "0     Tony Pruitt                    1   \n",
       "1          Steven                    0   \n",
       "2  Games and life                    4   \n",
       "3    The Tech Guy                    1   \n",
       "4           Tango                    0   \n",
       "\n",
       "                                       review_header review_posted_date  \\\n",
       "0                                               Wow.        11 Aug 2017   \n",
       "1                                           Worth It        16 Aug 2017   \n",
       "2  Rift delivers with a lot of serious considerat...        10 Aug 2017   \n",
       "3          Quite an experience for the current price        21 Nov 2017   \n",
       "4                             Exceptional experience        08 Aug 2017   \n",
       "\n",
       "  review_rating                                        review_text  \\\n",
       "0          5.0   If you've got the PC to handle this, you reall...   \n",
       "1          5.0   I decided this generation of VR wasn't for me ...   \n",
       "2          3.0   I'm personally at a point in life where I don'...   \n",
       "3          5.0   Ok I know the first question most of you will ...   \n",
       "4          5.0   Having been using PSVR for the past several mo...   \n",
       "\n",
       "  product_name  \n",
       "0  Oculus Rift  \n",
       "1  Oculus Rift  \n",
       "2  Oculus Rift  \n",
       "3  Oculus Rift  \n",
       "4  Oculus Rift  "
      ]
     },
     "execution_count": 32,
     "metadata": {},
     "output_type": "execute_result"
    }
   ],
   "source": [
    "Oculus_Rift.head() ##has no ID for merging the Oculus Rift reviews with the sentiment analysis later on "
   ]
  },
  {
   "cell_type": "code",
   "execution_count": 33,
   "metadata": {
    "collapsed": true
   },
   "outputs": [],
   "source": [
    "Oculus_Rift['id'] =  (range(1, len(Oculus_Rift)  + 1)) ##creating ID"
   ]
  },
  {
   "cell_type": "code",
   "execution_count": 34,
   "metadata": {},
   "outputs": [
    {
     "data": {
      "text/html": [
       "<div>\n",
       "<style>\n",
       "    .dataframe thead tr:only-child th {\n",
       "        text-align: right;\n",
       "    }\n",
       "\n",
       "    .dataframe thead th {\n",
       "        text-align: left;\n",
       "    }\n",
       "\n",
       "    .dataframe tbody tr th {\n",
       "        vertical-align: top;\n",
       "    }\n",
       "</style>\n",
       "<table border=\"1\" class=\"dataframe\">\n",
       "  <thead>\n",
       "    <tr style=\"text-align: right;\">\n",
       "      <th></th>\n",
       "      <th>review_author</th>\n",
       "      <th>review_comment_count</th>\n",
       "      <th>review_header</th>\n",
       "      <th>review_posted_date</th>\n",
       "      <th>review_rating</th>\n",
       "      <th>review_text</th>\n",
       "      <th>product_name</th>\n",
       "      <th>id</th>\n",
       "    </tr>\n",
       "  </thead>\n",
       "  <tbody>\n",
       "    <tr>\n",
       "      <th>0</th>\n",
       "      <td>Tony Pruitt</td>\n",
       "      <td>1</td>\n",
       "      <td>Wow.</td>\n",
       "      <td>11 Aug 2017</td>\n",
       "      <td>5.0</td>\n",
       "      <td>If you've got the PC to handle this, you reall...</td>\n",
       "      <td>Oculus Rift</td>\n",
       "      <td>1</td>\n",
       "    </tr>\n",
       "    <tr>\n",
       "      <th>1</th>\n",
       "      <td>Steven</td>\n",
       "      <td>0</td>\n",
       "      <td>Worth It</td>\n",
       "      <td>16 Aug 2017</td>\n",
       "      <td>5.0</td>\n",
       "      <td>I decided this generation of VR wasn't for me ...</td>\n",
       "      <td>Oculus Rift</td>\n",
       "      <td>2</td>\n",
       "    </tr>\n",
       "    <tr>\n",
       "      <th>2</th>\n",
       "      <td>Games and life</td>\n",
       "      <td>4</td>\n",
       "      <td>Rift delivers with a lot of serious considerat...</td>\n",
       "      <td>10 Aug 2017</td>\n",
       "      <td>3.0</td>\n",
       "      <td>I'm personally at a point in life where I don'...</td>\n",
       "      <td>Oculus Rift</td>\n",
       "      <td>3</td>\n",
       "    </tr>\n",
       "    <tr>\n",
       "      <th>3</th>\n",
       "      <td>The Tech Guy</td>\n",
       "      <td>1</td>\n",
       "      <td>Quite an experience for the current price</td>\n",
       "      <td>21 Nov 2017</td>\n",
       "      <td>5.0</td>\n",
       "      <td>Ok I know the first question most of you will ...</td>\n",
       "      <td>Oculus Rift</td>\n",
       "      <td>4</td>\n",
       "    </tr>\n",
       "    <tr>\n",
       "      <th>4</th>\n",
       "      <td>Tango</td>\n",
       "      <td>0</td>\n",
       "      <td>Exceptional experience</td>\n",
       "      <td>08 Aug 2017</td>\n",
       "      <td>5.0</td>\n",
       "      <td>Having been using PSVR for the past several mo...</td>\n",
       "      <td>Oculus Rift</td>\n",
       "      <td>5</td>\n",
       "    </tr>\n",
       "  </tbody>\n",
       "</table>\n",
       "</div>"
      ],
      "text/plain": [
       "    review_author review_comment_count  \\\n",
       "0     Tony Pruitt                    1   \n",
       "1          Steven                    0   \n",
       "2  Games and life                    4   \n",
       "3    The Tech Guy                    1   \n",
       "4           Tango                    0   \n",
       "\n",
       "                                       review_header review_posted_date  \\\n",
       "0                                               Wow.        11 Aug 2017   \n",
       "1                                           Worth It        16 Aug 2017   \n",
       "2  Rift delivers with a lot of serious considerat...        10 Aug 2017   \n",
       "3          Quite an experience for the current price        21 Nov 2017   \n",
       "4                             Exceptional experience        08 Aug 2017   \n",
       "\n",
       "  review_rating                                        review_text  \\\n",
       "0          5.0   If you've got the PC to handle this, you reall...   \n",
       "1          5.0   I decided this generation of VR wasn't for me ...   \n",
       "2          3.0   I'm personally at a point in life where I don'...   \n",
       "3          5.0   Ok I know the first question most of you will ...   \n",
       "4          5.0   Having been using PSVR for the past several mo...   \n",
       "\n",
       "  product_name  id  \n",
       "0  Oculus Rift   1  \n",
       "1  Oculus Rift   2  \n",
       "2  Oculus Rift   3  \n",
       "3  Oculus Rift   4  \n",
       "4  Oculus Rift   5  "
      ]
     },
     "execution_count": 34,
     "metadata": {},
     "output_type": "execute_result"
    }
   ],
   "source": [
    "Oculus_Rift.head() ##ID for Oculus Rift included now"
   ]
  },
  {
   "cell_type": "code",
   "execution_count": 35,
   "metadata": {
    "collapsed": true,
    "scrolled": true
   },
   "outputs": [],
   "source": [
    "Sentiment_Analysis_Oculus_Rift_EN = Oculus_Rift [['id', 'review_text']] ##selecting id and review text for sentiment analysis file"
   ]
  },
  {
   "cell_type": "code",
   "execution_count": 36,
   "metadata": {
    "collapsed": true
   },
   "outputs": [],
   "source": [
    "Sentiment_Analysis_Oculus_Rift_EN = Sentiment_Analysis_Oculus_Rift_EN.rename(columns={'review_text': 'text'}) ## renaming review text column, so it gets recognised by the sentiment analysis script"
   ]
  },
  {
   "cell_type": "code",
   "execution_count": 37,
   "metadata": {
    "collapsed": true
   },
   "outputs": [],
   "source": [
    "Sentiment_Analysis_Oculus_Rift_EN.to_pickle ('PhilippAhrens_Assignment2_Oculus_Rift_EN.pkl') #saving id and text as pickle file for sentiment analysis"
   ]
  },
  {
   "cell_type": "markdown",
   "metadata": {},
   "source": [
    "### 3.2.2 Playstation VR"
   ]
  },
  {
   "cell_type": "code",
   "execution_count": 38,
   "metadata": {
    "collapsed": true
   },
   "outputs": [],
   "source": [
    "Playstation_VR = pd.read_pickle ('Playstation_VR_B01DE9DY8S_dataframe_FINAL.pkl') ##importing raw data downloaded from amazon.com"
   ]
  },
  {
   "cell_type": "code",
   "execution_count": 39,
   "metadata": {},
   "outputs": [
    {
     "data": {
      "text/html": [
       "<div>\n",
       "<style>\n",
       "    .dataframe thead tr:only-child th {\n",
       "        text-align: right;\n",
       "    }\n",
       "\n",
       "    .dataframe thead th {\n",
       "        text-align: left;\n",
       "    }\n",
       "\n",
       "    .dataframe tbody tr th {\n",
       "        vertical-align: top;\n",
       "    }\n",
       "</style>\n",
       "<table border=\"1\" class=\"dataframe\">\n",
       "  <thead>\n",
       "    <tr style=\"text-align: right;\">\n",
       "      <th></th>\n",
       "      <th>review_author</th>\n",
       "      <th>review_comment_count</th>\n",
       "      <th>review_header</th>\n",
       "      <th>review_posted_date</th>\n",
       "      <th>review_rating</th>\n",
       "      <th>review_text</th>\n",
       "      <th>product_name</th>\n",
       "    </tr>\n",
       "  </thead>\n",
       "  <tbody>\n",
       "    <tr>\n",
       "      <th>0</th>\n",
       "      <td>Genryu</td>\n",
       "      <td>16</td>\n",
       "      <td>Free your mind - take the red pill</td>\n",
       "      <td>16 Oct 2016</td>\n",
       "      <td>5.0</td>\n",
       "      <td>This is probably the first VR experience for m...</td>\n",
       "      <td>Playstation VR</td>\n",
       "    </tr>\n",
       "    <tr>\n",
       "      <th>1</th>\n",
       "      <td>Reynan</td>\n",
       "      <td>20</td>\n",
       "      <td>Living The Dream!</td>\n",
       "      <td>03 Nov 2016</td>\n",
       "      <td>5.0</td>\n",
       "      <td>20 years ago, 12 year old me would dream about...</td>\n",
       "      <td>Playstation VR</td>\n",
       "    </tr>\n",
       "    <tr>\n",
       "      <th>2</th>\n",
       "      <td>Micah H.</td>\n",
       "      <td>0</td>\n",
       "      <td>Someone who plays a lot of solo games? Free up...</td>\n",
       "      <td>01 Nov 2017</td>\n",
       "      <td>5.0</td>\n",
       "      <td>****Important note: You need to buy a separate...</td>\n",
       "      <td>Playstation VR</td>\n",
       "    </tr>\n",
       "    <tr>\n",
       "      <th>3</th>\n",
       "      <td>Stephen</td>\n",
       "      <td>0</td>\n",
       "      <td>This is AMAZING</td>\n",
       "      <td>09 Sep 2017</td>\n",
       "      <td>4.0</td>\n",
       "      <td>I love the PSVR. I had the Samsung gear vr, an...</td>\n",
       "      <td>Playstation VR</td>\n",
       "    </tr>\n",
       "    <tr>\n",
       "      <th>4</th>\n",
       "      <td>801Jones</td>\n",
       "      <td>0</td>\n",
       "      <td>If you're thinking about it, stop thinking and...</td>\n",
       "      <td>20 Sep 2017</td>\n",
       "      <td>5.0</td>\n",
       "      <td>As someone who is reluctant to \"early adopt\" b...</td>\n",
       "      <td>Playstation VR</td>\n",
       "    </tr>\n",
       "  </tbody>\n",
       "</table>\n",
       "</div>"
      ],
      "text/plain": [
       "  review_author review_comment_count  \\\n",
       "0        Genryu                   16   \n",
       "1        Reynan                   20   \n",
       "2      Micah H.                    0   \n",
       "3       Stephen                    0   \n",
       "4      801Jones                    0   \n",
       "\n",
       "                                       review_header review_posted_date  \\\n",
       "0                 Free your mind - take the red pill        16 Oct 2016   \n",
       "1                                  Living The Dream!        03 Nov 2016   \n",
       "2  Someone who plays a lot of solo games? Free up...        01 Nov 2017   \n",
       "3                                    This is AMAZING        09 Sep 2017   \n",
       "4  If you're thinking about it, stop thinking and...        20 Sep 2017   \n",
       "\n",
       "  review_rating                                        review_text  \\\n",
       "0          5.0   This is probably the first VR experience for m...   \n",
       "1          5.0   20 years ago, 12 year old me would dream about...   \n",
       "2          5.0   ****Important note: You need to buy a separate...   \n",
       "3          4.0   I love the PSVR. I had the Samsung gear vr, an...   \n",
       "4          5.0   As someone who is reluctant to \"early adopt\" b...   \n",
       "\n",
       "     product_name  \n",
       "0  Playstation VR  \n",
       "1  Playstation VR  \n",
       "2  Playstation VR  \n",
       "3  Playstation VR  \n",
       "4  Playstation VR  "
      ]
     },
     "execution_count": 39,
     "metadata": {},
     "output_type": "execute_result"
    }
   ],
   "source": [
    "Playstation_VR.head() ##has no ID for merging the Playstation VR reviews with the sentiment analysis later on "
   ]
  },
  {
   "cell_type": "code",
   "execution_count": 40,
   "metadata": {
    "collapsed": true
   },
   "outputs": [],
   "source": [
    "Playstation_VR['id'] = (range(1, len(Playstation_VR) + 1)) ##creating ID"
   ]
  },
  {
   "cell_type": "code",
   "execution_count": 41,
   "metadata": {},
   "outputs": [
    {
     "data": {
      "text/html": [
       "<div>\n",
       "<style>\n",
       "    .dataframe thead tr:only-child th {\n",
       "        text-align: right;\n",
       "    }\n",
       "\n",
       "    .dataframe thead th {\n",
       "        text-align: left;\n",
       "    }\n",
       "\n",
       "    .dataframe tbody tr th {\n",
       "        vertical-align: top;\n",
       "    }\n",
       "</style>\n",
       "<table border=\"1\" class=\"dataframe\">\n",
       "  <thead>\n",
       "    <tr style=\"text-align: right;\">\n",
       "      <th></th>\n",
       "      <th>review_author</th>\n",
       "      <th>review_comment_count</th>\n",
       "      <th>review_header</th>\n",
       "      <th>review_posted_date</th>\n",
       "      <th>review_rating</th>\n",
       "      <th>review_text</th>\n",
       "      <th>product_name</th>\n",
       "      <th>id</th>\n",
       "    </tr>\n",
       "  </thead>\n",
       "  <tbody>\n",
       "    <tr>\n",
       "      <th>0</th>\n",
       "      <td>Genryu</td>\n",
       "      <td>16</td>\n",
       "      <td>Free your mind - take the red pill</td>\n",
       "      <td>16 Oct 2016</td>\n",
       "      <td>5.0</td>\n",
       "      <td>This is probably the first VR experience for m...</td>\n",
       "      <td>Playstation VR</td>\n",
       "      <td>1</td>\n",
       "    </tr>\n",
       "    <tr>\n",
       "      <th>1</th>\n",
       "      <td>Reynan</td>\n",
       "      <td>20</td>\n",
       "      <td>Living The Dream!</td>\n",
       "      <td>03 Nov 2016</td>\n",
       "      <td>5.0</td>\n",
       "      <td>20 years ago, 12 year old me would dream about...</td>\n",
       "      <td>Playstation VR</td>\n",
       "      <td>2</td>\n",
       "    </tr>\n",
       "    <tr>\n",
       "      <th>2</th>\n",
       "      <td>Micah H.</td>\n",
       "      <td>0</td>\n",
       "      <td>Someone who plays a lot of solo games? Free up...</td>\n",
       "      <td>01 Nov 2017</td>\n",
       "      <td>5.0</td>\n",
       "      <td>****Important note: You need to buy a separate...</td>\n",
       "      <td>Playstation VR</td>\n",
       "      <td>3</td>\n",
       "    </tr>\n",
       "    <tr>\n",
       "      <th>3</th>\n",
       "      <td>Stephen</td>\n",
       "      <td>0</td>\n",
       "      <td>This is AMAZING</td>\n",
       "      <td>09 Sep 2017</td>\n",
       "      <td>4.0</td>\n",
       "      <td>I love the PSVR. I had the Samsung gear vr, an...</td>\n",
       "      <td>Playstation VR</td>\n",
       "      <td>4</td>\n",
       "    </tr>\n",
       "    <tr>\n",
       "      <th>4</th>\n",
       "      <td>801Jones</td>\n",
       "      <td>0</td>\n",
       "      <td>If you're thinking about it, stop thinking and...</td>\n",
       "      <td>20 Sep 2017</td>\n",
       "      <td>5.0</td>\n",
       "      <td>As someone who is reluctant to \"early adopt\" b...</td>\n",
       "      <td>Playstation VR</td>\n",
       "      <td>5</td>\n",
       "    </tr>\n",
       "  </tbody>\n",
       "</table>\n",
       "</div>"
      ],
      "text/plain": [
       "  review_author review_comment_count  \\\n",
       "0        Genryu                   16   \n",
       "1        Reynan                   20   \n",
       "2      Micah H.                    0   \n",
       "3       Stephen                    0   \n",
       "4      801Jones                    0   \n",
       "\n",
       "                                       review_header review_posted_date  \\\n",
       "0                 Free your mind - take the red pill        16 Oct 2016   \n",
       "1                                  Living The Dream!        03 Nov 2016   \n",
       "2  Someone who plays a lot of solo games? Free up...        01 Nov 2017   \n",
       "3                                    This is AMAZING        09 Sep 2017   \n",
       "4  If you're thinking about it, stop thinking and...        20 Sep 2017   \n",
       "\n",
       "  review_rating                                        review_text  \\\n",
       "0          5.0   This is probably the first VR experience for m...   \n",
       "1          5.0   20 years ago, 12 year old me would dream about...   \n",
       "2          5.0   ****Important note: You need to buy a separate...   \n",
       "3          4.0   I love the PSVR. I had the Samsung gear vr, an...   \n",
       "4          5.0   As someone who is reluctant to \"early adopt\" b...   \n",
       "\n",
       "     product_name  id  \n",
       "0  Playstation VR   1  \n",
       "1  Playstation VR   2  \n",
       "2  Playstation VR   3  \n",
       "3  Playstation VR   4  \n",
       "4  Playstation VR   5  "
      ]
     },
     "execution_count": 41,
     "metadata": {},
     "output_type": "execute_result"
    }
   ],
   "source": [
    "Playstation_VR.head() ##ID for Playstation VR included now"
   ]
  },
  {
   "cell_type": "code",
   "execution_count": 42,
   "metadata": {
    "collapsed": true
   },
   "outputs": [],
   "source": [
    "Sentiment_Analysis_Playstation_VR_EN = Playstation_VR [['id', 'review_text' ]] ##selecting id and review text for sentiment analysis file"
   ]
  },
  {
   "cell_type": "code",
   "execution_count": 43,
   "metadata": {
    "collapsed": true
   },
   "outputs": [],
   "source": [
    "Sentiment_Analysis_Playstation_VR_EN = Sentiment_Analysis_Playstation_VR_EN.rename(columns={'review_text': 'text'}) ## renaming review text column, so it gets recognised by the sentiment analysis script"
   ]
  },
  {
   "cell_type": "code",
   "execution_count": 44,
   "metadata": {
    "collapsed": true
   },
   "outputs": [],
   "source": [
    "Sentiment_Analysis_Playstation_VR_EN.to_pickle('PhilippAhrens_Assignment2_Playstation_VR_EN.pkl') #saving id and text as pickle file for sentiment analysis"
   ]
  },
  {
   "cell_type": "markdown",
   "metadata": {},
   "source": [
    "### 3.2.3 HTC Vive"
   ]
  },
  {
   "cell_type": "code",
   "execution_count": 45,
   "metadata": {
    "collapsed": true
   },
   "outputs": [],
   "source": [
    "HTC_Vive = pd.read_pickle ('HTC_Vive_B00VF5NT4I_dataframe_FINAL.pkl')"
   ]
  },
  {
   "cell_type": "code",
   "execution_count": 46,
   "metadata": {},
   "outputs": [
    {
     "data": {
      "text/html": [
       "<div>\n",
       "<style>\n",
       "    .dataframe thead tr:only-child th {\n",
       "        text-align: right;\n",
       "    }\n",
       "\n",
       "    .dataframe thead th {\n",
       "        text-align: left;\n",
       "    }\n",
       "\n",
       "    .dataframe tbody tr th {\n",
       "        vertical-align: top;\n",
       "    }\n",
       "</style>\n",
       "<table border=\"1\" class=\"dataframe\">\n",
       "  <thead>\n",
       "    <tr style=\"text-align: right;\">\n",
       "      <th></th>\n",
       "      <th>review_author</th>\n",
       "      <th>review_comment_count</th>\n",
       "      <th>review_header</th>\n",
       "      <th>review_posted_date</th>\n",
       "      <th>review_rating</th>\n",
       "      <th>review_text</th>\n",
       "      <th>product_name</th>\n",
       "    </tr>\n",
       "  </thead>\n",
       "  <tbody>\n",
       "    <tr>\n",
       "      <th>0</th>\n",
       "      <td>Chris</td>\n",
       "      <td>30</td>\n",
       "      <td>Regardless of cost, you will absolutely love t...</td>\n",
       "      <td>28 Sep 2016</td>\n",
       "      <td>5.0</td>\n",
       "      <td>It's hard to do bulleted, concise reviews on s...</td>\n",
       "      <td>HTC Vive</td>\n",
       "    </tr>\n",
       "    <tr>\n",
       "      <th>1</th>\n",
       "      <td>Dusty Fohs</td>\n",
       "      <td>3</td>\n",
       "      <td>A True Blessing. I Am So Thankful!!</td>\n",
       "      <td>17 Oct 2016</td>\n",
       "      <td>5.0</td>\n",
       "      <td>This device is life changing. I'm a huge gamer...</td>\n",
       "      <td>HTC Vive</td>\n",
       "    </tr>\n",
       "    <tr>\n",
       "      <th>2</th>\n",
       "      <td>Taylor</td>\n",
       "      <td>9</td>\n",
       "      <td>Truly An Amazing Experience - [Updated 10/11/2...</td>\n",
       "      <td>20 Jun 2016</td>\n",
       "      <td>5.0</td>\n",
       "      <td>10/11/2017 Update: I have now owned my Vive fo...</td>\n",
       "      <td>HTC Vive</td>\n",
       "    </tr>\n",
       "    <tr>\n",
       "      <th>3</th>\n",
       "      <td>Azhlynne</td>\n",
       "      <td>0</td>\n",
       "      <td>Nice. When it works.</td>\n",
       "      <td>02 Feb 2018</td>\n",
       "      <td>3.0</td>\n",
       "      <td>I got this for my son at the end of Oct. 2017....</td>\n",
       "      <td>HTC Vive</td>\n",
       "    </tr>\n",
       "    <tr>\n",
       "      <th>4</th>\n",
       "      <td>Cody</td>\n",
       "      <td>0</td>\n",
       "      <td>Don't Hesitate, Do It</td>\n",
       "      <td>19 Sep 2017</td>\n",
       "      <td>5.0</td>\n",
       "      <td>I never thought something would reignite my ex...</td>\n",
       "      <td>HTC Vive</td>\n",
       "    </tr>\n",
       "  </tbody>\n",
       "</table>\n",
       "</div>"
      ],
      "text/plain": [
       "  review_author review_comment_count  \\\n",
       "0         Chris                   30   \n",
       "1    Dusty Fohs                    3   \n",
       "2        Taylor                    9   \n",
       "3      Azhlynne                    0   \n",
       "4          Cody                    0   \n",
       "\n",
       "                                       review_header review_posted_date  \\\n",
       "0  Regardless of cost, you will absolutely love t...        28 Sep 2016   \n",
       "1                A True Blessing. I Am So Thankful!!        17 Oct 2016   \n",
       "2  Truly An Amazing Experience - [Updated 10/11/2...        20 Jun 2016   \n",
       "3                               Nice. When it works.        02 Feb 2018   \n",
       "4                              Don't Hesitate, Do It        19 Sep 2017   \n",
       "\n",
       "  review_rating                                        review_text  \\\n",
       "0          5.0   It's hard to do bulleted, concise reviews on s...   \n",
       "1          5.0   This device is life changing. I'm a huge gamer...   \n",
       "2          5.0   10/11/2017 Update: I have now owned my Vive fo...   \n",
       "3          3.0   I got this for my son at the end of Oct. 2017....   \n",
       "4          5.0   I never thought something would reignite my ex...   \n",
       "\n",
       "  product_name  \n",
       "0     HTC Vive  \n",
       "1     HTC Vive  \n",
       "2     HTC Vive  \n",
       "3     HTC Vive  \n",
       "4     HTC Vive  "
      ]
     },
     "execution_count": 46,
     "metadata": {},
     "output_type": "execute_result"
    }
   ],
   "source": [
    "HTC_Vive.head()"
   ]
  },
  {
   "cell_type": "code",
   "execution_count": 47,
   "metadata": {
    "collapsed": true
   },
   "outputs": [],
   "source": [
    "HTC_Vive['id'] = (range(1, len(HTC_Vive) + 1))"
   ]
  },
  {
   "cell_type": "code",
   "execution_count": 48,
   "metadata": {},
   "outputs": [
    {
     "data": {
      "text/html": [
       "<div>\n",
       "<style>\n",
       "    .dataframe thead tr:only-child th {\n",
       "        text-align: right;\n",
       "    }\n",
       "\n",
       "    .dataframe thead th {\n",
       "        text-align: left;\n",
       "    }\n",
       "\n",
       "    .dataframe tbody tr th {\n",
       "        vertical-align: top;\n",
       "    }\n",
       "</style>\n",
       "<table border=\"1\" class=\"dataframe\">\n",
       "  <thead>\n",
       "    <tr style=\"text-align: right;\">\n",
       "      <th></th>\n",
       "      <th>review_author</th>\n",
       "      <th>review_comment_count</th>\n",
       "      <th>review_header</th>\n",
       "      <th>review_posted_date</th>\n",
       "      <th>review_rating</th>\n",
       "      <th>review_text</th>\n",
       "      <th>product_name</th>\n",
       "      <th>id</th>\n",
       "    </tr>\n",
       "  </thead>\n",
       "  <tbody>\n",
       "    <tr>\n",
       "      <th>0</th>\n",
       "      <td>Chris</td>\n",
       "      <td>30</td>\n",
       "      <td>Regardless of cost, you will absolutely love t...</td>\n",
       "      <td>28 Sep 2016</td>\n",
       "      <td>5.0</td>\n",
       "      <td>It's hard to do bulleted, concise reviews on s...</td>\n",
       "      <td>HTC Vive</td>\n",
       "      <td>1</td>\n",
       "    </tr>\n",
       "    <tr>\n",
       "      <th>1</th>\n",
       "      <td>Dusty Fohs</td>\n",
       "      <td>3</td>\n",
       "      <td>A True Blessing. I Am So Thankful!!</td>\n",
       "      <td>17 Oct 2016</td>\n",
       "      <td>5.0</td>\n",
       "      <td>This device is life changing. I'm a huge gamer...</td>\n",
       "      <td>HTC Vive</td>\n",
       "      <td>2</td>\n",
       "    </tr>\n",
       "    <tr>\n",
       "      <th>2</th>\n",
       "      <td>Taylor</td>\n",
       "      <td>9</td>\n",
       "      <td>Truly An Amazing Experience - [Updated 10/11/2...</td>\n",
       "      <td>20 Jun 2016</td>\n",
       "      <td>5.0</td>\n",
       "      <td>10/11/2017 Update: I have now owned my Vive fo...</td>\n",
       "      <td>HTC Vive</td>\n",
       "      <td>3</td>\n",
       "    </tr>\n",
       "    <tr>\n",
       "      <th>3</th>\n",
       "      <td>Azhlynne</td>\n",
       "      <td>0</td>\n",
       "      <td>Nice. When it works.</td>\n",
       "      <td>02 Feb 2018</td>\n",
       "      <td>3.0</td>\n",
       "      <td>I got this for my son at the end of Oct. 2017....</td>\n",
       "      <td>HTC Vive</td>\n",
       "      <td>4</td>\n",
       "    </tr>\n",
       "    <tr>\n",
       "      <th>4</th>\n",
       "      <td>Cody</td>\n",
       "      <td>0</td>\n",
       "      <td>Don't Hesitate, Do It</td>\n",
       "      <td>19 Sep 2017</td>\n",
       "      <td>5.0</td>\n",
       "      <td>I never thought something would reignite my ex...</td>\n",
       "      <td>HTC Vive</td>\n",
       "      <td>5</td>\n",
       "    </tr>\n",
       "  </tbody>\n",
       "</table>\n",
       "</div>"
      ],
      "text/plain": [
       "  review_author review_comment_count  \\\n",
       "0         Chris                   30   \n",
       "1    Dusty Fohs                    3   \n",
       "2        Taylor                    9   \n",
       "3      Azhlynne                    0   \n",
       "4          Cody                    0   \n",
       "\n",
       "                                       review_header review_posted_date  \\\n",
       "0  Regardless of cost, you will absolutely love t...        28 Sep 2016   \n",
       "1                A True Blessing. I Am So Thankful!!        17 Oct 2016   \n",
       "2  Truly An Amazing Experience - [Updated 10/11/2...        20 Jun 2016   \n",
       "3                               Nice. When it works.        02 Feb 2018   \n",
       "4                              Don't Hesitate, Do It        19 Sep 2017   \n",
       "\n",
       "  review_rating                                        review_text  \\\n",
       "0          5.0   It's hard to do bulleted, concise reviews on s...   \n",
       "1          5.0   This device is life changing. I'm a huge gamer...   \n",
       "2          5.0   10/11/2017 Update: I have now owned my Vive fo...   \n",
       "3          3.0   I got this for my son at the end of Oct. 2017....   \n",
       "4          5.0   I never thought something would reignite my ex...   \n",
       "\n",
       "  product_name  id  \n",
       "0     HTC Vive   1  \n",
       "1     HTC Vive   2  \n",
       "2     HTC Vive   3  \n",
       "3     HTC Vive   4  \n",
       "4     HTC Vive   5  "
      ]
     },
     "execution_count": 48,
     "metadata": {},
     "output_type": "execute_result"
    }
   ],
   "source": [
    "HTC_Vive.head()"
   ]
  },
  {
   "cell_type": "code",
   "execution_count": 49,
   "metadata": {
    "collapsed": true
   },
   "outputs": [],
   "source": [
    "Sentiment_Analysis_HTC_Vive_EN = HTC_Vive [['id', 'review_text']]"
   ]
  },
  {
   "cell_type": "code",
   "execution_count": 50,
   "metadata": {
    "collapsed": true
   },
   "outputs": [],
   "source": [
    "Sentiment_Analysis_HTC_Vive_EN = Sentiment_Analysis_HTC_Vive_EN.rename(columns={'review_text': 'text'})"
   ]
  },
  {
   "cell_type": "code",
   "execution_count": 51,
   "metadata": {
    "collapsed": true
   },
   "outputs": [],
   "source": [
    "Sentiment_Analysis_HTC_Vive_EN.to_pickle('PhilippAhrens_Assignment2_HTC_Vive_EN.pkl')"
   ]
  },
  {
   "cell_type": "markdown",
   "metadata": {},
   "source": [
    "## 3.3  Including Sentiment Analysis Files"
   ]
  },
  {
   "cell_type": "markdown",
   "metadata": {},
   "source": [
    "### 3.3.1 Sentiment Files HTC Vive"
   ]
  },
  {
   "cell_type": "code",
   "execution_count": 52,
   "metadata": {
    "collapsed": true
   },
   "outputs": [],
   "source": [
    "HTC_Vive_done = pd.read_pickle ('PhilippAhrens_Assignment2_HTC_Vive_EN_completed.pkl')"
   ]
  },
  {
   "cell_type": "markdown",
   "metadata": {},
   "source": [
    "#### Merging"
   ]
  },
  {
   "cell_type": "code",
   "execution_count": 53,
   "metadata": {
    "collapsed": true
   },
   "outputs": [],
   "source": [
    "HTC_Vive_merged = HTC_Vive.merge(HTC_Vive_done, on='id') ## merging the sentiment analysis back to the original data "
   ]
  },
  {
   "cell_type": "markdown",
   "metadata": {},
   "source": [
    "#### Cleaning"
   ]
  },
  {
   "cell_type": "code",
   "execution_count": 54,
   "metadata": {
    "collapsed": true
   },
   "outputs": [],
   "source": [
    "del HTC_Vive_merged ['review_text'] ##removing one of the two text columns, they got duplicated due to the name change from 'review_text' to 'text"
   ]
  },
  {
   "cell_type": "code",
   "execution_count": 55,
   "metadata": {
    "collapsed": true
   },
   "outputs": [],
   "source": [
    "del HTC_Vive_merged ['neutral'] ##removing neutral since for the hypotheses just the negative and positive emotions are necessary"
   ]
  },
  {
   "cell_type": "code",
   "execution_count": 56,
   "metadata": {
    "collapsed": true
   },
   "outputs": [],
   "source": [
    "HTC_Vive_merged['negative'] = pd.to_numeric(HTC_Vive_merged ['negative']) ##changing negative to float, so it can be used for calculation\n",
    "HTC_Vive_merged['positive'] = pd.to_numeric(HTC_Vive_merged ['positive']) ##changing positive to float, so it can be used for calculation\n",
    "HTC_Vive_merged['review_posted_date'] = HTC_Vive_merged['review_posted_date'].apply(pd.to_datetime) ## changing date from object to datetime"
   ]
  },
  {
   "cell_type": "markdown",
   "metadata": {},
   "source": [
    "#### Sentiment Score"
   ]
  },
  {
   "cell_type": "code",
   "execution_count": 57,
   "metadata": {
    "collapsed": true
   },
   "outputs": [],
   "source": [
    "HTC_Vive_merged ['overall_tone'] = HTC_Vive_merged ['negative'] + HTC_Vive_merged ['positive'] ## adding positive and negative sentiment score up to overall tone of review"
   ]
  },
  {
   "cell_type": "markdown",
   "metadata": {},
   "source": [
    "#### Final File"
   ]
  },
  {
   "cell_type": "code",
   "execution_count": 58,
   "metadata": {},
   "outputs": [
    {
     "data": {
      "text/html": [
       "<div>\n",
       "<style>\n",
       "    .dataframe thead tr:only-child th {\n",
       "        text-align: right;\n",
       "    }\n",
       "\n",
       "    .dataframe thead th {\n",
       "        text-align: left;\n",
       "    }\n",
       "\n",
       "    .dataframe tbody tr th {\n",
       "        vertical-align: top;\n",
       "    }\n",
       "</style>\n",
       "<table border=\"1\" class=\"dataframe\">\n",
       "  <thead>\n",
       "    <tr style=\"text-align: right;\">\n",
       "      <th></th>\n",
       "      <th>review_author</th>\n",
       "      <th>review_comment_count</th>\n",
       "      <th>review_header</th>\n",
       "      <th>review_posted_date</th>\n",
       "      <th>review_rating</th>\n",
       "      <th>product_name</th>\n",
       "      <th>id</th>\n",
       "      <th>text</th>\n",
       "      <th>negative</th>\n",
       "      <th>positive</th>\n",
       "      <th>overall_tone</th>\n",
       "    </tr>\n",
       "  </thead>\n",
       "  <tbody>\n",
       "    <tr>\n",
       "      <th>0</th>\n",
       "      <td>Chris</td>\n",
       "      <td>30</td>\n",
       "      <td>Regardless of cost, you will absolutely love t...</td>\n",
       "      <td>2016-09-28</td>\n",
       "      <td>5.0</td>\n",
       "      <td>HTC Vive</td>\n",
       "      <td>1</td>\n",
       "      <td>It's hard to do bulleted, concise reviews on s...</td>\n",
       "      <td>-4</td>\n",
       "      <td>3</td>\n",
       "      <td>-1</td>\n",
       "    </tr>\n",
       "    <tr>\n",
       "      <th>1</th>\n",
       "      <td>Dusty Fohs</td>\n",
       "      <td>3</td>\n",
       "      <td>A True Blessing. I Am So Thankful!!</td>\n",
       "      <td>2016-10-17</td>\n",
       "      <td>5.0</td>\n",
       "      <td>HTC Vive</td>\n",
       "      <td>2</td>\n",
       "      <td>This device is life changing. I'm a huge gamer...</td>\n",
       "      <td>-4</td>\n",
       "      <td>4</td>\n",
       "      <td>0</td>\n",
       "    </tr>\n",
       "    <tr>\n",
       "      <th>2</th>\n",
       "      <td>Taylor</td>\n",
       "      <td>9</td>\n",
       "      <td>Truly An Amazing Experience - [Updated 10/11/2...</td>\n",
       "      <td>2016-06-20</td>\n",
       "      <td>5.0</td>\n",
       "      <td>HTC Vive</td>\n",
       "      <td>3</td>\n",
       "      <td>10/11/2017 Update: I have now owned my Vive fo...</td>\n",
       "      <td>-4</td>\n",
       "      <td>3</td>\n",
       "      <td>-1</td>\n",
       "    </tr>\n",
       "    <tr>\n",
       "      <th>3</th>\n",
       "      <td>Azhlynne</td>\n",
       "      <td>0</td>\n",
       "      <td>Nice. When it works.</td>\n",
       "      <td>2018-02-02</td>\n",
       "      <td>3.0</td>\n",
       "      <td>HTC Vive</td>\n",
       "      <td>4</td>\n",
       "      <td>I got this for my son at the end of Oct. 2017....</td>\n",
       "      <td>-4</td>\n",
       "      <td>2</td>\n",
       "      <td>-2</td>\n",
       "    </tr>\n",
       "    <tr>\n",
       "      <th>4</th>\n",
       "      <td>Cody</td>\n",
       "      <td>0</td>\n",
       "      <td>Don't Hesitate, Do It</td>\n",
       "      <td>2017-09-19</td>\n",
       "      <td>5.0</td>\n",
       "      <td>HTC Vive</td>\n",
       "      <td>5</td>\n",
       "      <td>I never thought something would reignite my ex...</td>\n",
       "      <td>-2</td>\n",
       "      <td>3</td>\n",
       "      <td>1</td>\n",
       "    </tr>\n",
       "  </tbody>\n",
       "</table>\n",
       "</div>"
      ],
      "text/plain": [
       "  review_author review_comment_count  \\\n",
       "0         Chris                   30   \n",
       "1    Dusty Fohs                    3   \n",
       "2        Taylor                    9   \n",
       "3      Azhlynne                    0   \n",
       "4          Cody                    0   \n",
       "\n",
       "                                       review_header review_posted_date  \\\n",
       "0  Regardless of cost, you will absolutely love t...         2016-09-28   \n",
       "1                A True Blessing. I Am So Thankful!!         2016-10-17   \n",
       "2  Truly An Amazing Experience - [Updated 10/11/2...         2016-06-20   \n",
       "3                               Nice. When it works.         2018-02-02   \n",
       "4                              Don't Hesitate, Do It         2017-09-19   \n",
       "\n",
       "  review_rating product_name  id  \\\n",
       "0          5.0      HTC Vive   1   \n",
       "1          5.0      HTC Vive   2   \n",
       "2          5.0      HTC Vive   3   \n",
       "3          3.0      HTC Vive   4   \n",
       "4          5.0      HTC Vive   5   \n",
       "\n",
       "                                                text  negative  positive  \\\n",
       "0  It's hard to do bulleted, concise reviews on s...        -4         3   \n",
       "1  This device is life changing. I'm a huge gamer...        -4         4   \n",
       "2  10/11/2017 Update: I have now owned my Vive fo...        -4         3   \n",
       "3  I got this for my son at the end of Oct. 2017....        -4         2   \n",
       "4  I never thought something would reignite my ex...        -2         3   \n",
       "\n",
       "   overall_tone  \n",
       "0            -1  \n",
       "1             0  \n",
       "2            -1  \n",
       "3            -2  \n",
       "4             1  "
      ]
     },
     "execution_count": 58,
     "metadata": {},
     "output_type": "execute_result"
    }
   ],
   "source": [
    "HTC_Vive_merged.head() ## new dataframe now shows the sentiment analysis together with the original data"
   ]
  },
  {
   "cell_type": "markdown",
   "metadata": {},
   "source": [
    "### 3.3.2 Sentiment Files Oculus Rift"
   ]
  },
  {
   "cell_type": "code",
   "execution_count": 59,
   "metadata": {
    "collapsed": true
   },
   "outputs": [],
   "source": [
    "Oculus_Rift_done = pd.read_pickle ('PhilippAhrens_Assignment2_Oculus_Rift_EN_completed.pkl')"
   ]
  },
  {
   "cell_type": "markdown",
   "metadata": {},
   "source": [
    "#### Merging"
   ]
  },
  {
   "cell_type": "code",
   "execution_count": 60,
   "metadata": {
    "collapsed": true
   },
   "outputs": [],
   "source": [
    "Oculus_Rift_merged = Oculus_Rift.merge(Oculus_Rift_done, on='id')## merging the sentiment analysis back to the original data "
   ]
  },
  {
   "cell_type": "markdown",
   "metadata": {},
   "source": [
    "#### Cleaning"
   ]
  },
  {
   "cell_type": "code",
   "execution_count": 61,
   "metadata": {
    "collapsed": true,
    "scrolled": true
   },
   "outputs": [],
   "source": [
    "del Oculus_Rift_merged ['review_text'] ##removing one of the two text columns, they got duplicated due to the name change from 'review_text' to 'text"
   ]
  },
  {
   "cell_type": "code",
   "execution_count": 62,
   "metadata": {
    "collapsed": true
   },
   "outputs": [],
   "source": [
    "del Oculus_Rift_merged ['neutral'] ##removing neutral since for the hypotheses just the negative and positive emotions are necessary"
   ]
  },
  {
   "cell_type": "code",
   "execution_count": 63,
   "metadata": {
    "collapsed": true
   },
   "outputs": [],
   "source": [
    "Oculus_Rift_merged['negative'] = pd.to_numeric(Oculus_Rift_merged ['negative']) ##changing negative to float, so it can be used for calculation\n",
    "Oculus_Rift_merged['positive'] = pd.to_numeric(Oculus_Rift_merged ['positive']) ##changing positive to float, so it can be used for calculation\n",
    "Oculus_Rift_merged['review_posted_date'] = Oculus_Rift_merged['review_posted_date'].apply(pd.to_datetime) ## changing date from object to datetime"
   ]
  },
  {
   "cell_type": "markdown",
   "metadata": {},
   "source": [
    "#### Sentiment Score"
   ]
  },
  {
   "cell_type": "code",
   "execution_count": 64,
   "metadata": {
    "collapsed": true
   },
   "outputs": [],
   "source": [
    "Oculus_Rift_merged ['overall_tone'] = Oculus_Rift_merged ['negative'] + Oculus_Rift_merged ['positive'] ## adding positive and negative sentiment score up to overall tone of review"
   ]
  },
  {
   "cell_type": "markdown",
   "metadata": {},
   "source": [
    "#### Final File"
   ]
  },
  {
   "cell_type": "code",
   "execution_count": 65,
   "metadata": {},
   "outputs": [
    {
     "data": {
      "text/html": [
       "<div>\n",
       "<style>\n",
       "    .dataframe thead tr:only-child th {\n",
       "        text-align: right;\n",
       "    }\n",
       "\n",
       "    .dataframe thead th {\n",
       "        text-align: left;\n",
       "    }\n",
       "\n",
       "    .dataframe tbody tr th {\n",
       "        vertical-align: top;\n",
       "    }\n",
       "</style>\n",
       "<table border=\"1\" class=\"dataframe\">\n",
       "  <thead>\n",
       "    <tr style=\"text-align: right;\">\n",
       "      <th></th>\n",
       "      <th>review_author</th>\n",
       "      <th>review_comment_count</th>\n",
       "      <th>review_header</th>\n",
       "      <th>review_posted_date</th>\n",
       "      <th>review_rating</th>\n",
       "      <th>product_name</th>\n",
       "      <th>id</th>\n",
       "      <th>text</th>\n",
       "      <th>negative</th>\n",
       "      <th>positive</th>\n",
       "      <th>overall_tone</th>\n",
       "    </tr>\n",
       "  </thead>\n",
       "  <tbody>\n",
       "    <tr>\n",
       "      <th>0</th>\n",
       "      <td>Tony Pruitt</td>\n",
       "      <td>1</td>\n",
       "      <td>Wow.</td>\n",
       "      <td>2017-08-11</td>\n",
       "      <td>5.0</td>\n",
       "      <td>Oculus Rift</td>\n",
       "      <td>1</td>\n",
       "      <td>If you've got the PC to handle this, you reall...</td>\n",
       "      <td>-4</td>\n",
       "      <td>4</td>\n",
       "      <td>0</td>\n",
       "    </tr>\n",
       "    <tr>\n",
       "      <th>1</th>\n",
       "      <td>Steven</td>\n",
       "      <td>0</td>\n",
       "      <td>Worth It</td>\n",
       "      <td>2017-08-16</td>\n",
       "      <td>5.0</td>\n",
       "      <td>Oculus Rift</td>\n",
       "      <td>2</td>\n",
       "      <td>I decided this generation of VR wasn't for me ...</td>\n",
       "      <td>-4</td>\n",
       "      <td>3</td>\n",
       "      <td>-1</td>\n",
       "    </tr>\n",
       "    <tr>\n",
       "      <th>2</th>\n",
       "      <td>Games and life</td>\n",
       "      <td>4</td>\n",
       "      <td>Rift delivers with a lot of serious considerat...</td>\n",
       "      <td>2017-08-10</td>\n",
       "      <td>3.0</td>\n",
       "      <td>Oculus Rift</td>\n",
       "      <td>3</td>\n",
       "      <td>I'm personally at a point in life where I don'...</td>\n",
       "      <td>-3</td>\n",
       "      <td>3</td>\n",
       "      <td>0</td>\n",
       "    </tr>\n",
       "    <tr>\n",
       "      <th>3</th>\n",
       "      <td>The Tech Guy</td>\n",
       "      <td>1</td>\n",
       "      <td>Quite an experience for the current price</td>\n",
       "      <td>2017-11-21</td>\n",
       "      <td>5.0</td>\n",
       "      <td>Oculus Rift</td>\n",
       "      <td>4</td>\n",
       "      <td>Ok I know the first question most of you will ...</td>\n",
       "      <td>-4</td>\n",
       "      <td>3</td>\n",
       "      <td>-1</td>\n",
       "    </tr>\n",
       "    <tr>\n",
       "      <th>4</th>\n",
       "      <td>Tango</td>\n",
       "      <td>0</td>\n",
       "      <td>Exceptional experience</td>\n",
       "      <td>2017-08-08</td>\n",
       "      <td>5.0</td>\n",
       "      <td>Oculus Rift</td>\n",
       "      <td>5</td>\n",
       "      <td>Having been using PSVR for the past several mo...</td>\n",
       "      <td>-2</td>\n",
       "      <td>3</td>\n",
       "      <td>1</td>\n",
       "    </tr>\n",
       "  </tbody>\n",
       "</table>\n",
       "</div>"
      ],
      "text/plain": [
       "    review_author review_comment_count  \\\n",
       "0     Tony Pruitt                    1   \n",
       "1          Steven                    0   \n",
       "2  Games and life                    4   \n",
       "3    The Tech Guy                    1   \n",
       "4           Tango                    0   \n",
       "\n",
       "                                       review_header review_posted_date  \\\n",
       "0                                               Wow.         2017-08-11   \n",
       "1                                           Worth It         2017-08-16   \n",
       "2  Rift delivers with a lot of serious considerat...         2017-08-10   \n",
       "3          Quite an experience for the current price         2017-11-21   \n",
       "4                             Exceptional experience         2017-08-08   \n",
       "\n",
       "  review_rating product_name  id  \\\n",
       "0          5.0   Oculus Rift   1   \n",
       "1          5.0   Oculus Rift   2   \n",
       "2          3.0   Oculus Rift   3   \n",
       "3          5.0   Oculus Rift   4   \n",
       "4          5.0   Oculus Rift   5   \n",
       "\n",
       "                                                text  negative  positive  \\\n",
       "0  If you've got the PC to handle this, you reall...        -4         4   \n",
       "1  I decided this generation of VR wasn't for me ...        -4         3   \n",
       "2  I'm personally at a point in life where I don'...        -3         3   \n",
       "3  Ok I know the first question most of you will ...        -4         3   \n",
       "4  Having been using PSVR for the past several mo...        -2         3   \n",
       "\n",
       "   overall_tone  \n",
       "0             0  \n",
       "1            -1  \n",
       "2             0  \n",
       "3            -1  \n",
       "4             1  "
      ]
     },
     "execution_count": 65,
     "metadata": {},
     "output_type": "execute_result"
    }
   ],
   "source": [
    "Oculus_Rift_merged.head() ## new dataframe now shows the sentiment analysis together with the original data"
   ]
  },
  {
   "cell_type": "markdown",
   "metadata": {},
   "source": [
    "### 3.3.3 Sentiment Files Playstation VR"
   ]
  },
  {
   "cell_type": "code",
   "execution_count": 66,
   "metadata": {
    "collapsed": true
   },
   "outputs": [],
   "source": [
    "Playstation_VR_done = pd.read_pickle ('PhilippAhrens_Assignment2_Playstation_VR_EN_completed.pkl')"
   ]
  },
  {
   "cell_type": "markdown",
   "metadata": {},
   "source": [
    "#### Merging"
   ]
  },
  {
   "cell_type": "code",
   "execution_count": 67,
   "metadata": {
    "collapsed": true
   },
   "outputs": [],
   "source": [
    "Playstation_VR_merged = Playstation_VR.merge(Playstation_VR_done, on='id')## merging the sentiment analysis back to the original data "
   ]
  },
  {
   "cell_type": "markdown",
   "metadata": {},
   "source": [
    "#### Cleaning"
   ]
  },
  {
   "cell_type": "code",
   "execution_count": 68,
   "metadata": {
    "collapsed": true
   },
   "outputs": [],
   "source": [
    "del Playstation_VR_merged ['review_text']  ##removing one of the two text columns, they got duplicated due to the name change from 'review_text' to 'text"
   ]
  },
  {
   "cell_type": "code",
   "execution_count": 69,
   "metadata": {
    "collapsed": true
   },
   "outputs": [],
   "source": [
    "del Playstation_VR_merged ['neutral'] ##removing neutral since for the hypotheses just the negative and positive emotions are necessary"
   ]
  },
  {
   "cell_type": "code",
   "execution_count": 70,
   "metadata": {
    "collapsed": true
   },
   "outputs": [],
   "source": [
    "Playstation_VR_merged['negative'] = pd.to_numeric(Playstation_VR_merged ['negative']) ##changing negative to float, so it can be used for calculation\n",
    "Playstation_VR_merged['positive'] = pd.to_numeric(Playstation_VR_merged ['positive']) ####changing positive to float, so it can be used for calculation\n",
    "Playstation_VR_merged['review_posted_date'] = Playstation_VR_merged['review_posted_date'].apply(pd.to_datetime) ## changing date from object to datetime"
   ]
  },
  {
   "cell_type": "markdown",
   "metadata": {},
   "source": [
    "#### Sentiment Score"
   ]
  },
  {
   "cell_type": "code",
   "execution_count": 71,
   "metadata": {
    "collapsed": true
   },
   "outputs": [],
   "source": [
    "Playstation_VR_merged ['overall_tone'] = Playstation_VR_merged ['negative'] + Playstation_VR_merged ['positive'] ## adding positive and negative sentiment score up to overall tone of review"
   ]
  },
  {
   "cell_type": "markdown",
   "metadata": {},
   "source": [
    "#### Final File"
   ]
  },
  {
   "cell_type": "code",
   "execution_count": 72,
   "metadata": {
    "scrolled": true
   },
   "outputs": [
    {
     "data": {
      "text/html": [
       "<div>\n",
       "<style>\n",
       "    .dataframe thead tr:only-child th {\n",
       "        text-align: right;\n",
       "    }\n",
       "\n",
       "    .dataframe thead th {\n",
       "        text-align: left;\n",
       "    }\n",
       "\n",
       "    .dataframe tbody tr th {\n",
       "        vertical-align: top;\n",
       "    }\n",
       "</style>\n",
       "<table border=\"1\" class=\"dataframe\">\n",
       "  <thead>\n",
       "    <tr style=\"text-align: right;\">\n",
       "      <th></th>\n",
       "      <th>review_author</th>\n",
       "      <th>review_comment_count</th>\n",
       "      <th>review_header</th>\n",
       "      <th>review_posted_date</th>\n",
       "      <th>review_rating</th>\n",
       "      <th>product_name</th>\n",
       "      <th>id</th>\n",
       "      <th>text</th>\n",
       "      <th>negative</th>\n",
       "      <th>positive</th>\n",
       "      <th>overall_tone</th>\n",
       "    </tr>\n",
       "  </thead>\n",
       "  <tbody>\n",
       "    <tr>\n",
       "      <th>0</th>\n",
       "      <td>Genryu</td>\n",
       "      <td>16</td>\n",
       "      <td>Free your mind - take the red pill</td>\n",
       "      <td>2016-10-16</td>\n",
       "      <td>5.0</td>\n",
       "      <td>Playstation VR</td>\n",
       "      <td>1</td>\n",
       "      <td>This is probably the first VR experience for m...</td>\n",
       "      <td>-4</td>\n",
       "      <td>4</td>\n",
       "      <td>0</td>\n",
       "    </tr>\n",
       "    <tr>\n",
       "      <th>1</th>\n",
       "      <td>Reynan</td>\n",
       "      <td>20</td>\n",
       "      <td>Living The Dream!</td>\n",
       "      <td>2016-11-03</td>\n",
       "      <td>5.0</td>\n",
       "      <td>Playstation VR</td>\n",
       "      <td>2</td>\n",
       "      <td>20 years ago, 12 year old me would dream about...</td>\n",
       "      <td>-4</td>\n",
       "      <td>4</td>\n",
       "      <td>0</td>\n",
       "    </tr>\n",
       "    <tr>\n",
       "      <th>2</th>\n",
       "      <td>Micah H.</td>\n",
       "      <td>0</td>\n",
       "      <td>Someone who plays a lot of solo games? Free up...</td>\n",
       "      <td>2017-11-01</td>\n",
       "      <td>5.0</td>\n",
       "      <td>Playstation VR</td>\n",
       "      <td>3</td>\n",
       "      <td>****Important note: You need to buy a separate...</td>\n",
       "      <td>-4</td>\n",
       "      <td>3</td>\n",
       "      <td>-1</td>\n",
       "    </tr>\n",
       "    <tr>\n",
       "      <th>3</th>\n",
       "      <td>Stephen</td>\n",
       "      <td>0</td>\n",
       "      <td>This is AMAZING</td>\n",
       "      <td>2017-09-09</td>\n",
       "      <td>4.0</td>\n",
       "      <td>Playstation VR</td>\n",
       "      <td>4</td>\n",
       "      <td>I love the PSVR. I had the Samsung gear vr, an...</td>\n",
       "      <td>-3</td>\n",
       "      <td>3</td>\n",
       "      <td>0</td>\n",
       "    </tr>\n",
       "    <tr>\n",
       "      <th>4</th>\n",
       "      <td>801Jones</td>\n",
       "      <td>0</td>\n",
       "      <td>If you're thinking about it, stop thinking and...</td>\n",
       "      <td>2017-09-20</td>\n",
       "      <td>5.0</td>\n",
       "      <td>Playstation VR</td>\n",
       "      <td>5</td>\n",
       "      <td>As someone who is reluctant to \"early adopt\" b...</td>\n",
       "      <td>-3</td>\n",
       "      <td>3</td>\n",
       "      <td>0</td>\n",
       "    </tr>\n",
       "  </tbody>\n",
       "</table>\n",
       "</div>"
      ],
      "text/plain": [
       "  review_author review_comment_count  \\\n",
       "0        Genryu                   16   \n",
       "1        Reynan                   20   \n",
       "2      Micah H.                    0   \n",
       "3       Stephen                    0   \n",
       "4      801Jones                    0   \n",
       "\n",
       "                                       review_header review_posted_date  \\\n",
       "0                 Free your mind - take the red pill         2016-10-16   \n",
       "1                                  Living The Dream!         2016-11-03   \n",
       "2  Someone who plays a lot of solo games? Free up...         2017-11-01   \n",
       "3                                    This is AMAZING         2017-09-09   \n",
       "4  If you're thinking about it, stop thinking and...         2017-09-20   \n",
       "\n",
       "  review_rating    product_name  id  \\\n",
       "0          5.0   Playstation VR   1   \n",
       "1          5.0   Playstation VR   2   \n",
       "2          5.0   Playstation VR   3   \n",
       "3          4.0   Playstation VR   4   \n",
       "4          5.0   Playstation VR   5   \n",
       "\n",
       "                                                text  negative  positive  \\\n",
       "0  This is probably the first VR experience for m...        -4         4   \n",
       "1  20 years ago, 12 year old me would dream about...        -4         4   \n",
       "2  ****Important note: You need to buy a separate...        -4         3   \n",
       "3  I love the PSVR. I had the Samsung gear vr, an...        -3         3   \n",
       "4  As someone who is reluctant to \"early adopt\" b...        -3         3   \n",
       "\n",
       "   overall_tone  \n",
       "0             0  \n",
       "1             0  \n",
       "2            -1  \n",
       "3             0  \n",
       "4             0  "
      ]
     },
     "execution_count": 72,
     "metadata": {},
     "output_type": "execute_result"
    }
   ],
   "source": [
    "Playstation_VR_merged.head() ## new dataframe now shows the sentiment analysis together with the original data"
   ]
  },
  {
   "cell_type": "markdown",
   "metadata": {},
   "source": [
    "### 3.3.4 Appending Sentiment Files"
   ]
  },
  {
   "cell_type": "code",
   "execution_count": 73,
   "metadata": {
    "collapsed": true
   },
   "outputs": [],
   "source": [
    "total_sentiment = HTC_Vive_merged.append(Oculus_Rift_merged) ##appending sentiment files to one overall file"
   ]
  },
  {
   "cell_type": "code",
   "execution_count": 74,
   "metadata": {
    "collapsed": true
   },
   "outputs": [],
   "source": [
    "total_sentiment = total_sentiment.append(Playstation_VR_merged)"
   ]
  },
  {
   "cell_type": "code",
   "execution_count": 75,
   "metadata": {},
   "outputs": [
    {
     "data": {
      "text/html": [
       "<div>\n",
       "<style>\n",
       "    .dataframe thead tr:only-child th {\n",
       "        text-align: right;\n",
       "    }\n",
       "\n",
       "    .dataframe thead th {\n",
       "        text-align: left;\n",
       "    }\n",
       "\n",
       "    .dataframe tbody tr th {\n",
       "        vertical-align: top;\n",
       "    }\n",
       "</style>\n",
       "<table border=\"1\" class=\"dataframe\">\n",
       "  <thead>\n",
       "    <tr style=\"text-align: right;\">\n",
       "      <th></th>\n",
       "      <th>review_author</th>\n",
       "      <th>review_comment_count</th>\n",
       "      <th>review_header</th>\n",
       "      <th>review_posted_date</th>\n",
       "      <th>review_rating</th>\n",
       "      <th>product_name</th>\n",
       "      <th>id</th>\n",
       "      <th>text</th>\n",
       "      <th>negative</th>\n",
       "      <th>positive</th>\n",
       "      <th>overall_tone</th>\n",
       "    </tr>\n",
       "  </thead>\n",
       "  <tbody>\n",
       "    <tr>\n",
       "      <th>0</th>\n",
       "      <td>Chris</td>\n",
       "      <td>30</td>\n",
       "      <td>Regardless of cost, you will absolutely love t...</td>\n",
       "      <td>2016-09-28</td>\n",
       "      <td>5.0</td>\n",
       "      <td>HTC Vive</td>\n",
       "      <td>1</td>\n",
       "      <td>It's hard to do bulleted, concise reviews on s...</td>\n",
       "      <td>-4</td>\n",
       "      <td>3</td>\n",
       "      <td>-1</td>\n",
       "    </tr>\n",
       "    <tr>\n",
       "      <th>1</th>\n",
       "      <td>Dusty Fohs</td>\n",
       "      <td>3</td>\n",
       "      <td>A True Blessing. I Am So Thankful!!</td>\n",
       "      <td>2016-10-17</td>\n",
       "      <td>5.0</td>\n",
       "      <td>HTC Vive</td>\n",
       "      <td>2</td>\n",
       "      <td>This device is life changing. I'm a huge gamer...</td>\n",
       "      <td>-4</td>\n",
       "      <td>4</td>\n",
       "      <td>0</td>\n",
       "    </tr>\n",
       "    <tr>\n",
       "      <th>2</th>\n",
       "      <td>Taylor</td>\n",
       "      <td>9</td>\n",
       "      <td>Truly An Amazing Experience - [Updated 10/11/2...</td>\n",
       "      <td>2016-06-20</td>\n",
       "      <td>5.0</td>\n",
       "      <td>HTC Vive</td>\n",
       "      <td>3</td>\n",
       "      <td>10/11/2017 Update: I have now owned my Vive fo...</td>\n",
       "      <td>-4</td>\n",
       "      <td>3</td>\n",
       "      <td>-1</td>\n",
       "    </tr>\n",
       "    <tr>\n",
       "      <th>3</th>\n",
       "      <td>Azhlynne</td>\n",
       "      <td>0</td>\n",
       "      <td>Nice. When it works.</td>\n",
       "      <td>2018-02-02</td>\n",
       "      <td>3.0</td>\n",
       "      <td>HTC Vive</td>\n",
       "      <td>4</td>\n",
       "      <td>I got this for my son at the end of Oct. 2017....</td>\n",
       "      <td>-4</td>\n",
       "      <td>2</td>\n",
       "      <td>-2</td>\n",
       "    </tr>\n",
       "    <tr>\n",
       "      <th>4</th>\n",
       "      <td>Cody</td>\n",
       "      <td>0</td>\n",
       "      <td>Don't Hesitate, Do It</td>\n",
       "      <td>2017-09-19</td>\n",
       "      <td>5.0</td>\n",
       "      <td>HTC Vive</td>\n",
       "      <td>5</td>\n",
       "      <td>I never thought something would reignite my ex...</td>\n",
       "      <td>-2</td>\n",
       "      <td>3</td>\n",
       "      <td>1</td>\n",
       "    </tr>\n",
       "  </tbody>\n",
       "</table>\n",
       "</div>"
      ],
      "text/plain": [
       "  review_author review_comment_count  \\\n",
       "0         Chris                   30   \n",
       "1    Dusty Fohs                    3   \n",
       "2        Taylor                    9   \n",
       "3      Azhlynne                    0   \n",
       "4          Cody                    0   \n",
       "\n",
       "                                       review_header review_posted_date  \\\n",
       "0  Regardless of cost, you will absolutely love t...         2016-09-28   \n",
       "1                A True Blessing. I Am So Thankful!!         2016-10-17   \n",
       "2  Truly An Amazing Experience - [Updated 10/11/2...         2016-06-20   \n",
       "3                               Nice. When it works.         2018-02-02   \n",
       "4                              Don't Hesitate, Do It         2017-09-19   \n",
       "\n",
       "  review_rating product_name  id  \\\n",
       "0          5.0      HTC Vive   1   \n",
       "1          5.0      HTC Vive   2   \n",
       "2          5.0      HTC Vive   3   \n",
       "3          3.0      HTC Vive   4   \n",
       "4          5.0      HTC Vive   5   \n",
       "\n",
       "                                                text  negative  positive  \\\n",
       "0  It's hard to do bulleted, concise reviews on s...        -4         3   \n",
       "1  This device is life changing. I'm a huge gamer...        -4         4   \n",
       "2  10/11/2017 Update: I have now owned my Vive fo...        -4         3   \n",
       "3  I got this for my son at the end of Oct. 2017....        -4         2   \n",
       "4  I never thought something would reignite my ex...        -2         3   \n",
       "\n",
       "   overall_tone  \n",
       "0            -1  \n",
       "1             0  \n",
       "2            -1  \n",
       "3            -2  \n",
       "4             1  "
      ]
     },
     "execution_count": 75,
     "metadata": {},
     "output_type": "execute_result"
    }
   ],
   "source": [
    "total_sentiment.head() ##sentiment file that contains reviews characteristics and sentiment scores for the relevant products"
   ]
  },
  {
   "cell_type": "markdown",
   "metadata": {},
   "source": [
    "#### 3.3.4.1 Changing Data Types"
   ]
  },
  {
   "cell_type": "code",
   "execution_count": 76,
   "metadata": {},
   "outputs": [
    {
     "data": {
      "text/plain": [
       "review_author                   object\n",
       "review_comment_count            object\n",
       "review_header                   object\n",
       "review_posted_date      datetime64[ns]\n",
       "review_rating                   object\n",
       "product_name                    object\n",
       "id                               int64\n",
       "text                            object\n",
       "negative                         int64\n",
       "positive                         int64\n",
       "overall_tone                     int64\n",
       "dtype: object"
      ]
     },
     "execution_count": 76,
     "metadata": {},
     "output_type": "execute_result"
    }
   ],
   "source": [
    "total_sentiment.dtypes ## date, review rating and review comment count still objects"
   ]
  },
  {
   "cell_type": "code",
   "execution_count": 77,
   "metadata": {
    "collapsed": true
   },
   "outputs": [],
   "source": [
    "total_sentiment['review_posted_date'] = total_sentiment['review_posted_date'].apply(pd.to_datetime) ## changing review date to datetime format\n",
    "total_sentiment['review_rating'] = pd.to_numeric(total_sentiment['review_rating'], errors='coerse') ##changing review rating type from object to integer\n",
    "total_sentiment['review_comment_count'] = pd.to_numeric(total_sentiment['review_comment_count'], errors='coerse') ##changing review comment count type from object to integer"
   ]
  },
  {
   "cell_type": "code",
   "execution_count": 78,
   "metadata": {},
   "outputs": [
    {
     "data": {
      "text/plain": [
       "review_author                   object\n",
       "review_comment_count             int64\n",
       "review_header                   object\n",
       "review_posted_date      datetime64[ns]\n",
       "review_rating                  float64\n",
       "product_name                    object\n",
       "id                               int64\n",
       "text                            object\n",
       "negative                         int64\n",
       "positive                         int64\n",
       "overall_tone                     int64\n",
       "dtype: object"
      ]
     },
     "execution_count": 78,
     "metadata": {},
     "output_type": "execute_result"
    }
   ],
   "source": [
    "total_sentiment.dtypes ## corrected datatypes"
   ]
  },
  {
   "cell_type": "markdown",
   "metadata": {},
   "source": [
    "#### 3.3.4.2 Adding Column with Year and Month"
   ]
  },
  {
   "cell_type": "code",
   "execution_count": 79,
   "metadata": {
    "collapsed": true
   },
   "outputs": [],
   "source": [
    "total_sentiment ['month'] = pd.to_datetime(total_sentiment['review_posted_date'], format='%Y%m%d').dt.strftime('%m').astype(int) # stored as integer, since it should be grouped per month to a later point and sorting it per month doesn't work when the month names ('january', 'february'...) are stored as object\n",
    "total_sentiment['year'] = pd.to_datetime(total_sentiment['review_posted_date'], format='%Y%m%d').dt.strftime('%Y').astype(int) "
   ]
  },
  {
   "cell_type": "code",
   "execution_count": 80,
   "metadata": {},
   "outputs": [
    {
     "data": {
      "text/html": [
       "<div>\n",
       "<style>\n",
       "    .dataframe thead tr:only-child th {\n",
       "        text-align: right;\n",
       "    }\n",
       "\n",
       "    .dataframe thead th {\n",
       "        text-align: left;\n",
       "    }\n",
       "\n",
       "    .dataframe tbody tr th {\n",
       "        vertical-align: top;\n",
       "    }\n",
       "</style>\n",
       "<table border=\"1\" class=\"dataframe\">\n",
       "  <thead>\n",
       "    <tr style=\"text-align: right;\">\n",
       "      <th></th>\n",
       "      <th>review_author</th>\n",
       "      <th>review_comment_count</th>\n",
       "      <th>review_header</th>\n",
       "      <th>review_posted_date</th>\n",
       "      <th>review_rating</th>\n",
       "      <th>product_name</th>\n",
       "      <th>id</th>\n",
       "      <th>text</th>\n",
       "      <th>negative</th>\n",
       "      <th>positive</th>\n",
       "      <th>overall_tone</th>\n",
       "      <th>month</th>\n",
       "      <th>year</th>\n",
       "    </tr>\n",
       "  </thead>\n",
       "  <tbody>\n",
       "    <tr>\n",
       "      <th>0</th>\n",
       "      <td>Chris</td>\n",
       "      <td>30</td>\n",
       "      <td>Regardless of cost, you will absolutely love t...</td>\n",
       "      <td>2016-09-28</td>\n",
       "      <td>5.0</td>\n",
       "      <td>HTC Vive</td>\n",
       "      <td>1</td>\n",
       "      <td>It's hard to do bulleted, concise reviews on s...</td>\n",
       "      <td>-4</td>\n",
       "      <td>3</td>\n",
       "      <td>-1</td>\n",
       "      <td>9</td>\n",
       "      <td>2016</td>\n",
       "    </tr>\n",
       "    <tr>\n",
       "      <th>1</th>\n",
       "      <td>Dusty Fohs</td>\n",
       "      <td>3</td>\n",
       "      <td>A True Blessing. I Am So Thankful!!</td>\n",
       "      <td>2016-10-17</td>\n",
       "      <td>5.0</td>\n",
       "      <td>HTC Vive</td>\n",
       "      <td>2</td>\n",
       "      <td>This device is life changing. I'm a huge gamer...</td>\n",
       "      <td>-4</td>\n",
       "      <td>4</td>\n",
       "      <td>0</td>\n",
       "      <td>10</td>\n",
       "      <td>2016</td>\n",
       "    </tr>\n",
       "    <tr>\n",
       "      <th>2</th>\n",
       "      <td>Taylor</td>\n",
       "      <td>9</td>\n",
       "      <td>Truly An Amazing Experience - [Updated 10/11/2...</td>\n",
       "      <td>2016-06-20</td>\n",
       "      <td>5.0</td>\n",
       "      <td>HTC Vive</td>\n",
       "      <td>3</td>\n",
       "      <td>10/11/2017 Update: I have now owned my Vive fo...</td>\n",
       "      <td>-4</td>\n",
       "      <td>3</td>\n",
       "      <td>-1</td>\n",
       "      <td>6</td>\n",
       "      <td>2016</td>\n",
       "    </tr>\n",
       "    <tr>\n",
       "      <th>3</th>\n",
       "      <td>Azhlynne</td>\n",
       "      <td>0</td>\n",
       "      <td>Nice. When it works.</td>\n",
       "      <td>2018-02-02</td>\n",
       "      <td>3.0</td>\n",
       "      <td>HTC Vive</td>\n",
       "      <td>4</td>\n",
       "      <td>I got this for my son at the end of Oct. 2017....</td>\n",
       "      <td>-4</td>\n",
       "      <td>2</td>\n",
       "      <td>-2</td>\n",
       "      <td>2</td>\n",
       "      <td>2018</td>\n",
       "    </tr>\n",
       "    <tr>\n",
       "      <th>4</th>\n",
       "      <td>Cody</td>\n",
       "      <td>0</td>\n",
       "      <td>Don't Hesitate, Do It</td>\n",
       "      <td>2017-09-19</td>\n",
       "      <td>5.0</td>\n",
       "      <td>HTC Vive</td>\n",
       "      <td>5</td>\n",
       "      <td>I never thought something would reignite my ex...</td>\n",
       "      <td>-2</td>\n",
       "      <td>3</td>\n",
       "      <td>1</td>\n",
       "      <td>9</td>\n",
       "      <td>2017</td>\n",
       "    </tr>\n",
       "  </tbody>\n",
       "</table>\n",
       "</div>"
      ],
      "text/plain": [
       "  review_author  review_comment_count  \\\n",
       "0         Chris                    30   \n",
       "1    Dusty Fohs                     3   \n",
       "2        Taylor                     9   \n",
       "3      Azhlynne                     0   \n",
       "4          Cody                     0   \n",
       "\n",
       "                                       review_header review_posted_date  \\\n",
       "0  Regardless of cost, you will absolutely love t...         2016-09-28   \n",
       "1                A True Blessing. I Am So Thankful!!         2016-10-17   \n",
       "2  Truly An Amazing Experience - [Updated 10/11/2...         2016-06-20   \n",
       "3                               Nice. When it works.         2018-02-02   \n",
       "4                              Don't Hesitate, Do It         2017-09-19   \n",
       "\n",
       "   review_rating product_name  id  \\\n",
       "0            5.0     HTC Vive   1   \n",
       "1            5.0     HTC Vive   2   \n",
       "2            5.0     HTC Vive   3   \n",
       "3            3.0     HTC Vive   4   \n",
       "4            5.0     HTC Vive   5   \n",
       "\n",
       "                                                text  negative  positive  \\\n",
       "0  It's hard to do bulleted, concise reviews on s...        -4         3   \n",
       "1  This device is life changing. I'm a huge gamer...        -4         4   \n",
       "2  10/11/2017 Update: I have now owned my Vive fo...        -4         3   \n",
       "3  I got this for my son at the end of Oct. 2017....        -4         2   \n",
       "4  I never thought something would reignite my ex...        -2         3   \n",
       "\n",
       "   overall_tone  month  year  \n",
       "0            -1      9  2016  \n",
       "1             0     10  2016  \n",
       "2            -1      6  2016  \n",
       "3            -2      2  2018  \n",
       "4             1      9  2017  "
      ]
     },
     "execution_count": 80,
     "metadata": {},
     "output_type": "execute_result"
    }
   ],
   "source": [
    "total_sentiment.head() ##including columns for month and year now"
   ]
  },
  {
   "cell_type": "markdown",
   "metadata": {},
   "source": [
    "#### 3.3.4.3 Filtering File for Products of Business Year 2017"
   ]
  },
  {
   "cell_type": "code",
   "execution_count": 81,
   "metadata": {
    "collapsed": true
   },
   "outputs": [],
   "source": [
    "total_sentiment = total_sentiment.loc[total_sentiment['year'] == 2017] ## just using sales of the year 2017 for regression\n",
    "total_sentiment = total_sentiment.loc[total_sentiment['product_name'] != 'Oculus Rift'] ##removing Oculus Rift since sales started in August 2017 and no reviews are available for the whole year "
   ]
  },
  {
   "cell_type": "code",
   "execution_count": 82,
   "metadata": {},
   "outputs": [
    {
     "data": {
      "text/plain": [
       "HTC Vive          593\n",
       "Playstation VR    223\n",
       "Name: product_name, dtype: int64"
      ]
     },
     "execution_count": 82,
     "metadata": {},
     "output_type": "execute_result"
    }
   ],
   "source": [
    "total_sentiment['product_name'].value_counts() ## showing the reviews of HTC Vive and Playstation VR for the business year 2017"
   ]
  },
  {
   "cell_type": "code",
   "execution_count": 83,
   "metadata": {},
   "outputs": [
    {
     "data": {
      "text/html": [
       "<div>\n",
       "<style>\n",
       "    .dataframe thead tr:only-child th {\n",
       "        text-align: right;\n",
       "    }\n",
       "\n",
       "    .dataframe thead th {\n",
       "        text-align: left;\n",
       "    }\n",
       "\n",
       "    .dataframe tbody tr th {\n",
       "        vertical-align: top;\n",
       "    }\n",
       "</style>\n",
       "<table border=\"1\" class=\"dataframe\">\n",
       "  <thead>\n",
       "    <tr style=\"text-align: right;\">\n",
       "      <th></th>\n",
       "      <th>review_author</th>\n",
       "      <th>review_comment_count</th>\n",
       "      <th>review_header</th>\n",
       "      <th>review_posted_date</th>\n",
       "      <th>review_rating</th>\n",
       "      <th>product_name</th>\n",
       "      <th>id</th>\n",
       "      <th>text</th>\n",
       "      <th>negative</th>\n",
       "      <th>positive</th>\n",
       "      <th>overall_tone</th>\n",
       "      <th>month</th>\n",
       "      <th>year</th>\n",
       "    </tr>\n",
       "  </thead>\n",
       "  <tbody>\n",
       "    <tr>\n",
       "      <th>4</th>\n",
       "      <td>Cody</td>\n",
       "      <td>0</td>\n",
       "      <td>Don't Hesitate, Do It</td>\n",
       "      <td>2017-09-19</td>\n",
       "      <td>5.0</td>\n",
       "      <td>HTC Vive</td>\n",
       "      <td>5</td>\n",
       "      <td>I never thought something would reignite my ex...</td>\n",
       "      <td>-2</td>\n",
       "      <td>3</td>\n",
       "      <td>1</td>\n",
       "      <td>9</td>\n",
       "      <td>2017</td>\n",
       "    </tr>\n",
       "    <tr>\n",
       "      <th>5</th>\n",
       "      <td>Travis</td>\n",
       "      <td>0</td>\n",
       "      <td>Best system on the market but quirky and fragile</td>\n",
       "      <td>2017-03-14</td>\n",
       "      <td>4.0</td>\n",
       "      <td>HTC Vive</td>\n",
       "      <td>6</td>\n",
       "      <td>It's the HTC Vive. It's VR and it's all you ca...</td>\n",
       "      <td>-3</td>\n",
       "      <td>4</td>\n",
       "      <td>1</td>\n",
       "      <td>3</td>\n",
       "      <td>2017</td>\n",
       "    </tr>\n",
       "    <tr>\n",
       "      <th>6</th>\n",
       "      <td>L. Lemur</td>\n",
       "      <td>0</td>\n",
       "      <td>A truly amazing &amp; unexplainable experience.</td>\n",
       "      <td>2017-06-25</td>\n",
       "      <td>5.0</td>\n",
       "      <td>HTC Vive</td>\n",
       "      <td>7</td>\n",
       "      <td>If I could give this 11 stars I would. Most of...</td>\n",
       "      <td>-1</td>\n",
       "      <td>3</td>\n",
       "      <td>2</td>\n",
       "      <td>6</td>\n",
       "      <td>2017</td>\n",
       "    </tr>\n",
       "    <tr>\n",
       "      <th>7</th>\n",
       "      <td>Nicodemus</td>\n",
       "      <td>0</td>\n",
       "      <td>The sense of scale with this is incomparable t...</td>\n",
       "      <td>2017-08-31</td>\n",
       "      <td>4.0</td>\n",
       "      <td>HTC Vive</td>\n",
       "      <td>8</td>\n",
       "      <td>Disclaimer: I've mainly been using this with g...</td>\n",
       "      <td>-3</td>\n",
       "      <td>4</td>\n",
       "      <td>1</td>\n",
       "      <td>8</td>\n",
       "      <td>2017</td>\n",
       "    </tr>\n",
       "    <tr>\n",
       "      <th>8</th>\n",
       "      <td>Jamie Low</td>\n",
       "      <td>0</td>\n",
       "      <td>This is why you should order your Vive on Amazon.</td>\n",
       "      <td>2017-06-15</td>\n",
       "      <td>5.0</td>\n",
       "      <td>HTC Vive</td>\n",
       "      <td>9</td>\n",
       "      <td>Yes, the VR experience on the Vive is amazing,...</td>\n",
       "      <td>-2</td>\n",
       "      <td>3</td>\n",
       "      <td>1</td>\n",
       "      <td>6</td>\n",
       "      <td>2017</td>\n",
       "    </tr>\n",
       "  </tbody>\n",
       "</table>\n",
       "</div>"
      ],
      "text/plain": [
       "  review_author  review_comment_count  \\\n",
       "4          Cody                     0   \n",
       "5        Travis                     0   \n",
       "6      L. Lemur                     0   \n",
       "7     Nicodemus                     0   \n",
       "8     Jamie Low                     0   \n",
       "\n",
       "                                       review_header review_posted_date  \\\n",
       "4                              Don't Hesitate, Do It         2017-09-19   \n",
       "5   Best system on the market but quirky and fragile         2017-03-14   \n",
       "6        A truly amazing & unexplainable experience.         2017-06-25   \n",
       "7  The sense of scale with this is incomparable t...         2017-08-31   \n",
       "8  This is why you should order your Vive on Amazon.         2017-06-15   \n",
       "\n",
       "   review_rating product_name  id  \\\n",
       "4            5.0     HTC Vive   5   \n",
       "5            4.0     HTC Vive   6   \n",
       "6            5.0     HTC Vive   7   \n",
       "7            4.0     HTC Vive   8   \n",
       "8            5.0     HTC Vive   9   \n",
       "\n",
       "                                                text  negative  positive  \\\n",
       "4  I never thought something would reignite my ex...        -2         3   \n",
       "5  It's the HTC Vive. It's VR and it's all you ca...        -3         4   \n",
       "6  If I could give this 11 stars I would. Most of...        -1         3   \n",
       "7  Disclaimer: I've mainly been using this with g...        -3         4   \n",
       "8  Yes, the VR experience on the Vive is amazing,...        -2         3   \n",
       "\n",
       "   overall_tone  month  year  \n",
       "4             1      9  2017  \n",
       "5             1      3  2017  \n",
       "6             2      6  2017  \n",
       "7             1      8  2017  \n",
       "8             1      6  2017  "
      ]
     },
     "execution_count": 83,
     "metadata": {},
     "output_type": "execute_result"
    }
   ],
   "source": [
    "total_sentiment.head() ##dataframe including the month and the year now"
   ]
  },
  {
   "cell_type": "markdown",
   "metadata": {
    "collapsed": true
   },
   "source": [
    "## 3.4 Preparing Sentiment File for Regression"
   ]
  },
  {
   "cell_type": "markdown",
   "metadata": {
    "collapsed": true
   },
   "source": [
    "### 3.4.1 Grouping by Months"
   ]
  },
  {
   "cell_type": "code",
   "execution_count": 84,
   "metadata": {
    "collapsed": true
   },
   "outputs": [],
   "source": [
    "sentiment_month = total_sentiment.groupby(['month', 'product_name']).mean() ##grouping the sentiment files per month, to show the average review comment count, review rating and overall tone per product"
   ]
  },
  {
   "cell_type": "code",
   "execution_count": 85,
   "metadata": {
    "scrolled": true
   },
   "outputs": [
    {
     "data": {
      "text/html": [
       "<div>\n",
       "<style>\n",
       "    .dataframe thead tr:only-child th {\n",
       "        text-align: right;\n",
       "    }\n",
       "\n",
       "    .dataframe thead th {\n",
       "        text-align: left;\n",
       "    }\n",
       "\n",
       "    .dataframe tbody tr th {\n",
       "        vertical-align: top;\n",
       "    }\n",
       "</style>\n",
       "<table border=\"1\" class=\"dataframe\">\n",
       "  <thead>\n",
       "    <tr style=\"text-align: right;\">\n",
       "      <th></th>\n",
       "      <th></th>\n",
       "      <th>review_comment_count</th>\n",
       "      <th>review_rating</th>\n",
       "      <th>id</th>\n",
       "      <th>negative</th>\n",
       "      <th>positive</th>\n",
       "      <th>overall_tone</th>\n",
       "      <th>year</th>\n",
       "    </tr>\n",
       "    <tr>\n",
       "      <th>month</th>\n",
       "      <th>product_name</th>\n",
       "      <th></th>\n",
       "      <th></th>\n",
       "      <th></th>\n",
       "      <th></th>\n",
       "      <th></th>\n",
       "      <th></th>\n",
       "      <th></th>\n",
       "    </tr>\n",
       "  </thead>\n",
       "  <tbody>\n",
       "    <tr>\n",
       "      <th rowspan=\"2\" valign=\"top\">1</th>\n",
       "      <th>HTC Vive</th>\n",
       "      <td>0.220000</td>\n",
       "      <td>4.450000</td>\n",
       "      <td>495.700000</td>\n",
       "      <td>-1.960000</td>\n",
       "      <td>3.020000</td>\n",
       "      <td>1.060000</td>\n",
       "      <td>2017.0</td>\n",
       "    </tr>\n",
       "    <tr>\n",
       "      <th>Playstation VR</th>\n",
       "      <td>0.206897</td>\n",
       "      <td>4.396552</td>\n",
       "      <td>300.396552</td>\n",
       "      <td>-1.741379</td>\n",
       "      <td>3.068966</td>\n",
       "      <td>1.327586</td>\n",
       "      <td>2017.0</td>\n",
       "    </tr>\n",
       "    <tr>\n",
       "      <th rowspan=\"2\" valign=\"top\">2</th>\n",
       "      <th>HTC Vive</th>\n",
       "      <td>0.382353</td>\n",
       "      <td>4.058824</td>\n",
       "      <td>559.500000</td>\n",
       "      <td>-1.941176</td>\n",
       "      <td>2.691176</td>\n",
       "      <td>0.750000</td>\n",
       "      <td>2017.0</td>\n",
       "    </tr>\n",
       "    <tr>\n",
       "      <th>Playstation VR</th>\n",
       "      <td>0.161290</td>\n",
       "      <td>4.483871</td>\n",
       "      <td>353.032258</td>\n",
       "      <td>-1.741935</td>\n",
       "      <td>2.645161</td>\n",
       "      <td>0.903226</td>\n",
       "      <td>2017.0</td>\n",
       "    </tr>\n",
       "    <tr>\n",
       "      <th>3</th>\n",
       "      <th>HTC Vive</th>\n",
       "      <td>0.268657</td>\n",
       "      <td>4.447761</td>\n",
       "      <td>436.462687</td>\n",
       "      <td>-1.910448</td>\n",
       "      <td>2.716418</td>\n",
       "      <td>0.805970</td>\n",
       "      <td>2017.0</td>\n",
       "    </tr>\n",
       "  </tbody>\n",
       "</table>\n",
       "</div>"
      ],
      "text/plain": [
       "                      review_comment_count  review_rating          id  \\\n",
       "month product_name                                                      \n",
       "1     HTC Vive                    0.220000       4.450000  495.700000   \n",
       "      Playstation VR              0.206897       4.396552  300.396552   \n",
       "2     HTC Vive                    0.382353       4.058824  559.500000   \n",
       "      Playstation VR              0.161290       4.483871  353.032258   \n",
       "3     HTC Vive                    0.268657       4.447761  436.462687   \n",
       "\n",
       "                      negative  positive  overall_tone    year  \n",
       "month product_name                                              \n",
       "1     HTC Vive       -1.960000  3.020000      1.060000  2017.0  \n",
       "      Playstation VR -1.741379  3.068966      1.327586  2017.0  \n",
       "2     HTC Vive       -1.941176  2.691176      0.750000  2017.0  \n",
       "      Playstation VR -1.741935  2.645161      0.903226  2017.0  \n",
       "3     HTC Vive       -1.910448  2.716418      0.805970  2017.0  "
      ]
     },
     "execution_count": 85,
     "metadata": {},
     "output_type": "execute_result"
    }
   ],
   "source": [
    "sentiment_month.head() ##averages for each month\n"
   ]
  },
  {
   "cell_type": "code",
   "execution_count": 86,
   "metadata": {
    "collapsed": true
   },
   "outputs": [],
   "source": [
    "sentiment_month_sum = total_sentiment.groupby(['month', 'product_name']).count() ##counting the sum of occuring reviews in order to get the amount per month"
   ]
  },
  {
   "cell_type": "code",
   "execution_count": 87,
   "metadata": {
    "collapsed": true
   },
   "outputs": [],
   "source": [
    "sentiment_month_sum['total_amount_reviews'] = sentiment_month_sum['review_header'] ##creating new column with the total reviews per month"
   ]
  },
  {
   "cell_type": "code",
   "execution_count": 88,
   "metadata": {
    "collapsed": true
   },
   "outputs": [],
   "source": [
    "sentiment_month['total_amount_reviews'] = sentiment_month_sum['total_amount_reviews']## storing the total amount of reviews per month with the average ratings, etc per month"
   ]
  },
  {
   "cell_type": "code",
   "execution_count": 89,
   "metadata": {
    "collapsed": true
   },
   "outputs": [],
   "source": [
    "sentiment_month.drop(['id', 'year', 'negative','positive'], axis=1, inplace=True) ##dropping unneccessary columns\n",
    "sentiment_month = sentiment_month.reset_index()"
   ]
  },
  {
   "cell_type": "code",
   "execution_count": 90,
   "metadata": {
    "scrolled": false
   },
   "outputs": [
    {
     "data": {
      "text/html": [
       "<div>\n",
       "<style>\n",
       "    .dataframe thead tr:only-child th {\n",
       "        text-align: right;\n",
       "    }\n",
       "\n",
       "    .dataframe thead th {\n",
       "        text-align: left;\n",
       "    }\n",
       "\n",
       "    .dataframe tbody tr th {\n",
       "        vertical-align: top;\n",
       "    }\n",
       "</style>\n",
       "<table border=\"1\" class=\"dataframe\">\n",
       "  <thead>\n",
       "    <tr style=\"text-align: right;\">\n",
       "      <th></th>\n",
       "      <th>month</th>\n",
       "      <th>product_name</th>\n",
       "      <th>review_comment_count</th>\n",
       "      <th>review_rating</th>\n",
       "      <th>overall_tone</th>\n",
       "      <th>total_amount_reviews</th>\n",
       "    </tr>\n",
       "  </thead>\n",
       "  <tbody>\n",
       "    <tr>\n",
       "      <th>0</th>\n",
       "      <td>1</td>\n",
       "      <td>HTC Vive</td>\n",
       "      <td>0.220000</td>\n",
       "      <td>4.450000</td>\n",
       "      <td>1.060000</td>\n",
       "      <td>100</td>\n",
       "    </tr>\n",
       "    <tr>\n",
       "      <th>1</th>\n",
       "      <td>1</td>\n",
       "      <td>Playstation VR</td>\n",
       "      <td>0.206897</td>\n",
       "      <td>4.396552</td>\n",
       "      <td>1.327586</td>\n",
       "      <td>58</td>\n",
       "    </tr>\n",
       "    <tr>\n",
       "      <th>2</th>\n",
       "      <td>2</td>\n",
       "      <td>HTC Vive</td>\n",
       "      <td>0.382353</td>\n",
       "      <td>4.058824</td>\n",
       "      <td>0.750000</td>\n",
       "      <td>68</td>\n",
       "    </tr>\n",
       "    <tr>\n",
       "      <th>3</th>\n",
       "      <td>2</td>\n",
       "      <td>Playstation VR</td>\n",
       "      <td>0.161290</td>\n",
       "      <td>4.483871</td>\n",
       "      <td>0.903226</td>\n",
       "      <td>31</td>\n",
       "    </tr>\n",
       "    <tr>\n",
       "      <th>4</th>\n",
       "      <td>3</td>\n",
       "      <td>HTC Vive</td>\n",
       "      <td>0.268657</td>\n",
       "      <td>4.447761</td>\n",
       "      <td>0.805970</td>\n",
       "      <td>67</td>\n",
       "    </tr>\n",
       "  </tbody>\n",
       "</table>\n",
       "</div>"
      ],
      "text/plain": [
       "   month    product_name  review_comment_count  review_rating  overall_tone  \\\n",
       "0      1        HTC Vive              0.220000       4.450000      1.060000   \n",
       "1      1  Playstation VR              0.206897       4.396552      1.327586   \n",
       "2      2        HTC Vive              0.382353       4.058824      0.750000   \n",
       "3      2  Playstation VR              0.161290       4.483871      0.903226   \n",
       "4      3        HTC Vive              0.268657       4.447761      0.805970   \n",
       "\n",
       "   total_amount_reviews  \n",
       "0                   100  \n",
       "1                    58  \n",
       "2                    68  \n",
       "3                    31  \n",
       "4                    67  "
      ]
     },
     "execution_count": 90,
     "metadata": {},
     "output_type": "execute_result"
    }
   ],
   "source": [
    "sentiment_month.head() ##cleaned grouping"
   ]
  },
  {
   "cell_type": "markdown",
   "metadata": {
    "collapsed": true
   },
   "source": [
    "### 3.4.2 Splitting Into Dataframe for each Product"
   ]
  },
  {
   "cell_type": "code",
   "execution_count": 91,
   "metadata": {},
   "outputs": [
    {
     "data": {
      "text/plain": [
       "month                     int64\n",
       "product_name             object\n",
       "review_comment_count    float64\n",
       "review_rating           float64\n",
       "overall_tone            float64\n",
       "total_amount_reviews      int64\n",
       "dtype: object"
      ]
     },
     "execution_count": 91,
     "metadata": {},
     "output_type": "execute_result"
    }
   ],
   "source": [
    "sentiment_monthly_htc = sentiment_month.loc [sentiment_month['product_name'] == 'HTC Vive'] ##filtering sentiment per month for the HTC Vive to store into own dataframe\n",
    "sentiment_monthly_playstation = sentiment_month.loc [sentiment_month['product_name'] == 'Playstation VR'] ##filtering sentiment per month for the Playstation VR to store into own dataframe\n",
    "sentiment_monthly_htc.reset_index()\n",
    "sentiment_monthly_playstation.reset_index()\n",
    "sentiment_month.dtypes ##showing datatypes"
   ]
  },
  {
   "cell_type": "code",
   "execution_count": 92,
   "metadata": {},
   "outputs": [
    {
     "data": {
      "text/html": [
       "<div>\n",
       "<style>\n",
       "    .dataframe thead tr:only-child th {\n",
       "        text-align: right;\n",
       "    }\n",
       "\n",
       "    .dataframe thead th {\n",
       "        text-align: left;\n",
       "    }\n",
       "\n",
       "    .dataframe tbody tr th {\n",
       "        vertical-align: top;\n",
       "    }\n",
       "</style>\n",
       "<table border=\"1\" class=\"dataframe\">\n",
       "  <thead>\n",
       "    <tr style=\"text-align: right;\">\n",
       "      <th></th>\n",
       "      <th>month</th>\n",
       "      <th>product_name</th>\n",
       "      <th>review_comment_count</th>\n",
       "      <th>review_rating</th>\n",
       "      <th>overall_tone</th>\n",
       "      <th>total_amount_reviews</th>\n",
       "    </tr>\n",
       "  </thead>\n",
       "  <tbody>\n",
       "    <tr>\n",
       "      <th>0</th>\n",
       "      <td>1</td>\n",
       "      <td>HTC Vive</td>\n",
       "      <td>0.220000</td>\n",
       "      <td>4.450000</td>\n",
       "      <td>1.060000</td>\n",
       "      <td>100</td>\n",
       "    </tr>\n",
       "    <tr>\n",
       "      <th>2</th>\n",
       "      <td>2</td>\n",
       "      <td>HTC Vive</td>\n",
       "      <td>0.382353</td>\n",
       "      <td>4.058824</td>\n",
       "      <td>0.750000</td>\n",
       "      <td>68</td>\n",
       "    </tr>\n",
       "    <tr>\n",
       "      <th>4</th>\n",
       "      <td>3</td>\n",
       "      <td>HTC Vive</td>\n",
       "      <td>0.268657</td>\n",
       "      <td>4.447761</td>\n",
       "      <td>0.805970</td>\n",
       "      <td>67</td>\n",
       "    </tr>\n",
       "    <tr>\n",
       "      <th>6</th>\n",
       "      <td>4</td>\n",
       "      <td>HTC Vive</td>\n",
       "      <td>0.256410</td>\n",
       "      <td>4.333333</td>\n",
       "      <td>0.974359</td>\n",
       "      <td>39</td>\n",
       "    </tr>\n",
       "    <tr>\n",
       "      <th>8</th>\n",
       "      <td>5</td>\n",
       "      <td>HTC Vive</td>\n",
       "      <td>0.789474</td>\n",
       "      <td>3.789474</td>\n",
       "      <td>0.763158</td>\n",
       "      <td>38</td>\n",
       "    </tr>\n",
       "  </tbody>\n",
       "</table>\n",
       "</div>"
      ],
      "text/plain": [
       "   month product_name  review_comment_count  review_rating  overall_tone  \\\n",
       "0      1     HTC Vive              0.220000       4.450000      1.060000   \n",
       "2      2     HTC Vive              0.382353       4.058824      0.750000   \n",
       "4      3     HTC Vive              0.268657       4.447761      0.805970   \n",
       "6      4     HTC Vive              0.256410       4.333333      0.974359   \n",
       "8      5     HTC Vive              0.789474       3.789474      0.763158   \n",
       "\n",
       "   total_amount_reviews  \n",
       "0                   100  \n",
       "2                    68  \n",
       "4                    67  \n",
       "6                    39  \n",
       "8                    38  "
      ]
     },
     "execution_count": 92,
     "metadata": {},
     "output_type": "execute_result"
    }
   ],
   "source": [
    "sentiment_monthly_htc.head() ## dataframe with total amount reviews per month, monthly review rating, commentcount and overall tone for HTC Vive"
   ]
  },
  {
   "cell_type": "code",
   "execution_count": 93,
   "metadata": {},
   "outputs": [
    {
     "data": {
      "text/html": [
       "<div>\n",
       "<style>\n",
       "    .dataframe thead tr:only-child th {\n",
       "        text-align: right;\n",
       "    }\n",
       "\n",
       "    .dataframe thead th {\n",
       "        text-align: left;\n",
       "    }\n",
       "\n",
       "    .dataframe tbody tr th {\n",
       "        vertical-align: top;\n",
       "    }\n",
       "</style>\n",
       "<table border=\"1\" class=\"dataframe\">\n",
       "  <thead>\n",
       "    <tr style=\"text-align: right;\">\n",
       "      <th></th>\n",
       "      <th>month</th>\n",
       "      <th>product_name</th>\n",
       "      <th>review_comment_count</th>\n",
       "      <th>review_rating</th>\n",
       "      <th>overall_tone</th>\n",
       "      <th>total_amount_reviews</th>\n",
       "    </tr>\n",
       "  </thead>\n",
       "  <tbody>\n",
       "    <tr>\n",
       "      <th>1</th>\n",
       "      <td>1</td>\n",
       "      <td>Playstation VR</td>\n",
       "      <td>0.206897</td>\n",
       "      <td>4.396552</td>\n",
       "      <td>1.327586</td>\n",
       "      <td>58</td>\n",
       "    </tr>\n",
       "    <tr>\n",
       "      <th>3</th>\n",
       "      <td>2</td>\n",
       "      <td>Playstation VR</td>\n",
       "      <td>0.161290</td>\n",
       "      <td>4.483871</td>\n",
       "      <td>0.903226</td>\n",
       "      <td>31</td>\n",
       "    </tr>\n",
       "    <tr>\n",
       "      <th>5</th>\n",
       "      <td>3</td>\n",
       "      <td>Playstation VR</td>\n",
       "      <td>0.107143</td>\n",
       "      <td>4.678571</td>\n",
       "      <td>1.500000</td>\n",
       "      <td>28</td>\n",
       "    </tr>\n",
       "    <tr>\n",
       "      <th>7</th>\n",
       "      <td>4</td>\n",
       "      <td>Playstation VR</td>\n",
       "      <td>0.000000</td>\n",
       "      <td>4.631579</td>\n",
       "      <td>1.894737</td>\n",
       "      <td>19</td>\n",
       "    </tr>\n",
       "    <tr>\n",
       "      <th>9</th>\n",
       "      <td>5</td>\n",
       "      <td>Playstation VR</td>\n",
       "      <td>0.173913</td>\n",
       "      <td>4.478261</td>\n",
       "      <td>1.391304</td>\n",
       "      <td>23</td>\n",
       "    </tr>\n",
       "  </tbody>\n",
       "</table>\n",
       "</div>"
      ],
      "text/plain": [
       "   month    product_name  review_comment_count  review_rating  overall_tone  \\\n",
       "1      1  Playstation VR              0.206897       4.396552      1.327586   \n",
       "3      2  Playstation VR              0.161290       4.483871      0.903226   \n",
       "5      3  Playstation VR              0.107143       4.678571      1.500000   \n",
       "7      4  Playstation VR              0.000000       4.631579      1.894737   \n",
       "9      5  Playstation VR              0.173913       4.478261      1.391304   \n",
       "\n",
       "   total_amount_reviews  \n",
       "1                    58  \n",
       "3                    31  \n",
       "5                    28  \n",
       "7                    19  \n",
       "9                    23  "
      ]
     },
     "execution_count": 93,
     "metadata": {},
     "output_type": "execute_result"
    }
   ],
   "source": [
    "sentiment_monthly_playstation.head() ## dataframe with total amount reviews per month, monthly review rating, commentcount and overall tone for Playstation VR"
   ]
  },
  {
   "cell_type": "markdown",
   "metadata": {},
   "source": [
    "# 3.4 Cleaning Sales Data"
   ]
  },
  {
   "cell_type": "code",
   "execution_count": 94,
   "metadata": {
    "collapsed": true
   },
   "outputs": [],
   "source": [
    "sales_data = pd.read_pickle ('PhilippAhrens_dataset.pkl')"
   ]
  },
  {
   "cell_type": "markdown",
   "metadata": {},
   "source": [
    "### 3.4.1 Standardising Product Names "
   ]
  },
  {
   "cell_type": "code",
   "execution_count": 95,
   "metadata": {},
   "outputs": [
    {
     "data": {
      "text/html": [
       "<div>\n",
       "<style>\n",
       "    .dataframe thead tr:only-child th {\n",
       "        text-align: right;\n",
       "    }\n",
       "\n",
       "    .dataframe thead th {\n",
       "        text-align: left;\n",
       "    }\n",
       "\n",
       "    .dataframe tbody tr th {\n",
       "        vertical-align: top;\n",
       "    }\n",
       "</style>\n",
       "<table border=\"1\" class=\"dataframe\">\n",
       "  <thead>\n",
       "    <tr style=\"text-align: right;\">\n",
       "      <th></th>\n",
       "      <th>ID</th>\n",
       "      <th>country</th>\n",
       "      <th>date</th>\n",
       "      <th>product</th>\n",
       "      <th>purchases</th>\n",
       "    </tr>\n",
       "  </thead>\n",
       "  <tbody>\n",
       "    <tr>\n",
       "      <th>0</th>\n",
       "      <td>ID1</td>\n",
       "      <td>None</td>\n",
       "      <td>2017-04-06 00:00:00</td>\n",
       "      <td>PlayStation VR</td>\n",
       "      <td>1</td>\n",
       "    </tr>\n",
       "    <tr>\n",
       "      <th>1</th>\n",
       "      <td>ID2</td>\n",
       "      <td>USA</td>\n",
       "      <td>2016-06-20 00:00:00</td>\n",
       "      <td>HTC Vive</td>\n",
       "      <td>1</td>\n",
       "    </tr>\n",
       "    <tr>\n",
       "      <th>2</th>\n",
       "      <td>ID3</td>\n",
       "      <td>US</td>\n",
       "      <td>2017-07-19 00:00:00</td>\n",
       "      <td>oculus R</td>\n",
       "      <td>1</td>\n",
       "    </tr>\n",
       "    <tr>\n",
       "      <th>3</th>\n",
       "      <td>ID4</td>\n",
       "      <td>None</td>\n",
       "      <td>2017-01-17 00:00:00</td>\n",
       "      <td>PlayStation VR</td>\n",
       "      <td>2</td>\n",
       "    </tr>\n",
       "    <tr>\n",
       "      <th>4</th>\n",
       "      <td>ID5</td>\n",
       "      <td>US</td>\n",
       "      <td>2017-10-24 00:00:00</td>\n",
       "      <td>Playstation VR</td>\n",
       "      <td>2</td>\n",
       "    </tr>\n",
       "  </tbody>\n",
       "</table>\n",
       "</div>"
      ],
      "text/plain": [
       "    ID country                 date         product purchases\n",
       "0  ID1    None  2017-04-06 00:00:00  PlayStation VR         1\n",
       "1  ID2     USA  2016-06-20 00:00:00        HTC Vive         1\n",
       "2  ID3      US  2017-07-19 00:00:00        oculus R         1\n",
       "3  ID4    None  2017-01-17 00:00:00  PlayStation VR         2\n",
       "4  ID5      US  2017-10-24 00:00:00  Playstation VR         2"
      ]
     },
     "execution_count": 95,
     "metadata": {},
     "output_type": "execute_result"
    }
   ],
   "source": [
    "sales_data.head()"
   ]
  },
  {
   "cell_type": "code",
   "execution_count": 96,
   "metadata": {},
   "outputs": [
    {
     "data": {
      "text/plain": [
       "PlayStation VR    2225\n",
       "HTC Vive          2166\n",
       "oculus rift       2166\n",
       "htc vive          2125\n",
       "Playstation VR    2107\n",
       "oculus R          2090\n",
       "Name: product, dtype: int64"
      ]
     },
     "execution_count": 96,
     "metadata": {},
     "output_type": "execute_result"
    }
   ],
   "source": [
    "sales_data['product'].value_counts() ##obviously the product names are not uniform, they need to be standardised for working with then"
   ]
  },
  {
   "cell_type": "code",
   "execution_count": 97,
   "metadata": {
    "collapsed": true
   },
   "outputs": [],
   "source": [
    "sales_data['product'] = sales_data ['product'].str.lower() ##since the company name for each product is correct I will lower all words, split it and keep the first word as product name for now"
   ]
  },
  {
   "cell_type": "code",
   "execution_count": 98,
   "metadata": {
    "collapsed": true
   },
   "outputs": [],
   "source": [
    "sales_data['product'] = sales_data['product'].str.split(' ').str[0] ## splits the words and removes everything after the first space"
   ]
  },
  {
   "cell_type": "code",
   "execution_count": 99,
   "metadata": {
    "collapsed": true
   },
   "outputs": [],
   "source": [
    "sales_data.dropna(subset=['product'], how='any', inplace = True) ##drops the NAs/Nones from the dataset"
   ]
  },
  {
   "cell_type": "code",
   "execution_count": 100,
   "metadata": {},
   "outputs": [
    {
     "data": {
      "text/plain": [
       "playstation    4332\n",
       "htc            4291\n",
       "oculus         4256\n",
       "Name: product, dtype: int64"
      ]
     },
     "execution_count": 100,
     "metadata": {},
     "output_type": "execute_result"
    }
   ],
   "source": [
    "sales_data['product'].value_counts(dropna = False) ##value count shows that we have now only rows without NA and correct unique names for each row"
   ]
  },
  {
   "cell_type": "code",
   "execution_count": 101,
   "metadata": {},
   "outputs": [
    {
     "data": {
      "text/html": [
       "<div>\n",
       "<style>\n",
       "    .dataframe thead tr:only-child th {\n",
       "        text-align: right;\n",
       "    }\n",
       "\n",
       "    .dataframe thead th {\n",
       "        text-align: left;\n",
       "    }\n",
       "\n",
       "    .dataframe tbody tr th {\n",
       "        vertical-align: top;\n",
       "    }\n",
       "</style>\n",
       "<table border=\"1\" class=\"dataframe\">\n",
       "  <thead>\n",
       "    <tr style=\"text-align: right;\">\n",
       "      <th></th>\n",
       "      <th>ID</th>\n",
       "      <th>country</th>\n",
       "      <th>date</th>\n",
       "      <th>product</th>\n",
       "      <th>purchases</th>\n",
       "    </tr>\n",
       "  </thead>\n",
       "  <tbody>\n",
       "    <tr>\n",
       "      <th>0</th>\n",
       "      <td>ID1</td>\n",
       "      <td>None</td>\n",
       "      <td>2017-04-06 00:00:00</td>\n",
       "      <td>playstation</td>\n",
       "      <td>1</td>\n",
       "    </tr>\n",
       "    <tr>\n",
       "      <th>1</th>\n",
       "      <td>ID2</td>\n",
       "      <td>USA</td>\n",
       "      <td>2016-06-20 00:00:00</td>\n",
       "      <td>htc</td>\n",
       "      <td>1</td>\n",
       "    </tr>\n",
       "    <tr>\n",
       "      <th>2</th>\n",
       "      <td>ID3</td>\n",
       "      <td>US</td>\n",
       "      <td>2017-07-19 00:00:00</td>\n",
       "      <td>oculus</td>\n",
       "      <td>1</td>\n",
       "    </tr>\n",
       "    <tr>\n",
       "      <th>3</th>\n",
       "      <td>ID4</td>\n",
       "      <td>None</td>\n",
       "      <td>2017-01-17 00:00:00</td>\n",
       "      <td>playstation</td>\n",
       "      <td>2</td>\n",
       "    </tr>\n",
       "    <tr>\n",
       "      <th>4</th>\n",
       "      <td>ID5</td>\n",
       "      <td>US</td>\n",
       "      <td>2017-10-24 00:00:00</td>\n",
       "      <td>playstation</td>\n",
       "      <td>2</td>\n",
       "    </tr>\n",
       "  </tbody>\n",
       "</table>\n",
       "</div>"
      ],
      "text/plain": [
       "    ID country                 date      product purchases\n",
       "0  ID1    None  2017-04-06 00:00:00  playstation         1\n",
       "1  ID2     USA  2016-06-20 00:00:00          htc         1\n",
       "2  ID3      US  2017-07-19 00:00:00       oculus         1\n",
       "3  ID4    None  2017-01-17 00:00:00  playstation         2\n",
       "4  ID5      US  2017-10-24 00:00:00  playstation         2"
      ]
     },
     "execution_count": 101,
     "metadata": {},
     "output_type": "execute_result"
    }
   ],
   "source": [
    "sales_data.head() ##dataset with lowered product names for each transaction, now function for replacing the company name with product name can be applied"
   ]
  },
  {
   "cell_type": "code",
   "execution_count": 102,
   "metadata": {
    "collapsed": true
   },
   "outputs": [],
   "source": [
    "def rename_product(row): ## function for renaming product name\n",
    "    \n",
    "    if row['product'] == 'playstation':\n",
    "        row['product'] = 'Playstation VR'\n",
    "    elif row['product'] == 'oculus':\n",
    "        row['product'] = 'Oculus Rift'\n",
    "    elif row['product'] == 'htc':\n",
    "        row['product'] = 'HTC Vive'\n",
    "    else:\n",
    "        row['product'] = 'None'\n",
    "    \n",
    "\n",
    "    return row"
   ]
  },
  {
   "cell_type": "code",
   "execution_count": 103,
   "metadata": {
    "collapsed": true
   },
   "outputs": [],
   "source": [
    "sales_data = sales_data.apply(rename_product, axis=1) ##renaming the lowered product names to the correct names"
   ]
  },
  {
   "cell_type": "code",
   "execution_count": 104,
   "metadata": {},
   "outputs": [
    {
     "data": {
      "text/html": [
       "<div>\n",
       "<style>\n",
       "    .dataframe thead tr:only-child th {\n",
       "        text-align: right;\n",
       "    }\n",
       "\n",
       "    .dataframe thead th {\n",
       "        text-align: left;\n",
       "    }\n",
       "\n",
       "    .dataframe tbody tr th {\n",
       "        vertical-align: top;\n",
       "    }\n",
       "</style>\n",
       "<table border=\"1\" class=\"dataframe\">\n",
       "  <thead>\n",
       "    <tr style=\"text-align: right;\">\n",
       "      <th></th>\n",
       "      <th>ID</th>\n",
       "      <th>country</th>\n",
       "      <th>date</th>\n",
       "      <th>product</th>\n",
       "      <th>purchases</th>\n",
       "    </tr>\n",
       "  </thead>\n",
       "  <tbody>\n",
       "    <tr>\n",
       "      <th>0</th>\n",
       "      <td>ID1</td>\n",
       "      <td>None</td>\n",
       "      <td>2017-04-06 00:00:00</td>\n",
       "      <td>Playstation VR</td>\n",
       "      <td>1</td>\n",
       "    </tr>\n",
       "    <tr>\n",
       "      <th>1</th>\n",
       "      <td>ID2</td>\n",
       "      <td>USA</td>\n",
       "      <td>2016-06-20 00:00:00</td>\n",
       "      <td>HTC Vive</td>\n",
       "      <td>1</td>\n",
       "    </tr>\n",
       "    <tr>\n",
       "      <th>2</th>\n",
       "      <td>ID3</td>\n",
       "      <td>US</td>\n",
       "      <td>2017-07-19 00:00:00</td>\n",
       "      <td>Oculus Rift</td>\n",
       "      <td>1</td>\n",
       "    </tr>\n",
       "    <tr>\n",
       "      <th>3</th>\n",
       "      <td>ID4</td>\n",
       "      <td>None</td>\n",
       "      <td>2017-01-17 00:00:00</td>\n",
       "      <td>Playstation VR</td>\n",
       "      <td>2</td>\n",
       "    </tr>\n",
       "    <tr>\n",
       "      <th>4</th>\n",
       "      <td>ID5</td>\n",
       "      <td>US</td>\n",
       "      <td>2017-10-24 00:00:00</td>\n",
       "      <td>Playstation VR</td>\n",
       "      <td>2</td>\n",
       "    </tr>\n",
       "  </tbody>\n",
       "</table>\n",
       "</div>"
      ],
      "text/plain": [
       "    ID country                 date         product purchases\n",
       "0  ID1    None  2017-04-06 00:00:00  Playstation VR         1\n",
       "1  ID2     USA  2016-06-20 00:00:00        HTC Vive         1\n",
       "2  ID3      US  2017-07-19 00:00:00     Oculus Rift         1\n",
       "3  ID4    None  2017-01-17 00:00:00  Playstation VR         2\n",
       "4  ID5      US  2017-10-24 00:00:00  Playstation VR         2"
      ]
     },
     "execution_count": 104,
     "metadata": {},
     "output_type": "execute_result"
    }
   ],
   "source": [
    "sales_data.head() ## new product names"
   ]
  },
  {
   "cell_type": "code",
   "execution_count": 105,
   "metadata": {},
   "outputs": [
    {
     "data": {
      "text/plain": [
       "Playstation VR    4332\n",
       "HTC Vive          4291\n",
       "Oculus Rift       4256\n",
       "Name: product, dtype: int64"
      ]
     },
     "execution_count": 105,
     "metadata": {},
     "output_type": "execute_result"
    }
   ],
   "source": [
    "sales_data['product'].value_counts() ##value count for the new product names, the amounts are still the same"
   ]
  },
  {
   "cell_type": "markdown",
   "metadata": {
    "collapsed": true
   },
   "source": [
    "### 3.4.2 Adjust ID column"
   ]
  },
  {
   "cell_type": "code",
   "execution_count": 106,
   "metadata": {},
   "outputs": [
    {
     "data": {
      "text/html": [
       "<div>\n",
       "<style>\n",
       "    .dataframe thead tr:only-child th {\n",
       "        text-align: right;\n",
       "    }\n",
       "\n",
       "    .dataframe thead th {\n",
       "        text-align: left;\n",
       "    }\n",
       "\n",
       "    .dataframe tbody tr th {\n",
       "        vertical-align: top;\n",
       "    }\n",
       "</style>\n",
       "<table border=\"1\" class=\"dataframe\">\n",
       "  <thead>\n",
       "    <tr style=\"text-align: right;\">\n",
       "      <th></th>\n",
       "      <th>ID</th>\n",
       "      <th>country</th>\n",
       "      <th>date</th>\n",
       "      <th>product</th>\n",
       "      <th>purchases</th>\n",
       "    </tr>\n",
       "  </thead>\n",
       "  <tbody>\n",
       "    <tr>\n",
       "      <th>0</th>\n",
       "      <td>ID1</td>\n",
       "      <td>None</td>\n",
       "      <td>2017-04-06 00:00:00</td>\n",
       "      <td>Playstation VR</td>\n",
       "      <td>1</td>\n",
       "    </tr>\n",
       "    <tr>\n",
       "      <th>1</th>\n",
       "      <td>ID2</td>\n",
       "      <td>USA</td>\n",
       "      <td>2016-06-20 00:00:00</td>\n",
       "      <td>HTC Vive</td>\n",
       "      <td>1</td>\n",
       "    </tr>\n",
       "    <tr>\n",
       "      <th>2</th>\n",
       "      <td>ID3</td>\n",
       "      <td>US</td>\n",
       "      <td>2017-07-19 00:00:00</td>\n",
       "      <td>Oculus Rift</td>\n",
       "      <td>1</td>\n",
       "    </tr>\n",
       "    <tr>\n",
       "      <th>3</th>\n",
       "      <td>ID4</td>\n",
       "      <td>None</td>\n",
       "      <td>2017-01-17 00:00:00</td>\n",
       "      <td>Playstation VR</td>\n",
       "      <td>2</td>\n",
       "    </tr>\n",
       "    <tr>\n",
       "      <th>4</th>\n",
       "      <td>ID5</td>\n",
       "      <td>US</td>\n",
       "      <td>2017-10-24 00:00:00</td>\n",
       "      <td>Playstation VR</td>\n",
       "      <td>2</td>\n",
       "    </tr>\n",
       "  </tbody>\n",
       "</table>\n",
       "</div>"
      ],
      "text/plain": [
       "    ID country                 date         product purchases\n",
       "0  ID1    None  2017-04-06 00:00:00  Playstation VR         1\n",
       "1  ID2     USA  2016-06-20 00:00:00        HTC Vive         1\n",
       "2  ID3      US  2017-07-19 00:00:00     Oculus Rift         1\n",
       "3  ID4    None  2017-01-17 00:00:00  Playstation VR         2\n",
       "4  ID5      US  2017-10-24 00:00:00  Playstation VR         2"
      ]
     },
     "execution_count": 106,
     "metadata": {},
     "output_type": "execute_result"
    }
   ],
   "source": [
    "sales_data.head() ## transaction contains the word ID, which is not desireable for converting it into an integer"
   ]
  },
  {
   "cell_type": "code",
   "execution_count": 107,
   "metadata": {
    "collapsed": true
   },
   "outputs": [],
   "source": [
    "sales_data['ID'] = (range(1, len(sales_data)  + 1)) ## Creating new ID instead of removing the term \"ID\", since the old one was a sequential number that included the removed NAs columns "
   ]
  },
  {
   "cell_type": "code",
   "execution_count": 108,
   "metadata": {},
   "outputs": [
    {
     "data": {
      "text/html": [
       "<div>\n",
       "<style>\n",
       "    .dataframe thead tr:only-child th {\n",
       "        text-align: right;\n",
       "    }\n",
       "\n",
       "    .dataframe thead th {\n",
       "        text-align: left;\n",
       "    }\n",
       "\n",
       "    .dataframe tbody tr th {\n",
       "        vertical-align: top;\n",
       "    }\n",
       "</style>\n",
       "<table border=\"1\" class=\"dataframe\">\n",
       "  <thead>\n",
       "    <tr style=\"text-align: right;\">\n",
       "      <th></th>\n",
       "      <th>ID</th>\n",
       "      <th>country</th>\n",
       "      <th>date</th>\n",
       "      <th>product</th>\n",
       "      <th>purchases</th>\n",
       "    </tr>\n",
       "  </thead>\n",
       "  <tbody>\n",
       "    <tr>\n",
       "      <th>0</th>\n",
       "      <td>1</td>\n",
       "      <td>None</td>\n",
       "      <td>2017-04-06 00:00:00</td>\n",
       "      <td>Playstation VR</td>\n",
       "      <td>1</td>\n",
       "    </tr>\n",
       "    <tr>\n",
       "      <th>1</th>\n",
       "      <td>2</td>\n",
       "      <td>USA</td>\n",
       "      <td>2016-06-20 00:00:00</td>\n",
       "      <td>HTC Vive</td>\n",
       "      <td>1</td>\n",
       "    </tr>\n",
       "    <tr>\n",
       "      <th>2</th>\n",
       "      <td>3</td>\n",
       "      <td>US</td>\n",
       "      <td>2017-07-19 00:00:00</td>\n",
       "      <td>Oculus Rift</td>\n",
       "      <td>1</td>\n",
       "    </tr>\n",
       "    <tr>\n",
       "      <th>3</th>\n",
       "      <td>4</td>\n",
       "      <td>None</td>\n",
       "      <td>2017-01-17 00:00:00</td>\n",
       "      <td>Playstation VR</td>\n",
       "      <td>2</td>\n",
       "    </tr>\n",
       "    <tr>\n",
       "      <th>4</th>\n",
       "      <td>5</td>\n",
       "      <td>US</td>\n",
       "      <td>2017-10-24 00:00:00</td>\n",
       "      <td>Playstation VR</td>\n",
       "      <td>2</td>\n",
       "    </tr>\n",
       "  </tbody>\n",
       "</table>\n",
       "</div>"
      ],
      "text/plain": [
       "   ID country                 date         product purchases\n",
       "0   1    None  2017-04-06 00:00:00  Playstation VR         1\n",
       "1   2     USA  2016-06-20 00:00:00        HTC Vive         1\n",
       "2   3      US  2017-07-19 00:00:00     Oculus Rift         1\n",
       "3   4    None  2017-01-17 00:00:00  Playstation VR         2\n",
       "4   5      US  2017-10-24 00:00:00  Playstation VR         2"
      ]
     },
     "execution_count": 108,
     "metadata": {},
     "output_type": "execute_result"
    }
   ],
   "source": [
    "sales_data.head() ##corrected ID column"
   ]
  },
  {
   "cell_type": "markdown",
   "metadata": {},
   "source": [
    "#### 3.5.4 Removing Country Column"
   ]
  },
  {
   "cell_type": "code",
   "execution_count": 109,
   "metadata": {
    "collapsed": true
   },
   "outputs": [],
   "source": [
    "del sales_data ['country'] ## removing column since it is not required anymore due to changed hypotheses"
   ]
  },
  {
   "cell_type": "markdown",
   "metadata": {},
   "source": [
    "### 3.4.3 Changing Data Types"
   ]
  },
  {
   "cell_type": "code",
   "execution_count": 110,
   "metadata": {},
   "outputs": [
    {
     "data": {
      "text/plain": [
       "ID            int64\n",
       "date         object\n",
       "product      object\n",
       "purchases    object\n",
       "dtype: object"
      ]
     },
     "execution_count": 110,
     "metadata": {},
     "output_type": "execute_result"
    }
   ],
   "source": [
    "sales_data.dtypes ##the data format are all object, for using them date and purchases need to be changed"
   ]
  },
  {
   "cell_type": "code",
   "execution_count": 111,
   "metadata": {
    "collapsed": true
   },
   "outputs": [],
   "source": [
    "sales_data['purchases'] = pd.to_numeric(sales_data['purchases'], errors='coerse') ##changing quantity of purchases to float, so it can be used for calculation\n",
    "sales_data['date'] = sales_data['date'].apply(pd.to_datetime) ##changing date format from object into datetime"
   ]
  },
  {
   "cell_type": "code",
   "execution_count": 112,
   "metadata": {
    "scrolled": true
   },
   "outputs": [
    {
     "data": {
      "text/plain": [
       "ID                    int64\n",
       "date         datetime64[ns]\n",
       "product              object\n",
       "purchases             int64\n",
       "dtype: object"
      ]
     },
     "execution_count": 112,
     "metadata": {},
     "output_type": "execute_result"
    }
   ],
   "source": [
    "sales_data.dtypes ##correct data format for date and purchases"
   ]
  },
  {
   "cell_type": "markdown",
   "metadata": {},
   "source": [
    "#### 3.4.3.1 Adding and Years Months Categories to Sales Data"
   ]
  },
  {
   "cell_type": "code",
   "execution_count": 113,
   "metadata": {
    "collapsed": true
   },
   "outputs": [],
   "source": [
    "sales_data['month'] = pd.to_datetime(sales_data['date'], format='%Y%m%d').dt.strftime('%m').astype(int) # stored as integer, since it should be grouped per month to a later point and sorting it per month doesn't work when the month names ('january', 'february'...) are stored as object\n",
    "sales_data['year'] = pd.to_datetime(sales_data['date'], format='%Y%m%d').dt.strftime('%Y').astype(int)"
   ]
  },
  {
   "cell_type": "code",
   "execution_count": 114,
   "metadata": {},
   "outputs": [
    {
     "data": {
      "text/html": [
       "<div>\n",
       "<style>\n",
       "    .dataframe thead tr:only-child th {\n",
       "        text-align: right;\n",
       "    }\n",
       "\n",
       "    .dataframe thead th {\n",
       "        text-align: left;\n",
       "    }\n",
       "\n",
       "    .dataframe tbody tr th {\n",
       "        vertical-align: top;\n",
       "    }\n",
       "</style>\n",
       "<table border=\"1\" class=\"dataframe\">\n",
       "  <thead>\n",
       "    <tr style=\"text-align: right;\">\n",
       "      <th></th>\n",
       "      <th>ID</th>\n",
       "      <th>date</th>\n",
       "      <th>product</th>\n",
       "      <th>purchases</th>\n",
       "      <th>month</th>\n",
       "      <th>year</th>\n",
       "    </tr>\n",
       "  </thead>\n",
       "  <tbody>\n",
       "    <tr>\n",
       "      <th>0</th>\n",
       "      <td>1</td>\n",
       "      <td>2017-04-06</td>\n",
       "      <td>Playstation VR</td>\n",
       "      <td>1</td>\n",
       "      <td>4</td>\n",
       "      <td>2017</td>\n",
       "    </tr>\n",
       "    <tr>\n",
       "      <th>1</th>\n",
       "      <td>2</td>\n",
       "      <td>2016-06-20</td>\n",
       "      <td>HTC Vive</td>\n",
       "      <td>1</td>\n",
       "      <td>6</td>\n",
       "      <td>2016</td>\n",
       "    </tr>\n",
       "    <tr>\n",
       "      <th>2</th>\n",
       "      <td>3</td>\n",
       "      <td>2017-07-19</td>\n",
       "      <td>Oculus Rift</td>\n",
       "      <td>1</td>\n",
       "      <td>7</td>\n",
       "      <td>2017</td>\n",
       "    </tr>\n",
       "    <tr>\n",
       "      <th>3</th>\n",
       "      <td>4</td>\n",
       "      <td>2017-01-17</td>\n",
       "      <td>Playstation VR</td>\n",
       "      <td>2</td>\n",
       "      <td>1</td>\n",
       "      <td>2017</td>\n",
       "    </tr>\n",
       "    <tr>\n",
       "      <th>4</th>\n",
       "      <td>5</td>\n",
       "      <td>2017-10-24</td>\n",
       "      <td>Playstation VR</td>\n",
       "      <td>2</td>\n",
       "      <td>10</td>\n",
       "      <td>2017</td>\n",
       "    </tr>\n",
       "  </tbody>\n",
       "</table>\n",
       "</div>"
      ],
      "text/plain": [
       "   ID       date         product  purchases  month  year\n",
       "0   1 2017-04-06  Playstation VR          1      4  2017\n",
       "1   2 2016-06-20        HTC Vive          1      6  2016\n",
       "2   3 2017-07-19     Oculus Rift          1      7  2017\n",
       "3   4 2017-01-17  Playstation VR          2      1  2017\n",
       "4   5 2017-10-24  Playstation VR          2     10  2017"
      ]
     },
     "execution_count": 114,
     "metadata": {},
     "output_type": "execute_result"
    }
   ],
   "source": [
    "sales_data.head() ##showing dataframe including the months for the grouping later on and the year"
   ]
  },
  {
   "cell_type": "markdown",
   "metadata": {},
   "source": [
    "#### 3.4.3.2 Filtering File for Products of Business Year 2017"
   ]
  },
  {
   "cell_type": "code",
   "execution_count": 115,
   "metadata": {
    "collapsed": true
   },
   "outputs": [],
   "source": [
    "sales_data = sales_data.loc [sales_data['year'] == 2017] ## just using sales of the year 2017 for regression"
   ]
  },
  {
   "cell_type": "code",
   "execution_count": 116,
   "metadata": {
    "collapsed": true
   },
   "outputs": [],
   "source": [
    "##sales_data = sales_data.loc[sales_data['year'] == 2017]"
   ]
  },
  {
   "cell_type": "code",
   "execution_count": 117,
   "metadata": {
    "collapsed": true
   },
   "outputs": [],
   "source": [
    "sales_data = sales_data.loc [sales_data['product'] != 'Oculus Rift'] ##removing Oculus Rift since sales started in August 2017 and no reviews are available for the whole year "
   ]
  },
  {
   "cell_type": "code",
   "execution_count": 118,
   "metadata": {},
   "outputs": [
    {
     "data": {
      "text/plain": [
       "Playstation VR    3027\n",
       "HTC Vive          2257\n",
       "Name: product, dtype: int64"
      ]
     },
     "execution_count": 118,
     "metadata": {},
     "output_type": "execute_result"
    }
   ],
   "source": [
    "sales_data['product'].value_counts() ##showing HTC Vive and Playstation VR sales for the year 2017"
   ]
  },
  {
   "cell_type": "markdown",
   "metadata": {
    "collapsed": true
   },
   "source": [
    "## 3.5 Preparing Sales File for Regression"
   ]
  },
  {
   "cell_type": "markdown",
   "metadata": {
    "collapsed": true
   },
   "source": [
    "### 3.5.1 Grouping Sales by Months"
   ]
  },
  {
   "cell_type": "code",
   "execution_count": 119,
   "metadata": {
    "collapsed": true
   },
   "outputs": [],
   "source": [
    "sales_month = sales_data.groupby(['month', 'product']).sum() ## grouping whole sales file by months to create months categories for regression\n",
    "del sales_month ['ID']\n",
    "del sales_month ['year']"
   ]
  },
  {
   "cell_type": "code",
   "execution_count": 120,
   "metadata": {},
   "outputs": [
    {
     "data": {
      "text/html": [
       "<div>\n",
       "<style>\n",
       "    .dataframe thead tr:only-child th {\n",
       "        text-align: right;\n",
       "    }\n",
       "\n",
       "    .dataframe thead th {\n",
       "        text-align: left;\n",
       "    }\n",
       "\n",
       "    .dataframe tbody tr th {\n",
       "        vertical-align: top;\n",
       "    }\n",
       "</style>\n",
       "<table border=\"1\" class=\"dataframe\">\n",
       "  <thead>\n",
       "    <tr style=\"text-align: right;\">\n",
       "      <th></th>\n",
       "      <th></th>\n",
       "      <th>purchases</th>\n",
       "    </tr>\n",
       "    <tr>\n",
       "      <th>month</th>\n",
       "      <th>product</th>\n",
       "      <th></th>\n",
       "    </tr>\n",
       "  </thead>\n",
       "  <tbody>\n",
       "    <tr>\n",
       "      <th rowspan=\"2\" valign=\"top\">1</th>\n",
       "      <th>HTC Vive</th>\n",
       "      <td>250</td>\n",
       "    </tr>\n",
       "    <tr>\n",
       "      <th>Playstation VR</th>\n",
       "      <td>331</td>\n",
       "    </tr>\n",
       "    <tr>\n",
       "      <th rowspan=\"2\" valign=\"top\">2</th>\n",
       "      <th>HTC Vive</th>\n",
       "      <td>207</td>\n",
       "    </tr>\n",
       "    <tr>\n",
       "      <th>Playstation VR</th>\n",
       "      <td>333</td>\n",
       "    </tr>\n",
       "    <tr>\n",
       "      <th>3</th>\n",
       "      <th>HTC Vive</th>\n",
       "      <td>265</td>\n",
       "    </tr>\n",
       "  </tbody>\n",
       "</table>\n",
       "</div>"
      ],
      "text/plain": [
       "                      purchases\n",
       "month product                  \n",
       "1     HTC Vive              250\n",
       "      Playstation VR        331\n",
       "2     HTC Vive              207\n",
       "      Playstation VR        333\n",
       "3     HTC Vive              265"
      ]
     },
     "execution_count": 120,
     "metadata": {},
     "output_type": "execute_result"
    }
   ],
   "source": [
    "sales_month.head() ##monthly sales per product"
   ]
  },
  {
   "cell_type": "code",
   "execution_count": 121,
   "metadata": {
    "collapsed": true
   },
   "outputs": [],
   "source": [
    "sales_month = sales_month.reset_index() ##reset index, otherwise month is not included in the dataframe as identifier for the merging with sentiment files"
   ]
  },
  {
   "cell_type": "code",
   "execution_count": 122,
   "metadata": {},
   "outputs": [
    {
     "data": {
      "text/html": [
       "<div>\n",
       "<style>\n",
       "    .dataframe thead tr:only-child th {\n",
       "        text-align: right;\n",
       "    }\n",
       "\n",
       "    .dataframe thead th {\n",
       "        text-align: left;\n",
       "    }\n",
       "\n",
       "    .dataframe tbody tr th {\n",
       "        vertical-align: top;\n",
       "    }\n",
       "</style>\n",
       "<table border=\"1\" class=\"dataframe\">\n",
       "  <thead>\n",
       "    <tr style=\"text-align: right;\">\n",
       "      <th></th>\n",
       "      <th>month</th>\n",
       "      <th>product</th>\n",
       "      <th>purchases</th>\n",
       "    </tr>\n",
       "  </thead>\n",
       "  <tbody>\n",
       "    <tr>\n",
       "      <th>0</th>\n",
       "      <td>1</td>\n",
       "      <td>HTC Vive</td>\n",
       "      <td>250</td>\n",
       "    </tr>\n",
       "    <tr>\n",
       "      <th>1</th>\n",
       "      <td>1</td>\n",
       "      <td>Playstation VR</td>\n",
       "      <td>331</td>\n",
       "    </tr>\n",
       "    <tr>\n",
       "      <th>2</th>\n",
       "      <td>2</td>\n",
       "      <td>HTC Vive</td>\n",
       "      <td>207</td>\n",
       "    </tr>\n",
       "    <tr>\n",
       "      <th>3</th>\n",
       "      <td>2</td>\n",
       "      <td>Playstation VR</td>\n",
       "      <td>333</td>\n",
       "    </tr>\n",
       "    <tr>\n",
       "      <th>4</th>\n",
       "      <td>3</td>\n",
       "      <td>HTC Vive</td>\n",
       "      <td>265</td>\n",
       "    </tr>\n",
       "  </tbody>\n",
       "</table>\n",
       "</div>"
      ],
      "text/plain": [
       "   month         product  purchases\n",
       "0      1        HTC Vive        250\n",
       "1      1  Playstation VR        331\n",
       "2      2        HTC Vive        207\n",
       "3      2  Playstation VR        333\n",
       "4      3        HTC Vive        265"
      ]
     },
     "execution_count": 122,
     "metadata": {},
     "output_type": "execute_result"
    }
   ],
   "source": [
    "sales_month.head()"
   ]
  },
  {
   "cell_type": "markdown",
   "metadata": {},
   "source": [
    "### 3.5.2 Splitting Into Dataframe for each Product"
   ]
  },
  {
   "cell_type": "code",
   "execution_count": 123,
   "metadata": {
    "collapsed": true
   },
   "outputs": [],
   "source": [
    "sales_month = sales_month.rename(columns={'product': 'product_name'}) ##renaming product name column to align it with sentiment files for merging"
   ]
  },
  {
   "cell_type": "code",
   "execution_count": 124,
   "metadata": {},
   "outputs": [
    {
     "data": {
      "text/plain": [
       "month            int64\n",
       "product_name    object\n",
       "purchases        int64\n",
       "dtype: object"
      ]
     },
     "execution_count": 124,
     "metadata": {},
     "output_type": "execute_result"
    }
   ],
   "source": [
    "sales_monthly_htc = sales_month.loc [sales_month['product_name'] == 'HTC Vive'] ##filtering sales per month for the HTC Vive to store into own dataframe\n",
    "sales_monthly_playstation = sales_month.loc [sales_month['product_name'] == 'Playstation VR'] ##filtering sales per month for the Playstation VR to store into own dataframe\n",
    "sales_monthly_htc.reset_index()\n",
    "sales_monthly_playstation.reset_index()\n",
    "sales_month.dtypes #showing datatypes"
   ]
  },
  {
   "cell_type": "code",
   "execution_count": 125,
   "metadata": {},
   "outputs": [
    {
     "data": {
      "text/html": [
       "<div>\n",
       "<style>\n",
       "    .dataframe thead tr:only-child th {\n",
       "        text-align: right;\n",
       "    }\n",
       "\n",
       "    .dataframe thead th {\n",
       "        text-align: left;\n",
       "    }\n",
       "\n",
       "    .dataframe tbody tr th {\n",
       "        vertical-align: top;\n",
       "    }\n",
       "</style>\n",
       "<table border=\"1\" class=\"dataframe\">\n",
       "  <thead>\n",
       "    <tr style=\"text-align: right;\">\n",
       "      <th></th>\n",
       "      <th>month</th>\n",
       "      <th>product_name</th>\n",
       "      <th>purchases</th>\n",
       "    </tr>\n",
       "  </thead>\n",
       "  <tbody>\n",
       "    <tr>\n",
       "      <th>0</th>\n",
       "      <td>1</td>\n",
       "      <td>HTC Vive</td>\n",
       "      <td>250</td>\n",
       "    </tr>\n",
       "    <tr>\n",
       "      <th>2</th>\n",
       "      <td>2</td>\n",
       "      <td>HTC Vive</td>\n",
       "      <td>207</td>\n",
       "    </tr>\n",
       "    <tr>\n",
       "      <th>4</th>\n",
       "      <td>3</td>\n",
       "      <td>HTC Vive</td>\n",
       "      <td>265</td>\n",
       "    </tr>\n",
       "    <tr>\n",
       "      <th>6</th>\n",
       "      <td>4</td>\n",
       "      <td>HTC Vive</td>\n",
       "      <td>222</td>\n",
       "    </tr>\n",
       "    <tr>\n",
       "      <th>8</th>\n",
       "      <td>5</td>\n",
       "      <td>HTC Vive</td>\n",
       "      <td>237</td>\n",
       "    </tr>\n",
       "  </tbody>\n",
       "</table>\n",
       "</div>"
      ],
      "text/plain": [
       "   month product_name  purchases\n",
       "0      1     HTC Vive        250\n",
       "2      2     HTC Vive        207\n",
       "4      3     HTC Vive        265\n",
       "6      4     HTC Vive        222\n",
       "8      5     HTC Vive        237"
      ]
     },
     "execution_count": 125,
     "metadata": {},
     "output_type": "execute_result"
    }
   ],
   "source": [
    "sales_monthly_htc.head() ## dataframe with monthly sales for HTC Vive"
   ]
  },
  {
   "cell_type": "code",
   "execution_count": 126,
   "metadata": {},
   "outputs": [
    {
     "data": {
      "text/html": [
       "<div>\n",
       "<style>\n",
       "    .dataframe thead tr:only-child th {\n",
       "        text-align: right;\n",
       "    }\n",
       "\n",
       "    .dataframe thead th {\n",
       "        text-align: left;\n",
       "    }\n",
       "\n",
       "    .dataframe tbody tr th {\n",
       "        vertical-align: top;\n",
       "    }\n",
       "</style>\n",
       "<table border=\"1\" class=\"dataframe\">\n",
       "  <thead>\n",
       "    <tr style=\"text-align: right;\">\n",
       "      <th></th>\n",
       "      <th>month</th>\n",
       "      <th>product_name</th>\n",
       "      <th>purchases</th>\n",
       "    </tr>\n",
       "  </thead>\n",
       "  <tbody>\n",
       "    <tr>\n",
       "      <th>1</th>\n",
       "      <td>1</td>\n",
       "      <td>Playstation VR</td>\n",
       "      <td>331</td>\n",
       "    </tr>\n",
       "    <tr>\n",
       "      <th>3</th>\n",
       "      <td>2</td>\n",
       "      <td>Playstation VR</td>\n",
       "      <td>333</td>\n",
       "    </tr>\n",
       "    <tr>\n",
       "      <th>5</th>\n",
       "      <td>3</td>\n",
       "      <td>Playstation VR</td>\n",
       "      <td>307</td>\n",
       "    </tr>\n",
       "    <tr>\n",
       "      <th>7</th>\n",
       "      <td>4</td>\n",
       "      <td>Playstation VR</td>\n",
       "      <td>319</td>\n",
       "    </tr>\n",
       "    <tr>\n",
       "      <th>9</th>\n",
       "      <td>5</td>\n",
       "      <td>Playstation VR</td>\n",
       "      <td>318</td>\n",
       "    </tr>\n",
       "  </tbody>\n",
       "</table>\n",
       "</div>"
      ],
      "text/plain": [
       "   month    product_name  purchases\n",
       "1      1  Playstation VR        331\n",
       "3      2  Playstation VR        333\n",
       "5      3  Playstation VR        307\n",
       "7      4  Playstation VR        319\n",
       "9      5  Playstation VR        318"
      ]
     },
     "execution_count": 126,
     "metadata": {},
     "output_type": "execute_result"
    }
   ],
   "source": [
    "sales_monthly_playstation.head() ## dataframe with monthly sales for Playstation VR"
   ]
  },
  {
   "cell_type": "markdown",
   "metadata": {
    "collapsed": true
   },
   "source": [
    "### 3.5.3 Merging Monthly Sentiment and Sales for Regression"
   ]
  },
  {
   "cell_type": "code",
   "execution_count": 127,
   "metadata": {
    "collapsed": true
   },
   "outputs": [],
   "source": [
    "regression_file_htc = sentiment_monthly_htc.merge(sales_monthly_htc, on = 'month') ##merging monthly sales data with the monthly sentiment data on month\n",
    "regression_file_playstation = sentiment_monthly_playstation.merge(sales_monthly_playstation, on = 'month') ##merging monthly sales data with the monthly sentiment data on month"
   ]
  },
  {
   "cell_type": "code",
   "execution_count": 128,
   "metadata": {},
   "outputs": [
    {
     "data": {
      "text/html": [
       "<div>\n",
       "<style>\n",
       "    .dataframe thead tr:only-child th {\n",
       "        text-align: right;\n",
       "    }\n",
       "\n",
       "    .dataframe thead th {\n",
       "        text-align: left;\n",
       "    }\n",
       "\n",
       "    .dataframe tbody tr th {\n",
       "        vertical-align: top;\n",
       "    }\n",
       "</style>\n",
       "<table border=\"1\" class=\"dataframe\">\n",
       "  <thead>\n",
       "    <tr style=\"text-align: right;\">\n",
       "      <th></th>\n",
       "      <th>month</th>\n",
       "      <th>product_name_x</th>\n",
       "      <th>review_comment_count</th>\n",
       "      <th>review_rating</th>\n",
       "      <th>overall_tone</th>\n",
       "      <th>total_amount_reviews</th>\n",
       "      <th>product_name_y</th>\n",
       "      <th>purchases</th>\n",
       "    </tr>\n",
       "  </thead>\n",
       "  <tbody>\n",
       "    <tr>\n",
       "      <th>0</th>\n",
       "      <td>1</td>\n",
       "      <td>HTC Vive</td>\n",
       "      <td>0.220000</td>\n",
       "      <td>4.450000</td>\n",
       "      <td>1.060000</td>\n",
       "      <td>100</td>\n",
       "      <td>HTC Vive</td>\n",
       "      <td>250</td>\n",
       "    </tr>\n",
       "    <tr>\n",
       "      <th>1</th>\n",
       "      <td>2</td>\n",
       "      <td>HTC Vive</td>\n",
       "      <td>0.382353</td>\n",
       "      <td>4.058824</td>\n",
       "      <td>0.750000</td>\n",
       "      <td>68</td>\n",
       "      <td>HTC Vive</td>\n",
       "      <td>207</td>\n",
       "    </tr>\n",
       "    <tr>\n",
       "      <th>2</th>\n",
       "      <td>3</td>\n",
       "      <td>HTC Vive</td>\n",
       "      <td>0.268657</td>\n",
       "      <td>4.447761</td>\n",
       "      <td>0.805970</td>\n",
       "      <td>67</td>\n",
       "      <td>HTC Vive</td>\n",
       "      <td>265</td>\n",
       "    </tr>\n",
       "    <tr>\n",
       "      <th>3</th>\n",
       "      <td>4</td>\n",
       "      <td>HTC Vive</td>\n",
       "      <td>0.256410</td>\n",
       "      <td>4.333333</td>\n",
       "      <td>0.974359</td>\n",
       "      <td>39</td>\n",
       "      <td>HTC Vive</td>\n",
       "      <td>222</td>\n",
       "    </tr>\n",
       "    <tr>\n",
       "      <th>4</th>\n",
       "      <td>5</td>\n",
       "      <td>HTC Vive</td>\n",
       "      <td>0.789474</td>\n",
       "      <td>3.789474</td>\n",
       "      <td>0.763158</td>\n",
       "      <td>38</td>\n",
       "      <td>HTC Vive</td>\n",
       "      <td>237</td>\n",
       "    </tr>\n",
       "  </tbody>\n",
       "</table>\n",
       "</div>"
      ],
      "text/plain": [
       "   month product_name_x  review_comment_count  review_rating  overall_tone  \\\n",
       "0      1       HTC Vive              0.220000       4.450000      1.060000   \n",
       "1      2       HTC Vive              0.382353       4.058824      0.750000   \n",
       "2      3       HTC Vive              0.268657       4.447761      0.805970   \n",
       "3      4       HTC Vive              0.256410       4.333333      0.974359   \n",
       "4      5       HTC Vive              0.789474       3.789474      0.763158   \n",
       "\n",
       "   total_amount_reviews product_name_y  purchases  \n",
       "0                   100       HTC Vive        250  \n",
       "1                    68       HTC Vive        207  \n",
       "2                    67       HTC Vive        265  \n",
       "3                    39       HTC Vive        222  \n",
       "4                    38       HTC Vive        237  "
      ]
     },
     "execution_count": 128,
     "metadata": {},
     "output_type": "execute_result"
    }
   ],
   "source": [
    "regression_file_htc.head() ##the merging duplicated some columns such as the year and the product name, the will be removed"
   ]
  },
  {
   "cell_type": "code",
   "execution_count": 129,
   "metadata": {},
   "outputs": [
    {
     "data": {
      "text/html": [
       "<div>\n",
       "<style>\n",
       "    .dataframe thead tr:only-child th {\n",
       "        text-align: right;\n",
       "    }\n",
       "\n",
       "    .dataframe thead th {\n",
       "        text-align: left;\n",
       "    }\n",
       "\n",
       "    .dataframe tbody tr th {\n",
       "        vertical-align: top;\n",
       "    }\n",
       "</style>\n",
       "<table border=\"1\" class=\"dataframe\">\n",
       "  <thead>\n",
       "    <tr style=\"text-align: right;\">\n",
       "      <th></th>\n",
       "      <th>month</th>\n",
       "      <th>product_name_x</th>\n",
       "      <th>review_comment_count</th>\n",
       "      <th>review_rating</th>\n",
       "      <th>overall_tone</th>\n",
       "      <th>total_amount_reviews</th>\n",
       "      <th>product_name_y</th>\n",
       "      <th>purchases</th>\n",
       "    </tr>\n",
       "  </thead>\n",
       "  <tbody>\n",
       "    <tr>\n",
       "      <th>0</th>\n",
       "      <td>1</td>\n",
       "      <td>Playstation VR</td>\n",
       "      <td>0.206897</td>\n",
       "      <td>4.396552</td>\n",
       "      <td>1.327586</td>\n",
       "      <td>58</td>\n",
       "      <td>Playstation VR</td>\n",
       "      <td>331</td>\n",
       "    </tr>\n",
       "    <tr>\n",
       "      <th>1</th>\n",
       "      <td>2</td>\n",
       "      <td>Playstation VR</td>\n",
       "      <td>0.161290</td>\n",
       "      <td>4.483871</td>\n",
       "      <td>0.903226</td>\n",
       "      <td>31</td>\n",
       "      <td>Playstation VR</td>\n",
       "      <td>333</td>\n",
       "    </tr>\n",
       "    <tr>\n",
       "      <th>2</th>\n",
       "      <td>3</td>\n",
       "      <td>Playstation VR</td>\n",
       "      <td>0.107143</td>\n",
       "      <td>4.678571</td>\n",
       "      <td>1.500000</td>\n",
       "      <td>28</td>\n",
       "      <td>Playstation VR</td>\n",
       "      <td>307</td>\n",
       "    </tr>\n",
       "    <tr>\n",
       "      <th>3</th>\n",
       "      <td>4</td>\n",
       "      <td>Playstation VR</td>\n",
       "      <td>0.000000</td>\n",
       "      <td>4.631579</td>\n",
       "      <td>1.894737</td>\n",
       "      <td>19</td>\n",
       "      <td>Playstation VR</td>\n",
       "      <td>319</td>\n",
       "    </tr>\n",
       "    <tr>\n",
       "      <th>4</th>\n",
       "      <td>5</td>\n",
       "      <td>Playstation VR</td>\n",
       "      <td>0.173913</td>\n",
       "      <td>4.478261</td>\n",
       "      <td>1.391304</td>\n",
       "      <td>23</td>\n",
       "      <td>Playstation VR</td>\n",
       "      <td>318</td>\n",
       "    </tr>\n",
       "  </tbody>\n",
       "</table>\n",
       "</div>"
      ],
      "text/plain": [
       "   month  product_name_x  review_comment_count  review_rating  overall_tone  \\\n",
       "0      1  Playstation VR              0.206897       4.396552      1.327586   \n",
       "1      2  Playstation VR              0.161290       4.483871      0.903226   \n",
       "2      3  Playstation VR              0.107143       4.678571      1.500000   \n",
       "3      4  Playstation VR              0.000000       4.631579      1.894737   \n",
       "4      5  Playstation VR              0.173913       4.478261      1.391304   \n",
       "\n",
       "   total_amount_reviews  product_name_y  purchases  \n",
       "0                    58  Playstation VR        331  \n",
       "1                    31  Playstation VR        333  \n",
       "2                    28  Playstation VR        307  \n",
       "3                    19  Playstation VR        319  \n",
       "4                    23  Playstation VR        318  "
      ]
     },
     "execution_count": 129,
     "metadata": {},
     "output_type": "execute_result"
    }
   ],
   "source": [
    "regression_file_playstation.head() ##the merging duplicated some columns such as the year and the product name, the will be removed"
   ]
  },
  {
   "cell_type": "code",
   "execution_count": 130,
   "metadata": {
    "collapsed": true
   },
   "outputs": [],
   "source": [
    "regression_file_htc = regression_file_htc [['month','product_name_x', 'total_amount_reviews', 'review_comment_count','review_rating', 'overall_tone', 'purchases']]"
   ]
  },
  {
   "cell_type": "code",
   "execution_count": 131,
   "metadata": {},
   "outputs": [
    {
     "data": {
      "text/html": [
       "<div>\n",
       "<style>\n",
       "    .dataframe thead tr:only-child th {\n",
       "        text-align: right;\n",
       "    }\n",
       "\n",
       "    .dataframe thead th {\n",
       "        text-align: left;\n",
       "    }\n",
       "\n",
       "    .dataframe tbody tr th {\n",
       "        vertical-align: top;\n",
       "    }\n",
       "</style>\n",
       "<table border=\"1\" class=\"dataframe\">\n",
       "  <thead>\n",
       "    <tr style=\"text-align: right;\">\n",
       "      <th></th>\n",
       "      <th>month</th>\n",
       "      <th>product_name_x</th>\n",
       "      <th>total_amount_reviews</th>\n",
       "      <th>review_comment_count</th>\n",
       "      <th>review_rating</th>\n",
       "      <th>overall_tone</th>\n",
       "      <th>purchases</th>\n",
       "    </tr>\n",
       "  </thead>\n",
       "  <tbody>\n",
       "    <tr>\n",
       "      <th>0</th>\n",
       "      <td>1</td>\n",
       "      <td>HTC Vive</td>\n",
       "      <td>100</td>\n",
       "      <td>0.220000</td>\n",
       "      <td>4.450000</td>\n",
       "      <td>1.060000</td>\n",
       "      <td>250</td>\n",
       "    </tr>\n",
       "    <tr>\n",
       "      <th>1</th>\n",
       "      <td>2</td>\n",
       "      <td>HTC Vive</td>\n",
       "      <td>68</td>\n",
       "      <td>0.382353</td>\n",
       "      <td>4.058824</td>\n",
       "      <td>0.750000</td>\n",
       "      <td>207</td>\n",
       "    </tr>\n",
       "    <tr>\n",
       "      <th>2</th>\n",
       "      <td>3</td>\n",
       "      <td>HTC Vive</td>\n",
       "      <td>67</td>\n",
       "      <td>0.268657</td>\n",
       "      <td>4.447761</td>\n",
       "      <td>0.805970</td>\n",
       "      <td>265</td>\n",
       "    </tr>\n",
       "    <tr>\n",
       "      <th>3</th>\n",
       "      <td>4</td>\n",
       "      <td>HTC Vive</td>\n",
       "      <td>39</td>\n",
       "      <td>0.256410</td>\n",
       "      <td>4.333333</td>\n",
       "      <td>0.974359</td>\n",
       "      <td>222</td>\n",
       "    </tr>\n",
       "    <tr>\n",
       "      <th>4</th>\n",
       "      <td>5</td>\n",
       "      <td>HTC Vive</td>\n",
       "      <td>38</td>\n",
       "      <td>0.789474</td>\n",
       "      <td>3.789474</td>\n",
       "      <td>0.763158</td>\n",
       "      <td>237</td>\n",
       "    </tr>\n",
       "  </tbody>\n",
       "</table>\n",
       "</div>"
      ],
      "text/plain": [
       "   month product_name_x  total_amount_reviews  review_comment_count  \\\n",
       "0      1       HTC Vive                   100              0.220000   \n",
       "1      2       HTC Vive                    68              0.382353   \n",
       "2      3       HTC Vive                    67              0.268657   \n",
       "3      4       HTC Vive                    39              0.256410   \n",
       "4      5       HTC Vive                    38              0.789474   \n",
       "\n",
       "   review_rating  overall_tone  purchases  \n",
       "0       4.450000      1.060000        250  \n",
       "1       4.058824      0.750000        207  \n",
       "2       4.447761      0.805970        265  \n",
       "3       4.333333      0.974359        222  \n",
       "4       3.789474      0.763158        237  "
      ]
     },
     "execution_count": 131,
     "metadata": {},
     "output_type": "execute_result"
    }
   ],
   "source": [
    "regression_file_htc.head() ##clean file for regression with the product name and the average review comment count, review rating, purchases  and overall tone for each month"
   ]
  },
  {
   "cell_type": "code",
   "execution_count": 132,
   "metadata": {
    "collapsed": true
   },
   "outputs": [],
   "source": [
    "regression_file_playstation = regression_file_playstation [['month','product_name_x','total_amount_reviews', 'review_comment_count','review_rating', 'overall_tone', 'purchases']]"
   ]
  },
  {
   "cell_type": "code",
   "execution_count": 133,
   "metadata": {},
   "outputs": [
    {
     "data": {
      "text/html": [
       "<div>\n",
       "<style>\n",
       "    .dataframe thead tr:only-child th {\n",
       "        text-align: right;\n",
       "    }\n",
       "\n",
       "    .dataframe thead th {\n",
       "        text-align: left;\n",
       "    }\n",
       "\n",
       "    .dataframe tbody tr th {\n",
       "        vertical-align: top;\n",
       "    }\n",
       "</style>\n",
       "<table border=\"1\" class=\"dataframe\">\n",
       "  <thead>\n",
       "    <tr style=\"text-align: right;\">\n",
       "      <th></th>\n",
       "      <th>month</th>\n",
       "      <th>product_name_x</th>\n",
       "      <th>total_amount_reviews</th>\n",
       "      <th>review_comment_count</th>\n",
       "      <th>review_rating</th>\n",
       "      <th>overall_tone</th>\n",
       "      <th>purchases</th>\n",
       "    </tr>\n",
       "  </thead>\n",
       "  <tbody>\n",
       "    <tr>\n",
       "      <th>0</th>\n",
       "      <td>1</td>\n",
       "      <td>Playstation VR</td>\n",
       "      <td>58</td>\n",
       "      <td>0.206897</td>\n",
       "      <td>4.396552</td>\n",
       "      <td>1.327586</td>\n",
       "      <td>331</td>\n",
       "    </tr>\n",
       "    <tr>\n",
       "      <th>1</th>\n",
       "      <td>2</td>\n",
       "      <td>Playstation VR</td>\n",
       "      <td>31</td>\n",
       "      <td>0.161290</td>\n",
       "      <td>4.483871</td>\n",
       "      <td>0.903226</td>\n",
       "      <td>333</td>\n",
       "    </tr>\n",
       "    <tr>\n",
       "      <th>2</th>\n",
       "      <td>3</td>\n",
       "      <td>Playstation VR</td>\n",
       "      <td>28</td>\n",
       "      <td>0.107143</td>\n",
       "      <td>4.678571</td>\n",
       "      <td>1.500000</td>\n",
       "      <td>307</td>\n",
       "    </tr>\n",
       "    <tr>\n",
       "      <th>3</th>\n",
       "      <td>4</td>\n",
       "      <td>Playstation VR</td>\n",
       "      <td>19</td>\n",
       "      <td>0.000000</td>\n",
       "      <td>4.631579</td>\n",
       "      <td>1.894737</td>\n",
       "      <td>319</td>\n",
       "    </tr>\n",
       "    <tr>\n",
       "      <th>4</th>\n",
       "      <td>5</td>\n",
       "      <td>Playstation VR</td>\n",
       "      <td>23</td>\n",
       "      <td>0.173913</td>\n",
       "      <td>4.478261</td>\n",
       "      <td>1.391304</td>\n",
       "      <td>318</td>\n",
       "    </tr>\n",
       "  </tbody>\n",
       "</table>\n",
       "</div>"
      ],
      "text/plain": [
       "   month  product_name_x  total_amount_reviews  review_comment_count  \\\n",
       "0      1  Playstation VR                    58              0.206897   \n",
       "1      2  Playstation VR                    31              0.161290   \n",
       "2      3  Playstation VR                    28              0.107143   \n",
       "3      4  Playstation VR                    19              0.000000   \n",
       "4      5  Playstation VR                    23              0.173913   \n",
       "\n",
       "   review_rating  overall_tone  purchases  \n",
       "0       4.396552      1.327586        331  \n",
       "1       4.483871      0.903226        333  \n",
       "2       4.678571      1.500000        307  \n",
       "3       4.631579      1.894737        319  \n",
       "4       4.478261      1.391304        318  "
      ]
     },
     "execution_count": 133,
     "metadata": {},
     "output_type": "execute_result"
    }
   ],
   "source": [
    "regression_file_playstation.head() ##clean file for regression with the product name and the average review comment count, review rating, purchases  and overall tone for each month"
   ]
  },
  {
   "cell_type": "markdown",
   "metadata": {},
   "source": [
    "# 5. Data Exploration & Evaluation "
   ]
  },
  {
   "cell_type": "markdown",
   "metadata": {
    "collapsed": true
   },
   "source": [
    "## 5.1 Data Exploration Online Reviews"
   ]
  },
  {
   "cell_type": "code",
   "execution_count": 134,
   "metadata": {
    "collapsed": true
   },
   "outputs": [],
   "source": [
    "sns.set(rc={'figure.figsize':(12,10)}) ##setting figure size for the seaborn figures in jupyter notebook"
   ]
  },
  {
   "cell_type": "markdown",
   "metadata": {},
   "source": [
    "Adjusting seaborn figure size found on: https://stackoverflow.com/questions/31594549/how-do-i-change-the-figure-size-for-a-seaborn-plot?utm_medium=organic&utm_source=google_rich_qa&utm_campaign=google_rich_qa"
   ]
  },
  {
   "cell_type": "code",
   "execution_count": 135,
   "metadata": {},
   "outputs": [
    {
     "data": {
      "text/plain": [
       "review_comment_count    0.377451\n",
       "review_rating           4.162990\n",
       "dtype: float64"
      ]
     },
     "execution_count": 135,
     "metadata": {},
     "output_type": "execute_result"
    }
   ],
   "source": [
    "total_sentiment[['review_comment_count', 'review_rating']].mean()"
   ]
  },
  {
   "cell_type": "markdown",
   "metadata": {},
   "source": [
    "### 5.1.1 Total Amount 2017"
   ]
  },
  {
   "cell_type": "code",
   "execution_count": 136,
   "metadata": {},
   "outputs": [
    {
     "data": {
      "text/plain": [
       "HTC Vive          593\n",
       "Playstation VR    223\n",
       "Name: product_name, dtype: int64"
      ]
     },
     "execution_count": 136,
     "metadata": {},
     "output_type": "execute_result"
    }
   ],
   "source": [
    "total_sentiment['product_name'].value_counts()"
   ]
  },
  {
   "cell_type": "code",
   "execution_count": 137,
   "metadata": {},
   "outputs": [
    {
     "data": {
      "image/png": "[encoded data removed]",
      "text/plain": [
       "<matplotlib.figure.Figure at 0x1a10407208>"
      ]
     },
     "metadata": {},
     "output_type": "display_data"
    }
   ],
   "source": [
    "sns.countplot(x=\"product_name\", data= total_sentiment, palette=\"Set2\", label = None);"
   ]
  },
  {
   "cell_type": "markdown",
   "metadata": {},
   "source": [
    "During 2017 costumer wrote 593 online reviews on Amazon.com for the HTC Vive. This is significantly more, compared to the competitive VR product from Playstation."
   ]
  },
  {
   "cell_type": "markdown",
   "metadata": {},
   "source": [
    "### 5.1.2  Distribution over Time"
   ]
  },
  {
   "cell_type": "code",
   "execution_count": 138,
   "metadata": {
    "collapsed": true
   },
   "outputs": [],
   "source": [
    "htc_graph = total_sentiment[total_sentiment['product_name']== 'HTC Vive'] ##creating dataframe for plotting the graph for distribution over time \n",
    "playstation_graph = total_sentiment[total_sentiment['product_name']== 'Playstation VR'] ##creating second dataframe for plotting the graph for distribution over time "
   ]
  },
  {
   "cell_type": "code",
   "execution_count": 139,
   "metadata": {
    "collapsed": true
   },
   "outputs": [],
   "source": [
    "htc_graph = htc_graph.set_index('review_posted_date').groupby(pd.TimeGrouper(freq='W'))['id'].count() ##creating count for reviews per day\n",
    "playstation_graph = playstation_graph.set_index('review_posted_date').groupby(pd.TimeGrouper(freq='W'))['id'].count() ##creating count for reviews per day"
   ]
  },
  {
   "cell_type": "code",
   "execution_count": 140,
   "metadata": {
    "collapsed": true
   },
   "outputs": [],
   "source": [
    "htc_graph = htc_graph.reset_index() \n",
    "playstation_graph = playstation_graph.reset_index()\n",
    "htc_graph = htc_graph.rename(columns={'id': 'HTC Vive'}) ## renaming id column to product name for showing it separately in the graph\n",
    "playstation_graph = playstation_graph.rename(columns={'id': 'Playstation VR'}) ## renaming id column to product name for showing it separately in the graph"
   ]
  },
  {
   "cell_type": "code",
   "execution_count": 141,
   "metadata": {
    "collapsed": true
   },
   "outputs": [],
   "source": [
    "graph_htc_playstation = htc_graph.merge(playstation_graph, how = 'outer') ##merging dataframe for htc and playstation graph to plot it into one"
   ]
  },
  {
   "cell_type": "code",
   "execution_count": 142,
   "metadata": {
    "collapsed": true
   },
   "outputs": [],
   "source": [
    "graph_htc_playstation = graph_htc_playstation.fillna(0) ##filling the NAs with zero"
   ]
  },
  {
   "cell_type": "code",
   "execution_count": 143,
   "metadata": {},
   "outputs": [
    {
     "data": {
      "text/plain": [
       "<matplotlib.axes._subplots.AxesSubplot at 0x1a115ad7b8>"
      ]
     },
     "execution_count": 143,
     "metadata": {},
     "output_type": "execute_result"
    },
    {
     "data": {
      "image/png": "[encoded data removed]",
      "text/plain": [
       "<matplotlib.figure.Figure at 0x1a106d4b70>"
      ]
     },
     "metadata": {},
     "output_type": "display_data"
    }
   ],
   "source": [
    "graph_htc_playstation.set_index('review_posted_date').plot(figsize=(15,9)) ##plotting both graphs for the distribution over the whole year"
   ]
  },
  {
   "cell_type": "markdown",
   "metadata": {},
   "source": [
    "The graph indicates the amount of online reviews written per month for the HTC Vive and Playstation VR over the whole year 2017 on Amazon.com. Clearly, the highest peak for both products is at the beginning of the year, which might be based on the christmas sale the month before. For the HTC Vive the amount of reviews generally declines with peaks every few months. In December 2017 there is another strong increase in online reviews for the HTC Vive again, which could be due to Black Friday in the end of November. In contrary, the Playstation VR reviews are steadily declining during 2017.\n",
    "\n",
    "Adjusting figure size for matplotlib found on: https://stackoverflow.com/questions/332289/how-do-you-change-the-size-of-figures-drawn-with-matplotlib?utm_medium=organic&utm_source=google_rich_qa&utm_campaign=google_rich_qa"
   ]
  },
  {
   "cell_type": "markdown",
   "metadata": {},
   "source": [
    "### 5.1.3 Rating Distribution per Product"
   ]
  },
  {
   "cell_type": "code",
   "execution_count": 144,
   "metadata": {},
   "outputs": [
    {
     "data": {
      "image/png": "[encoded data removed]",
      "text/plain": [
       "<matplotlib.figure.Figure at 0x1a1081f908>"
      ]
     },
     "metadata": {},
     "output_type": "display_data"
    }
   ],
   "source": [
    "rating_distributions = sns.FacetGrid(total_sentiment, col=\"product_name\") \n",
    "rating_distributions.map(plt.hist, \"review_rating\"); ##creating facet grid to compare the rating distribution between the HTC Vive and the Playstation VR"
   ]
  },
  {
   "cell_type": "markdown",
   "metadata": {},
   "source": [
    "The comparison indicates that the HTC Vive receives clearly more 5 Star ratings than the Playstation VR, but also more 1 Star ratings. This might be due to the higher amount of online reviews in general. However, the ratings reflect a more positive overall satisfaction for the HTC Vive than for the Playstation VR."
   ]
  },
  {
   "cell_type": "code",
   "execution_count": 145,
   "metadata": {},
   "outputs": [
    {
     "data": {
      "image/png": "[encoded data removed]",
      "text/plain": [
       "<matplotlib.figure.Figure at 0x1a11e34160>"
      ]
     },
     "metadata": {},
     "output_type": "display_data"
    }
   ],
   "source": [
    "sentiment_distributions = sns.FacetGrid(total_sentiment, col=\"product_name\")\n",
    "sentiment_distributions.map(plt.hist, \"overall_tone\"); ##creating facet grid to compare the sentiment distribution between the HTC Vive and the Playstation VR"
   ]
  },
  {
   "cell_type": "markdown",
   "metadata": {},
   "source": [
    "Although the overall rating tends to be more positive for the HTC Vive than for the Playstation VR, the distribution of the overall tone seem equally distributed. Both have the highest values around 1 and 2, which indicates an moderate positive sentiment. Also in this graph less sentiment scores for the Playstation VR are visible. However, the distribution tends to be the same."
   ]
  },
  {
   "cell_type": "code",
   "execution_count": 146,
   "metadata": {},
   "outputs": [
    {
     "data": {
      "text/plain": [
       " 2    219\n",
       " 1    202\n",
       " 0    176\n",
       " 3     83\n",
       "-1     80\n",
       "-2     39\n",
       " 4      9\n",
       "-3      7\n",
       "-4      1\n",
       "Name: overall_tone, dtype: int64"
      ]
     },
     "execution_count": 146,
     "metadata": {},
     "output_type": "execute_result"
    }
   ],
   "source": [
    "total_sentiment['overall_tone'].value_counts() ## the count for each sentiment is shown due to the visible gap between some of the bars. This gap is due to the visualisation issues, not because of missing bars as the count for the scores shows.  "
   ]
  },
  {
   "cell_type": "code",
   "execution_count": null,
   "metadata": {
    "collapsed": true
   },
   "outputs": [],
   "source": []
  },
  {
   "cell_type": "markdown",
   "metadata": {},
   "source": [
    "## 5.2 Data Exploration Sales\n"
   ]
  },
  {
   "cell_type": "markdown",
   "metadata": {},
   "source": [
    "### 5.2.1 Total Amount 2017"
   ]
  },
  {
   "cell_type": "code",
   "execution_count": 147,
   "metadata": {},
   "outputs": [
    {
     "data": {
      "text/html": [
       "<div>\n",
       "<style>\n",
       "    .dataframe thead tr:only-child th {\n",
       "        text-align: right;\n",
       "    }\n",
       "\n",
       "    .dataframe thead th {\n",
       "        text-align: left;\n",
       "    }\n",
       "\n",
       "    .dataframe tbody tr th {\n",
       "        vertical-align: top;\n",
       "    }\n",
       "</style>\n",
       "<table border=\"1\" class=\"dataframe\">\n",
       "  <thead>\n",
       "    <tr style=\"text-align: right;\">\n",
       "      <th>product</th>\n",
       "      <th>HTC Vive</th>\n",
       "      <th>Playstation VR</th>\n",
       "      <th>All</th>\n",
       "    </tr>\n",
       "    <tr>\n",
       "      <th>purchases</th>\n",
       "      <th></th>\n",
       "      <th></th>\n",
       "      <th></th>\n",
       "    </tr>\n",
       "  </thead>\n",
       "  <tbody>\n",
       "    <tr>\n",
       "      <th>1</th>\n",
       "      <td>1684</td>\n",
       "      <td>2225</td>\n",
       "      <td>3909</td>\n",
       "    </tr>\n",
       "    <tr>\n",
       "      <th>2</th>\n",
       "      <td>573</td>\n",
       "      <td>802</td>\n",
       "      <td>1375</td>\n",
       "    </tr>\n",
       "    <tr>\n",
       "      <th>All</th>\n",
       "      <td>2257</td>\n",
       "      <td>3027</td>\n",
       "      <td>5284</td>\n",
       "    </tr>\n",
       "  </tbody>\n",
       "</table>\n",
       "</div>"
      ],
      "text/plain": [
       "product    HTC Vive  Playstation VR   All\n",
       "purchases                                \n",
       "1              1684            2225  3909\n",
       "2               573             802  1375\n",
       "All            2257            3027  5284"
      ]
     },
     "execution_count": 147,
     "metadata": {},
     "output_type": "execute_result"
    }
   ],
   "source": [
    "pd.crosstab(sales_data[\"purchases\"],sales_data[\"product\"],margins=True)"
   ]
  },
  {
   "cell_type": "code",
   "execution_count": 148,
   "metadata": {},
   "outputs": [
    {
     "data": {
      "text/plain": [
       "<matplotlib.axes._subplots.AxesSubplot at 0x1a11570b38>"
      ]
     },
     "execution_count": 148,
     "metadata": {},
     "output_type": "execute_result"
    },
    {
     "data": {
      "image/png": "[encoded data removed]",
      "text/plain": [
       "<matplotlib.figure.Figure at 0x1a108290b8>"
      ]
     },
     "metadata": {},
     "output_type": "display_data"
    }
   ],
   "source": [
    "sns.countplot(x=\"purchases\", hue =\"product\", data=sales_data, palette=\"Set2\")"
   ]
  },
  {
   "cell_type": "markdown",
   "metadata": {},
   "source": [
    "The dataframe and the bar chart indicate the total sales of HTC Vive and Playstation in the business year 2017, also divided per purchases per costumer. Playstation sold its VR device in total 3027 times, whereas HTC Vive sold 2257 devices. HTC Vive costumers tend to buy one device (1684) per person). 573 Costumers bought two devices at once. "
   ]
  },
  {
   "cell_type": "markdown",
   "metadata": {
    "collapsed": true
   },
   "source": [
    "### 5.2.2  Distribution over Time\n"
   ]
  },
  {
   "cell_type": "code",
   "execution_count": 149,
   "metadata": {
    "collapsed": true
   },
   "outputs": [],
   "source": [
    "sales_month_exploring = sales_data.groupby(['month', 'product']).sum() ## grouping whole sales file by months to create months categories for regression\n",
    "sales_month_exploring.drop(['ID', 'year'], axis=1, inplace=True) ##dropping unneccessary columns"
   ]
  },
  {
   "cell_type": "code",
   "execution_count": 150,
   "metadata": {},
   "outputs": [
    {
     "data": {
      "text/html": [
       "<div>\n",
       "<style>\n",
       "    .dataframe thead tr:only-child th {\n",
       "        text-align: right;\n",
       "    }\n",
       "\n",
       "    .dataframe thead th {\n",
       "        text-align: left;\n",
       "    }\n",
       "\n",
       "    .dataframe tbody tr th {\n",
       "        vertical-align: top;\n",
       "    }\n",
       "</style>\n",
       "<table border=\"1\" class=\"dataframe\">\n",
       "  <thead>\n",
       "    <tr style=\"text-align: right;\">\n",
       "      <th></th>\n",
       "      <th></th>\n",
       "      <th>purchases</th>\n",
       "    </tr>\n",
       "    <tr>\n",
       "      <th>month</th>\n",
       "      <th>product</th>\n",
       "      <th></th>\n",
       "    </tr>\n",
       "  </thead>\n",
       "  <tbody>\n",
       "    <tr>\n",
       "      <th rowspan=\"2\" valign=\"top\">1</th>\n",
       "      <th>HTC Vive</th>\n",
       "      <td>250</td>\n",
       "    </tr>\n",
       "    <tr>\n",
       "      <th>Playstation VR</th>\n",
       "      <td>331</td>\n",
       "    </tr>\n",
       "    <tr>\n",
       "      <th rowspan=\"2\" valign=\"top\">2</th>\n",
       "      <th>HTC Vive</th>\n",
       "      <td>207</td>\n",
       "    </tr>\n",
       "    <tr>\n",
       "      <th>Playstation VR</th>\n",
       "      <td>333</td>\n",
       "    </tr>\n",
       "    <tr>\n",
       "      <th rowspan=\"2\" valign=\"top\">3</th>\n",
       "      <th>HTC Vive</th>\n",
       "      <td>265</td>\n",
       "    </tr>\n",
       "    <tr>\n",
       "      <th>Playstation VR</th>\n",
       "      <td>307</td>\n",
       "    </tr>\n",
       "    <tr>\n",
       "      <th rowspan=\"2\" valign=\"top\">4</th>\n",
       "      <th>HTC Vive</th>\n",
       "      <td>222</td>\n",
       "    </tr>\n",
       "    <tr>\n",
       "      <th>Playstation VR</th>\n",
       "      <td>319</td>\n",
       "    </tr>\n",
       "    <tr>\n",
       "      <th rowspan=\"2\" valign=\"top\">5</th>\n",
       "      <th>HTC Vive</th>\n",
       "      <td>237</td>\n",
       "    </tr>\n",
       "    <tr>\n",
       "      <th>Playstation VR</th>\n",
       "      <td>318</td>\n",
       "    </tr>\n",
       "    <tr>\n",
       "      <th rowspan=\"2\" valign=\"top\">6</th>\n",
       "      <th>HTC Vive</th>\n",
       "      <td>218</td>\n",
       "    </tr>\n",
       "    <tr>\n",
       "      <th>Playstation VR</th>\n",
       "      <td>317</td>\n",
       "    </tr>\n",
       "    <tr>\n",
       "      <th rowspan=\"2\" valign=\"top\">7</th>\n",
       "      <th>HTC Vive</th>\n",
       "      <td>251</td>\n",
       "    </tr>\n",
       "    <tr>\n",
       "      <th>Playstation VR</th>\n",
       "      <td>295</td>\n",
       "    </tr>\n",
       "    <tr>\n",
       "      <th rowspan=\"2\" valign=\"top\">8</th>\n",
       "      <th>HTC Vive</th>\n",
       "      <td>209</td>\n",
       "    </tr>\n",
       "    <tr>\n",
       "      <th>Playstation VR</th>\n",
       "      <td>326</td>\n",
       "    </tr>\n",
       "    <tr>\n",
       "      <th rowspan=\"2\" valign=\"top\">9</th>\n",
       "      <th>HTC Vive</th>\n",
       "      <td>256</td>\n",
       "    </tr>\n",
       "    <tr>\n",
       "      <th>Playstation VR</th>\n",
       "      <td>309</td>\n",
       "    </tr>\n",
       "    <tr>\n",
       "      <th rowspan=\"2\" valign=\"top\">10</th>\n",
       "      <th>HTC Vive</th>\n",
       "      <td>204</td>\n",
       "    </tr>\n",
       "    <tr>\n",
       "      <th>Playstation VR</th>\n",
       "      <td>326</td>\n",
       "    </tr>\n",
       "    <tr>\n",
       "      <th rowspan=\"2\" valign=\"top\">11</th>\n",
       "      <th>HTC Vive</th>\n",
       "      <td>244</td>\n",
       "    </tr>\n",
       "    <tr>\n",
       "      <th>Playstation VR</th>\n",
       "      <td>323</td>\n",
       "    </tr>\n",
       "    <tr>\n",
       "      <th rowspan=\"2\" valign=\"top\">12</th>\n",
       "      <th>HTC Vive</th>\n",
       "      <td>267</td>\n",
       "    </tr>\n",
       "    <tr>\n",
       "      <th>Playstation VR</th>\n",
       "      <td>325</td>\n",
       "    </tr>\n",
       "  </tbody>\n",
       "</table>\n",
       "</div>"
      ],
      "text/plain": [
       "                      purchases\n",
       "month product                  \n",
       "1     HTC Vive              250\n",
       "      Playstation VR        331\n",
       "2     HTC Vive              207\n",
       "      Playstation VR        333\n",
       "3     HTC Vive              265\n",
       "      Playstation VR        307\n",
       "4     HTC Vive              222\n",
       "      Playstation VR        319\n",
       "5     HTC Vive              237\n",
       "      Playstation VR        318\n",
       "6     HTC Vive              218\n",
       "      Playstation VR        317\n",
       "7     HTC Vive              251\n",
       "      Playstation VR        295\n",
       "8     HTC Vive              209\n",
       "      Playstation VR        326\n",
       "9     HTC Vive              256\n",
       "      Playstation VR        309\n",
       "10    HTC Vive              204\n",
       "      Playstation VR        326\n",
       "11    HTC Vive              244\n",
       "      Playstation VR        323\n",
       "12    HTC Vive              267\n",
       "      Playstation VR        325"
      ]
     },
     "execution_count": 150,
     "metadata": {},
     "output_type": "execute_result"
    }
   ],
   "source": [
    "sales_month_exploring"
   ]
  },
  {
   "cell_type": "markdown",
   "metadata": {},
   "source": [
    "The table shows the total sales per month per product in 2017. The following graphs summarises the data more clearly."
   ]
  },
  {
   "cell_type": "code",
   "execution_count": 151,
   "metadata": {
    "collapsed": true
   },
   "outputs": [],
   "source": [
    "htc_graph_sales = sales_data[sales_data['product']== 'HTC Vive'] ##creating dataframe for plotting the graph for distribution of sales over time \n",
    "playstation_graph_sales = sales_data[sales_data['product']== 'Playstation VR'] ##creating second dataframe for plotting the graph for distribution over time "
   ]
  },
  {
   "cell_type": "code",
   "execution_count": 152,
   "metadata": {
    "collapsed": true
   },
   "outputs": [],
   "source": [
    "htc_graph_sales = htc_graph_sales.set_index('date').groupby(pd.TimeGrouper(freq='W'))['purchases'].sum() ##creating sum for sales per month\n",
    "playstation_graph_sales = playstation_graph_sales.set_index('date').groupby(pd.TimeGrouper(freq='W'))['purchases'].sum() ##creating sum of per month"
   ]
  },
  {
   "cell_type": "code",
   "execution_count": 153,
   "metadata": {
    "collapsed": true
   },
   "outputs": [],
   "source": [
    "htc_graph_sales = htc_graph_sales.reset_index() \n",
    "playstation_graph_sales = playstation_graph_sales.reset_index()\n",
    "htc_graph_sales = htc_graph_sales.rename(columns={'purchases': 'HTC Vive'}) ## renaming purchases column to product name for showing it separately in the graph\n",
    "playstation_graph_sales = playstation_graph_sales.rename(columns={'purchases': 'Playstation VR'}) ## renaming purchases column to product name for showing it separately in the graph"
   ]
  },
  {
   "cell_type": "code",
   "execution_count": 154,
   "metadata": {
    "collapsed": true
   },
   "outputs": [],
   "source": [
    "graph_htc_playstation_sales = htc_graph_sales.merge(playstation_graph_sales, how = 'outer') ##merging dataframe for htc and playstation graph to plot it into one"
   ]
  },
  {
   "cell_type": "code",
   "execution_count": 155,
   "metadata": {
    "collapsed": true
   },
   "outputs": [],
   "source": [
    "graph_htc_playstation_sales = graph_htc_playstation_sales.fillna(0) ##filling the NAs with zero"
   ]
  },
  {
   "cell_type": "code",
   "execution_count": 156,
   "metadata": {},
   "outputs": [
    {
     "data": {
      "text/plain": [
       "<matplotlib.axes._subplots.AxesSubplot at 0x1a11caefd0>"
      ]
     },
     "execution_count": 156,
     "metadata": {},
     "output_type": "execute_result"
    },
    {
     "data": {
      "image/png": "[encoded data removed]",
      "text/plain": [
       "<matplotlib.figure.Figure at 0x1a11caa240>"
      ]
     },
     "metadata": {},
     "output_type": "display_data"
    }
   ],
   "source": [
    "graph_htc_playstation_sales.set_index('date').plot(figsize=(15,8)) ##plotting both graphs for the distribution of sales over the whole year"
   ]
  },
  {
   "cell_type": "markdown",
   "metadata": {},
   "source": [
    "The graph shows the distribution of sales over time for the year 2017. The Playstation VR had continously higher sales during the whole year, except for a small low in July. Both distributions vary relatively strong, but in contrast of the review distribution none of them has a significant drop."
   ]
  },
  {
   "cell_type": "markdown",
   "metadata": {},
   "source": [
    "# 6. Modeling & Hypotheses Testing"
   ]
  },
  {
   "cell_type": "code",
   "execution_count": 157,
   "metadata": {},
   "outputs": [
    {
     "name": "stderr",
     "output_type": "stream",
     "text": [
      "/Users/MBA/anaconda3/lib/python3.6/site-packages/statsmodels/compat/pandas.py:56: FutureWarning: The pandas.core.datetools module is deprecated and will be removed in a future version. Please use the pandas.tseries module instead.\n",
      "  from pandas.core import datetools\n"
     ]
    }
   ],
   "source": [
    "import statsmodels.api as sm ##importing statsmodel"
   ]
  },
  {
   "cell_type": "code",
   "execution_count": 158,
   "metadata": {},
   "outputs": [
    {
     "name": "stdout",
     "output_type": "stream",
     "text": [
      "Populating the interactive namespace from numpy and matplotlib\n"
     ]
    },
    {
     "name": "stderr",
     "output_type": "stream",
     "text": [
      "/Users/MBA/anaconda3/lib/python3.6/site-packages/IPython/core/magics/pylab.py:160: UserWarning: pylab import has clobbered these variables: ['mat']\n",
      "`%matplotlib` prevents importing * from pylab and numpy\n",
      "  \"\\n`%matplotlib` prevents importing * from pylab and numpy\"\n"
     ]
    }
   ],
   "source": [
    "from sklearn.linear_model import LinearRegression #importing linear regression from sklearn package\n",
    "%pylab inline"
   ]
  },
  {
   "cell_type": "markdown",
   "metadata": {},
   "source": [
    "How to use linear regression with statsmodel found on: http://www.statsmodels.org/dev/generated/statsmodels.regression.linear_model.OLS.html"
   ]
  },
  {
   "cell_type": "markdown",
   "metadata": {},
   "source": [
    "## 6.1 Regression Playstation VR"
   ]
  },
  {
   "cell_type": "code",
   "execution_count": 159,
   "metadata": {
    "collapsed": true
   },
   "outputs": [],
   "source": [
    "Y_playstation = regression_file_playstation.purchases[:-1]"
   ]
  },
  {
   "cell_type": "code",
   "execution_count": 160,
   "metadata": {
    "collapsed": true
   },
   "outputs": [],
   "source": [
    "X_playstation = regression_file_playstation[['review_rating','overall_tone','total_amount_reviews','review_comment_count']][:-1]"
   ]
  },
  {
   "cell_type": "code",
   "execution_count": 161,
   "metadata": {
    "collapsed": true
   },
   "outputs": [],
   "source": [
    "result_playstation = sm.OLS(Y_playstation, X_playstation).fit(fit_intercept=True, normalize=False)"
   ]
  },
  {
   "cell_type": "code",
   "execution_count": 162,
   "metadata": {},
   "outputs": [
    {
     "name": "stderr",
     "output_type": "stream",
     "text": [
      "/Users/MBA/anaconda3/lib/python3.6/site-packages/scipy/stats/stats.py:1334: UserWarning: kurtosistest only valid for n>=20 ... continuing anyway, n=11\n",
      "  \"anyway, n=%i\" % int(n))\n"
     ]
    },
    {
     "data": {
      "text/html": [
       "<table class=\"simpletable\">\n",
       "<caption>OLS Regression Results</caption>\n",
       "<tr>\n",
       "  <th>Dep. Variable:</th>        <td>purchases</td>    <th>  R-squared:         </th> <td>   0.999</td>\n",
       "</tr>\n",
       "<tr>\n",
       "  <th>Model:</th>                   <td>OLS</td>       <th>  Adj. R-squared:    </th> <td>   0.999</td>\n",
       "</tr>\n",
       "<tr>\n",
       "  <th>Method:</th>             <td>Least Squares</td>  <th>  F-statistic:       </th> <td>   2107.</td>\n",
       "</tr>\n",
       "<tr>\n",
       "  <th>Date:</th>             <td>Fri, 30 Mar 2018</td> <th>  Prob (F-statistic):</th> <td>7.40e-11</td>\n",
       "</tr>\n",
       "<tr>\n",
       "  <th>Time:</th>                 <td>12:23:19</td>     <th>  Log-Likelihood:    </th> <td> -39.997</td>\n",
       "</tr>\n",
       "<tr>\n",
       "  <th>No. Observations:</th>      <td>    11</td>      <th>  AIC:               </th> <td>   87.99</td>\n",
       "</tr>\n",
       "<tr>\n",
       "  <th>Df Residuals:</th>          <td>     7</td>      <th>  BIC:               </th> <td>   89.59</td>\n",
       "</tr>\n",
       "<tr>\n",
       "  <th>Df Model:</th>              <td>     4</td>      <th>                     </th>     <td> </td>   \n",
       "</tr>\n",
       "<tr>\n",
       "  <th>Covariance Type:</th>      <td>nonrobust</td>    <th>                     </th>     <td> </td>   \n",
       "</tr>\n",
       "</table>\n",
       "<table class=\"simpletable\">\n",
       "<tr>\n",
       "            <td></td>              <th>coef</th>     <th>std err</th>      <th>t</th>      <th>P>|t|</th>  <th>[0.025</th>    <th>0.975]</th>  \n",
       "</tr>\n",
       "<tr>\n",
       "  <th>review_rating</th>        <td>   73.3307</td> <td>    2.041</td> <td>   35.928</td> <td> 0.000</td> <td>   68.504</td> <td>   78.157</td>\n",
       "</tr>\n",
       "<tr>\n",
       "  <th>overall_tone</th>         <td>  -21.4057</td> <td>    6.029</td> <td>   -3.550</td> <td> 0.009</td> <td>  -35.663</td> <td>   -7.148</td>\n",
       "</tr>\n",
       "<tr>\n",
       "  <th>total_amount_reviews</th> <td>    0.2568</td> <td>    0.248</td> <td>    1.035</td> <td> 0.335</td> <td>   -0.330</td> <td>    0.843</td>\n",
       "</tr>\n",
       "<tr>\n",
       "  <th>review_comment_count</th> <td>   92.1377</td> <td>   26.428</td> <td>    3.486</td> <td> 0.010</td> <td>   29.646</td> <td>  154.630</td>\n",
       "</tr>\n",
       "</table>\n",
       "<table class=\"simpletable\">\n",
       "<tr>\n",
       "  <th>Omnibus:</th>       <td> 2.808</td> <th>  Durbin-Watson:     </th> <td>   3.012</td>\n",
       "</tr>\n",
       "<tr>\n",
       "  <th>Prob(Omnibus):</th> <td> 0.246</td> <th>  Jarque-Bera (JB):  </th> <td>   0.718</td>\n",
       "</tr>\n",
       "<tr>\n",
       "  <th>Skew:</th>          <td>-0.569</td> <th>  Prob(JB):          </th> <td>   0.698</td>\n",
       "</tr>\n",
       "<tr>\n",
       "  <th>Kurtosis:</th>      <td> 3.523</td> <th>  Cond. No.          </th> <td>    190.</td>\n",
       "</tr>\n",
       "</table>"
      ],
      "text/plain": [
       "<class 'statsmodels.iolib.summary.Summary'>\n",
       "\"\"\"\n",
       "                            OLS Regression Results                            \n",
       "==============================================================================\n",
       "Dep. Variable:              purchases   R-squared:                       0.999\n",
       "Model:                            OLS   Adj. R-squared:                  0.999\n",
       "Method:                 Least Squares   F-statistic:                     2107.\n",
       "Date:                Fri, 30 Mar 2018   Prob (F-statistic):           7.40e-11\n",
       "Time:                        12:23:19   Log-Likelihood:                -39.997\n",
       "No. Observations:                  11   AIC:                             87.99\n",
       "Df Residuals:                       7   BIC:                             89.59\n",
       "Df Model:                           4                                         \n",
       "Covariance Type:            nonrobust                                         \n",
       "========================================================================================\n",
       "                           coef    std err          t      P>|t|      [0.025      0.975]\n",
       "----------------------------------------------------------------------------------------\n",
       "review_rating           73.3307      2.041     35.928      0.000      68.504      78.157\n",
       "overall_tone           -21.4057      6.029     -3.550      0.009     -35.663      -7.148\n",
       "total_amount_reviews     0.2568      0.248      1.035      0.335      -0.330       0.843\n",
       "review_comment_count    92.1377     26.428      3.486      0.010      29.646     154.630\n",
       "==============================================================================\n",
       "Omnibus:                        2.808   Durbin-Watson:                   3.012\n",
       "Prob(Omnibus):                  0.246   Jarque-Bera (JB):                0.718\n",
       "Skew:                          -0.569   Prob(JB):                        0.698\n",
       "Kurtosis:                       3.523   Cond. No.                         190.\n",
       "==============================================================================\n",
       "\n",
       "Warnings:\n",
       "[1] Standard Errors assume that the covariance matrix of the errors is correctly specified.\n",
       "\"\"\""
      ]
     },
     "execution_count": 162,
     "metadata": {},
     "output_type": "execute_result"
    }
   ],
   "source": [
    "result_playstation.summary()"
   ]
  },
  {
   "cell_type": "code",
   "execution_count": 163,
   "metadata": {},
   "outputs": [
    {
     "data": {
      "text/plain": [
       "review_rating           73.330694\n",
       "overall_tone           -21.405687\n",
       "total_amount_reviews     0.256781\n",
       "review_comment_count    92.137688\n",
       "dtype: float64"
      ]
     },
     "execution_count": 163,
     "metadata": {},
     "output_type": "execute_result"
    }
   ],
   "source": [
    "result_playstation.params ##coefficients for regression shown separately"
   ]
  },
  {
   "cell_type": "markdown",
   "metadata": {},
   "source": [
    "A multiple linear regression was calculated to predict total sales per month based on review rating, overall tone of the review text and the review comments count for Playstation VR. The result showed that three predictors explained 99,9% of the variance (Rsquared = .999, F(4,7)= 2107.00, p<.001).\n",
    "It was found that review rating significantly predicted sales of HTC Vive (β = 73.330, p < .000), as did the overall tone ((β = -21.405, p < .05) and review comment count (β = 92.137, p < .005). The total amount of reviews per month was not signifcantly related to the total sales per month (β = 0.257, p = .335)\n",
    "Therefore, we can accept H1 “A positive sentiment score of online reviews has an increasing effect on VR-device sales of Playstation.\", while we have to reject H2 “The rating of online reviews has a greater influence on VR device sales of Playstation VR than the helpfulness rating of online reviews\" and H3 \"The sentiment score of online reviews has a stronger effect on Playstation VR sales than the online rating of online reviews.\""
   ]
  },
  {
   "cell_type": "markdown",
   "metadata": {},
   "source": [
    "## 6.2 Regression HTC"
   ]
  },
  {
   "cell_type": "code",
   "execution_count": 164,
   "metadata": {
    "collapsed": true
   },
   "outputs": [],
   "source": [
    "Y_htc = regression_file_htc.purchases[:-1] ## storing the dependent variable 'purchases' as Y"
   ]
  },
  {
   "cell_type": "code",
   "execution_count": 165,
   "metadata": {
    "collapsed": true
   },
   "outputs": [],
   "source": [
    "X_htc = regression_file_htc[['review_rating','overall_tone','total_amount_reviews', 'review_comment_count']][:-1] ## storing the independent variables'review rating', 'overall tone' and 'review comment count' as X"
   ]
  },
  {
   "cell_type": "code",
   "execution_count": 166,
   "metadata": {
    "collapsed": true
   },
   "outputs": [],
   "source": [
    "result_htc = sm.OLS(Y_htc, X_htc).fit(fit_intercept=True, normalize=False) ##regression for htc"
   ]
  },
  {
   "cell_type": "code",
   "execution_count": 167,
   "metadata": {},
   "outputs": [
    {
     "name": "stderr",
     "output_type": "stream",
     "text": [
      "/Users/MBA/anaconda3/lib/python3.6/site-packages/scipy/stats/stats.py:1334: UserWarning: kurtosistest only valid for n>=20 ... continuing anyway, n=11\n",
      "  \"anyway, n=%i\" % int(n))\n"
     ]
    },
    {
     "data": {
      "text/html": [
       "<table class=\"simpletable\">\n",
       "<caption>OLS Regression Results</caption>\n",
       "<tr>\n",
       "  <th>Dep. Variable:</th>        <td>purchases</td>    <th>  R-squared:         </th> <td>   0.995</td>\n",
       "</tr>\n",
       "<tr>\n",
       "  <th>Model:</th>                   <td>OLS</td>       <th>  Adj. R-squared:    </th> <td>   0.992</td>\n",
       "</tr>\n",
       "<tr>\n",
       "  <th>Method:</th>             <td>Least Squares</td>  <th>  F-statistic:       </th> <td>   341.8</td>\n",
       "</tr>\n",
       "<tr>\n",
       "  <th>Date:</th>             <td>Fri, 30 Mar 2018</td> <th>  Prob (F-statistic):</th> <td>4.23e-08</td>\n",
       "</tr>\n",
       "<tr>\n",
       "  <th>Time:</th>                 <td>12:23:20</td>     <th>  Log-Likelihood:    </th> <td> -46.574</td>\n",
       "</tr>\n",
       "<tr>\n",
       "  <th>No. Observations:</th>      <td>    11</td>      <th>  AIC:               </th> <td>   101.1</td>\n",
       "</tr>\n",
       "<tr>\n",
       "  <th>Df Residuals:</th>          <td>     7</td>      <th>  BIC:               </th> <td>   102.7</td>\n",
       "</tr>\n",
       "<tr>\n",
       "  <th>Df Model:</th>              <td>     4</td>      <th>                     </th>     <td> </td>   \n",
       "</tr>\n",
       "<tr>\n",
       "  <th>Covariance Type:</th>      <td>nonrobust</td>    <th>                     </th>     <td> </td>   \n",
       "</tr>\n",
       "</table>\n",
       "<table class=\"simpletable\">\n",
       "<tr>\n",
       "            <td></td>              <th>coef</th>     <th>std err</th>      <th>t</th>      <th>P>|t|</th>  <th>[0.025</th>    <th>0.975]</th>  \n",
       "</tr>\n",
       "<tr>\n",
       "  <th>review_rating</th>        <td>   64.7666</td> <td>   15.666</td> <td>    4.134</td> <td> 0.004</td> <td>   27.721</td> <td>  101.812</td>\n",
       "</tr>\n",
       "<tr>\n",
       "  <th>overall_tone</th>         <td>  -49.1578</td> <td>   84.735</td> <td>   -0.580</td> <td> 0.580</td> <td> -249.525</td> <td>  151.209</td>\n",
       "</tr>\n",
       "<tr>\n",
       "  <th>total_amount_reviews</th> <td>    0.0811</td> <td>    0.412</td> <td>    0.197</td> <td> 0.850</td> <td>   -0.893</td> <td>    1.055</td>\n",
       "</tr>\n",
       "<tr>\n",
       "  <th>review_comment_count</th> <td>    9.7880</td> <td>   21.548</td> <td>    0.454</td> <td> 0.663</td> <td>  -41.165</td> <td>   60.741</td>\n",
       "</tr>\n",
       "</table>\n",
       "<table class=\"simpletable\">\n",
       "<tr>\n",
       "  <th>Omnibus:</th>       <td> 0.390</td> <th>  Durbin-Watson:     </th> <td>   3.172</td>\n",
       "</tr>\n",
       "<tr>\n",
       "  <th>Prob(Omnibus):</th> <td> 0.823</td> <th>  Jarque-Bera (JB):  </th> <td>   0.473</td>\n",
       "</tr>\n",
       "<tr>\n",
       "  <th>Skew:</th>          <td>-0.118</td> <th>  Prob(JB):          </th> <td>   0.789</td>\n",
       "</tr>\n",
       "<tr>\n",
       "  <th>Kurtosis:</th>      <td> 2.012</td> <th>  Cond. No.          </th> <td>    724.</td>\n",
       "</tr>\n",
       "</table>"
      ],
      "text/plain": [
       "<class 'statsmodels.iolib.summary.Summary'>\n",
       "\"\"\"\n",
       "                            OLS Regression Results                            \n",
       "==============================================================================\n",
       "Dep. Variable:              purchases   R-squared:                       0.995\n",
       "Model:                            OLS   Adj. R-squared:                  0.992\n",
       "Method:                 Least Squares   F-statistic:                     341.8\n",
       "Date:                Fri, 30 Mar 2018   Prob (F-statistic):           4.23e-08\n",
       "Time:                        12:23:20   Log-Likelihood:                -46.574\n",
       "No. Observations:                  11   AIC:                             101.1\n",
       "Df Residuals:                       7   BIC:                             102.7\n",
       "Df Model:                           4                                         \n",
       "Covariance Type:            nonrobust                                         \n",
       "========================================================================================\n",
       "                           coef    std err          t      P>|t|      [0.025      0.975]\n",
       "----------------------------------------------------------------------------------------\n",
       "review_rating           64.7666     15.666      4.134      0.004      27.721     101.812\n",
       "overall_tone           -49.1578     84.735     -0.580      0.580    -249.525     151.209\n",
       "total_amount_reviews     0.0811      0.412      0.197      0.850      -0.893       1.055\n",
       "review_comment_count     9.7880     21.548      0.454      0.663     -41.165      60.741\n",
       "==============================================================================\n",
       "Omnibus:                        0.390   Durbin-Watson:                   3.172\n",
       "Prob(Omnibus):                  0.823   Jarque-Bera (JB):                0.473\n",
       "Skew:                          -0.118   Prob(JB):                        0.789\n",
       "Kurtosis:                       2.012   Cond. No.                         724.\n",
       "==============================================================================\n",
       "\n",
       "Warnings:\n",
       "[1] Standard Errors assume that the covariance matrix of the errors is correctly specified.\n",
       "\"\"\""
      ]
     },
     "execution_count": 167,
     "metadata": {},
     "output_type": "execute_result"
    }
   ],
   "source": [
    "result_htc.summary() ##regression summary for htc"
   ]
  },
  {
   "cell_type": "code",
   "execution_count": 168,
   "metadata": {},
   "outputs": [
    {
     "data": {
      "text/plain": [
       "review_rating           64.766551\n",
       "overall_tone           -49.157847\n",
       "total_amount_reviews     0.081055\n",
       "review_comment_count     9.788042\n",
       "dtype: float64"
      ]
     },
     "execution_count": 168,
     "metadata": {},
     "output_type": "execute_result"
    }
   ],
   "source": [
    "result_htc.params ##shows the coefficients for each predictor"
   ]
  },
  {
   "cell_type": "markdown",
   "metadata": {},
   "source": [
    "An additional multiple linear regression was calculated to predict total sales per month based on review rating, overall tone of the review text and the review comments count for the competetive product of HTC. The result showed that three predictors explained 99,5% of the variance (Rsquared = .995, F(4,7)= 341.80, p<.001).\n",
    "It was found that review rating significantly predicted sales of HTC Vive (β = 64.766, p < .005), but neither did the overall tone (β = -49.157, p = .572), the review comment count (β = 9.788, p = .442) or the total amount of reviews per month (β = .081, p = .850). Therefore, we can reject the H4 \"For the Playstation VR the amount of reviews per month has a stronger effect on sales than for the HTC Vive.\""
   ]
  },
  {
   "cell_type": "markdown",
   "metadata": {
    "collapsed": true
   },
   "source": [
    "# 7. Conclusion"
   ]
  },
  {
   "cell_type": "markdown",
   "metadata": {},
   "source": [
    "#### 7.1 Evaluation\n",
    "\n",
    "For predicting the effect of amout of reviews, review rating, review comment count and review sentiment on sales of VR devices a multiple linear regression was performed. Taking the results for the Playstation VR into account, they show the significant relationship of the independent variables on sales. While the review rating and the review comment count have a positive effect on sales, the regression predicted a negative relationship for expressed sentiment. Thus, the more negative the sentiment and higher rating as well as comment count, the higher the sales for Playstation VR will be. For the HTC Vive, only the review rating can be considered as significant predictor.\n",
    "Based on this information, Sony is able to make predictions about 1) future sales of the own VR device and through examining online reviews for competitive products 2) make partly assumptions about the future market for Virtual Reality and competitor sales, such as from HTC. Oculus Rift was excluded from the analysis, since online reviews were not available for the whole year 2017. However, although online reviews cannot completely predict sales, they can help to reduce uncertainty about the business field and to acquire knowledge about customer satisfaction.\n"
   ]
  },
  {
   "cell_type": "markdown",
   "metadata": {},
   "source": [
    "#### 7.2 Limitations & Next Steps\n",
    "\n",
    "Several limitations have to be acknowledged when considering the results for internal purposes. Firstly, the data got scraped only from one platform (Amazon.com) and not from additional retailers. Although Amazon.com is de-facto standard for online reviews, a representative sample as well as unbiased data cannot be guaranteed and it is only applicable to the American market. Further research needs to consider additional retailers, such as Walmart.com or Bestbuy.com. \n",
    "Secondly, for sentiment analysis only SentiStrength/Vader was used to create the sentiment score. No other sentiment analysis tools have been used to verify the results. This is especially important, since compared to usual texts online reviews are rather short and therefore, can lead to biased results. Further research should consider two or more different tools, in order to ensure the quality and correctness of the sentiment analysis. \n",
    "Lastly, for predicting the sales outcome only few characteristics of online reviews have been take into account. There are also other factors which can affect the outcome. \n",
    "\n",
    "- It has to be acknowledges that the simulated dataset contained sales data with only little variance and therefore the model fit was extremely high."
   ]
  },
  {
   "cell_type": "markdown",
   "metadata": {},
   "source": [
    "#### 7.3 Ethical & Normative Concerns\n",
    "\n",
    "Compared to combining private data from different sources, using online reviews for predicting sales seems relatively harmless, since the data is freely accessible and reviews itself mostly do not contain sensible data. Especially when reviews are only used for internal purposes, namely the prediction of sales data, and will not get shared or combined with third-parties. However, it is not out of question that companies additionally scrape the authors personal data from their profile page and attempt to match them to the own customer data, or even social media data if available. In this way, Playstation would be able to construct more and more sophisticated profile from their costumers, which can be used to tailor marketing messages individually. \n",
    "Although, or maybe because, online reviews are considered as highly trustworthy source and they are proven to influence consumer choices, review manipulation has to be considered as serious threat for the meaningfulness. Research indicated, that third-parties attempt influence consumer perception about products by inducing faked positive or negative product evaluations (Hu, Bose, Koh, & Liu., 2011). Those manipulated reviews are difficult to detect and therefore, can have significant influences on the overall online representation of a product as well as on the data that is used for internal purposes.\n",
    "Lastly, depending on the product website, copyright regulations have to be minded when using specific online reviews for advertising or purposes.\n"
   ]
  },
  {
   "cell_type": "markdown",
   "metadata": {
    "collapsed": true
   },
   "source": [
    "# 8. References"
   ]
  },
  {
   "cell_type": "markdown",
   "metadata": {},
   "source": [
    "- Canalys. (2017, November 27). Media alert: Virtual reality headset shipments top 1 million for the first time [Press release]. Retrieved March 7, 2018, from https://www.canalys.com/static/press_release/2017/media-alert-271117-virtual-reality-headset-shipments-top-1-million-first-time.pdf\n",
    "\n",
    "- Chatterjee, P. (2001). Online reviews: Do consumers use them? Advances In Consumer Research, Vol Xxviii, 28, 129-133.\n",
    "\n",
    "- Hennig‐Thurau, T., Gwinner, K., Walsh, G., & Gremler, D. (2004). Electronic word‐of‐mouth via consumer‐opinion platforms: What motivates consumers to articulate themselves on the Internet? Journal of Interactive Marketing, 18(1), 38-52.\n",
    "\n",
    "- Hu, Bose, Koh, & Liu. (2011). Manipulation of online reviews: An analysis of ratings, readability, and sentiments. Decision Support Systems, Decision Support Systems.\n",
    "\n",
    "- Lee, M., & Youn, S. (2009). Electronic word of mouth (eWOM). International Journal of Advertising, 28(3), 473-499. doi:10.2501/S0265048709200709"
   ]
  },
  {
   "cell_type": "code",
   "execution_count": null,
   "metadata": {
    "collapsed": true
   },
   "outputs": [],
   "source": []
  }
 ],
 "metadata": {
  "kernelspec": {
   "display_name": "Python 3",
   "language": "python",
   "name": "python3"
  },
  "language_info": {
   "codemirror_mode": {
    "name": "ipython",
    "version": 3
   },
   "file_extension": ".py",
   "mimetype": "text/x-python",
   "name": "python",
   "nbconvert_exporter": "python",
   "pygments_lexer": "ipython3",
   "version": "3.6.3"
  }
 },
 "nbformat": 4,
 "nbformat_minor": 2
}
